{
 "cells": [
  {
   "cell_type": "markdown",
   "metadata": {},
   "source": [
    "# Import Python Library and Algorithms"
   ]
  },
  {
   "cell_type": "code",
   "execution_count": 1,
   "metadata": {
    "_cell_guid": "b1076dfc-b9ad-4769-8c92-a6c4dae69d19",
    "_uuid": "8f2839f25d086af736a60e9eeb907d3b93b6e0e5"
   },
   "outputs": [],
   "source": [
    "# This Python 3 environment comes with many helpful analytics libraries installed\n",
    "# It is defined by the kaggle/python Docker image: https://github.com/kaggle/docker-python\n",
    "# For example, here's several helpful packages to load\n",
    "\n",
    "import numpy as np # linear algebra\n",
    "import pandas as pd # data processing, CSV file I/O (e.g. pd.read_csv)\n",
    "\n",
    "# Input data files are available in the read-only \"../input/\" directory\n",
    "# For example, running this (by clicking run or pressing Shift+Enter) will list all files under the input directory\n",
    "\n",
    "import os\n",
    "for dirname, _, filenames in os.walk('./data_for_preproc'):\n",
    "    for filename in filenames:\n",
    "        print(os.path.join(dirname, filename))\n",
    "\n",
    "# You can write up to 20GB to the current directory (/kaggle/working/) that gets preserved as output when you create a version using \"Save & Run All\" \n",
    "# You can also write temporary files to /kaggle/temp/, but they won't be saved outside of the current session"
   ]
  },
  {
   "cell_type": "code",
   "execution_count": 2,
   "metadata": {},
   "outputs": [],
   "source": [
    "import numpy as np # linear algebra\n",
    "import pandas as pd # data processing, CSV file I/O (e.g. pd.read_csv)\n",
    "import sys\n",
    "import seaborn as sns\n",
    "%matplotlib inline\n",
    "import matplotlib.pyplot as plt\n",
    "\n",
    "import string\n",
    "from nltk.util import ngrams\n",
    "from collections import Counter\n",
    "from sklearn.preprocessing import PolynomialFeatures\n",
    "\n",
    "\n",
    "from sklearn.model_selection import train_test_split\n",
    "from sklearn.model_selection import KFold\n",
    "from tqdm.notebook import tqdm\n",
    "from catboost import CatBoostRegressor\n",
    "from sklearn.preprocessing import LabelEncoder\n",
    "from sklearn.ensemble import GradientBoostingRegressor, ExtraTreesRegressor, RandomForestRegressor\n",
    "from sklearn.linear_model import LogisticRegression\n"
   ]
  },
  {
   "cell_type": "code",
   "execution_count": 3,
   "metadata": {},
   "outputs": [],
   "source": [
    "import re"
   ]
  },
  {
   "cell_type": "code",
   "execution_count": 4,
   "metadata": {},
   "outputs": [],
   "source": [
    "RANDOM_SEED = 42 \n",
    "VAL_SIZE   = 0.2 # train = 0.8"
   ]
  },
  {
   "cell_type": "markdown",
   "metadata": {},
   "source": [
    "# Import Data"
   ]
  },
  {
   "cell_type": "code",
   "execution_count": 5,
   "metadata": {},
   "outputs": [
    {
     "name": "stderr",
     "output_type": "stream",
     "text": [
      "C:\\ProgramData\\Anaconda3\\lib\\site-packages\\IPython\\core\\interactiveshell.py:3146: DtypeWarning: Columns (2) have mixed types.Specify dtype option on import or set low_memory=False.\n",
      "  has_raised = await self.run_ast_nodes(code_ast.body, cell_name,\n"
     ]
    }
   ],
   "source": [
    "train = pd.read_csv('train_24_02_2021.csv') #new parse data from auto.ru\n",
    "# train = pd.read_csv('train_02_03_2021.csv') #new parse data from auto.ru\n"
   ]
  },
  {
   "cell_type": "code",
   "execution_count": 6,
   "metadata": {},
   "outputs": [],
   "source": [
    "train = pd.read_csv('train_02_03_2021.csv') #new parse data from auto.ru\n"
   ]
  },
  {
   "cell_type": "code",
   "execution_count": null,
   "metadata": {},
   "outputs": [],
   "source": []
  },
  {
   "cell_type": "code",
   "execution_count": 7,
   "metadata": {},
   "outputs": [],
   "source": [
    "test = pd.read_csv('test.csv')\n",
    "sample_submission = pd.read_csv('sample_submission.csv')"
   ]
  },
  {
   "cell_type": "markdown",
   "metadata": {},
   "source": [
    "# Data Preprocessing"
   ]
  },
  {
   "cell_type": "code",
   "execution_count": null,
   "metadata": {},
   "outputs": [],
   "source": []
  },
  {
   "cell_type": "code",
   "execution_count": null,
   "metadata": {},
   "outputs": [],
   "source": []
  },
  {
   "cell_type": "code",
   "execution_count": 8,
   "metadata": {},
   "outputs": [
    {
     "name": "stdout",
     "output_type": "stream",
     "text": [
      "<class 'pandas.core.frame.DataFrame'>\n",
      "RangeIndex: 60142 entries, 0 to 60141\n",
      "Data columns (total 35 columns):\n",
      " #   Column                Non-Null Count  Dtype  \n",
      "---  ------                --------------  -----  \n",
      " 0   bodyType              60142 non-null  object \n",
      " 1   brand                 60142 non-null  object \n",
      " 2   description           58860 non-null  object \n",
      " 3   engineDisplacement    60142 non-null  int64  \n",
      " 4   enginePower           60142 non-null  int64  \n",
      " 5   equipment_dict        50683 non-null  object \n",
      " 6   fuelType              60142 non-null  object \n",
      " 7   image                 60142 non-null  object \n",
      " 8   mileage               60142 non-null  int64  \n",
      " 9   modelDate             60142 non-null  int64  \n",
      " 10  model_info            60142 non-null  object \n",
      " 11  model_name            60142 non-null  object \n",
      " 12  name                  60142 non-null  object \n",
      " 13  numberOfDoors         60142 non-null  int64  \n",
      " 14  parsing_unixtime      60142 non-null  float64\n",
      " 15  priceCurrency         60142 non-null  object \n",
      " 16  productionDate        60142 non-null  int64  \n",
      " 17  sell_id               60142 non-null  int64  \n",
      " 18  section               60142 non-null  object \n",
      " 19  url_saleid            60142 non-null  object \n",
      " 20  super_gen             60142 non-null  object \n",
      " 21  vehicleConfiguration  60142 non-null  object \n",
      " 22  vehicleTransmission   60142 non-null  object \n",
      " 23  vendor                60142 non-null  object \n",
      " 24  Владельцы             37656 non-null  float64\n",
      " 25  ПТС                   59670 non-null  object \n",
      " 26  Привод                60142 non-null  object \n",
      " 27  Руль                  60142 non-null  object \n",
      " 28  Состояние             59081 non-null  object \n",
      " 29  Таможня               60137 non-null  object \n",
      " 30  price                 60142 non-null  int64  \n",
      " 31  auto_class            59933 non-null  object \n",
      " 32  price_segment         60142 non-null  object \n",
      " 33  seller_type           60142 non-null  object \n",
      " 34  color                 60142 non-null  object \n",
      "dtypes: float64(2), int64(8), object(25)\n",
      "memory usage: 16.1+ MB\n",
      "<class 'pandas.core.frame.DataFrame'>\n",
      "RangeIndex: 34686 entries, 0 to 34685\n",
      "Data columns (total 32 columns):\n",
      " #   Column                Non-Null Count  Dtype \n",
      "---  ------                --------------  ----- \n",
      " 0   bodyType              34686 non-null  object\n",
      " 1   brand                 34686 non-null  object\n",
      " 2   car_url               34686 non-null  object\n",
      " 3   color                 34686 non-null  object\n",
      " 4   complectation_dict    6418 non-null   object\n",
      " 5   description           34686 non-null  object\n",
      " 6   engineDisplacement    34686 non-null  object\n",
      " 7   enginePower           34686 non-null  object\n",
      " 8   equipment_dict        24690 non-null  object\n",
      " 9   fuelType              34686 non-null  object\n",
      " 10  image                 34686 non-null  object\n",
      " 11  mileage               34686 non-null  int64 \n",
      " 12  modelDate             34686 non-null  int64 \n",
      " 13  model_info            34686 non-null  object\n",
      " 14  model_name            34686 non-null  object\n",
      " 15  name                  34686 non-null  object\n",
      " 16  numberOfDoors         34686 non-null  int64 \n",
      " 17  parsing_unixtime      34686 non-null  int64 \n",
      " 18  priceCurrency         34686 non-null  object\n",
      " 19  productionDate        34686 non-null  int64 \n",
      " 20  sell_id               34686 non-null  int64 \n",
      " 21  super_gen             34686 non-null  object\n",
      " 22  vehicleConfiguration  34686 non-null  object\n",
      " 23  vehicleTransmission   34686 non-null  object\n",
      " 24  vendor                34686 non-null  object\n",
      " 25  Владельцы             34686 non-null  object\n",
      " 26  Владение              11995 non-null  object\n",
      " 27  ПТС                   34685 non-null  object\n",
      " 28  Привод                34686 non-null  object\n",
      " 29  Руль                  34686 non-null  object\n",
      " 30  Состояние             34686 non-null  object\n",
      " 31  Таможня               34686 non-null  object\n",
      "dtypes: int64(6), object(26)\n",
      "memory usage: 8.5+ MB\n"
     ]
    },
    {
     "data": {
      "text/plain": [
       "(None, None)"
      ]
     },
     "execution_count": 8,
     "metadata": {},
     "output_type": "execute_result"
    }
   ],
   "source": [
    "train.info(), test.info()"
   ]
  },
  {
   "cell_type": "code",
   "execution_count": 9,
   "metadata": {},
   "outputs": [],
   "source": [
    "# columns_drop = ['Unnamed: 0']\n",
    "# train = train.drop(columns_drop, axis=1)"
   ]
  },
  {
   "cell_type": "markdown",
   "metadata": {},
   "source": [
    "**Concatenation Train data**"
   ]
  },
  {
   "cell_type": "code",
   "execution_count": null,
   "metadata": {},
   "outputs": [],
   "source": []
  },
  {
   "cell_type": "code",
   "execution_count": 10,
   "metadata": {},
   "outputs": [],
   "source": [
    "# train = pd.concat([train, ])"
   ]
  },
  {
   "cell_type": "code",
   "execution_count": 11,
   "metadata": {},
   "outputs": [],
   "source": [
    "# train"
   ]
  },
  {
   "cell_type": "markdown",
   "metadata": {},
   "source": [
    "**Drop duplicates and cleaning train dataset**"
   ]
  },
  {
   "cell_type": "code",
   "execution_count": 12,
   "metadata": {},
   "outputs": [],
   "source": [
    "train = train.drop_duplicates()"
   ]
  },
  {
   "cell_type": "code",
   "execution_count": 13,
   "metadata": {},
   "outputs": [
    {
     "name": "stdout",
     "output_type": "stream",
     "text": [
      "<class 'pandas.core.frame.DataFrame'>\n",
      "Int64Index: 60142 entries, 0 to 60141\n",
      "Data columns (total 35 columns):\n",
      " #   Column                Non-Null Count  Dtype  \n",
      "---  ------                --------------  -----  \n",
      " 0   bodyType              60142 non-null  object \n",
      " 1   brand                 60142 non-null  object \n",
      " 2   description           58860 non-null  object \n",
      " 3   engineDisplacement    60142 non-null  int64  \n",
      " 4   enginePower           60142 non-null  int64  \n",
      " 5   equipment_dict        50683 non-null  object \n",
      " 6   fuelType              60142 non-null  object \n",
      " 7   image                 60142 non-null  object \n",
      " 8   mileage               60142 non-null  int64  \n",
      " 9   modelDate             60142 non-null  int64  \n",
      " 10  model_info            60142 non-null  object \n",
      " 11  model_name            60142 non-null  object \n",
      " 12  name                  60142 non-null  object \n",
      " 13  numberOfDoors         60142 non-null  int64  \n",
      " 14  parsing_unixtime      60142 non-null  float64\n",
      " 15  priceCurrency         60142 non-null  object \n",
      " 16  productionDate        60142 non-null  int64  \n",
      " 17  sell_id               60142 non-null  int64  \n",
      " 18  section               60142 non-null  object \n",
      " 19  url_saleid            60142 non-null  object \n",
      " 20  super_gen             60142 non-null  object \n",
      " 21  vehicleConfiguration  60142 non-null  object \n",
      " 22  vehicleTransmission   60142 non-null  object \n",
      " 23  vendor                60142 non-null  object \n",
      " 24  Владельцы             37656 non-null  float64\n",
      " 25  ПТС                   59670 non-null  object \n",
      " 26  Привод                60142 non-null  object \n",
      " 27  Руль                  60142 non-null  object \n",
      " 28  Состояние             59081 non-null  object \n",
      " 29  Таможня               60137 non-null  object \n",
      " 30  price                 60142 non-null  int64  \n",
      " 31  auto_class            59933 non-null  object \n",
      " 32  price_segment         60142 non-null  object \n",
      " 33  seller_type           60142 non-null  object \n",
      " 34  color                 60142 non-null  object \n",
      "dtypes: float64(2), int64(8), object(25)\n",
      "memory usage: 16.5+ MB\n"
     ]
    }
   ],
   "source": [
    "train.info()"
   ]
  },
  {
   "cell_type": "code",
   "execution_count": 14,
   "metadata": {},
   "outputs": [
    {
     "data": {
      "text/plain": [
       "bodyType                    0\n",
       "brand                       0\n",
       "description              1282\n",
       "engineDisplacement          0\n",
       "enginePower                 0\n",
       "equipment_dict           9459\n",
       "fuelType                    0\n",
       "image                       0\n",
       "mileage                     0\n",
       "modelDate                   0\n",
       "model_info                  0\n",
       "model_name                  0\n",
       "name                        0\n",
       "numberOfDoors               0\n",
       "parsing_unixtime            0\n",
       "priceCurrency               0\n",
       "productionDate              0\n",
       "sell_id                     0\n",
       "section                     0\n",
       "url_saleid                  0\n",
       "super_gen                   0\n",
       "vehicleConfiguration        0\n",
       "vehicleTransmission         0\n",
       "vendor                      0\n",
       "Владельцы               22486\n",
       "ПТС                       472\n",
       "Привод                      0\n",
       "Руль                        0\n",
       "Состояние                1061\n",
       "Таможня                     5\n",
       "price                       0\n",
       "auto_class                209\n",
       "price_segment               0\n",
       "seller_type                 0\n",
       "color                       0\n",
       "dtype: int64"
      ]
     },
     "execution_count": 14,
     "metadata": {},
     "output_type": "execute_result"
    }
   ],
   "source": [
    "train.isna().sum()"
   ]
  },
  {
   "cell_type": "markdown",
   "metadata": {},
   "source": [
    "**У признака Price есть пропущенные значения. Сразу удаляем их и почистим строки**"
   ]
  },
  {
   "cell_type": "code",
   "execution_count": 15,
   "metadata": {},
   "outputs": [],
   "source": [
    "train.dropna(subset=['price', 'Привод', 'Руль'], inplace=True)"
   ]
  },
  {
   "cell_type": "code",
   "execution_count": 16,
   "metadata": {},
   "outputs": [
    {
     "data": {
      "text/html": [
       "<div>\n",
       "<style scoped>\n",
       "    .dataframe tbody tr th:only-of-type {\n",
       "        vertical-align: middle;\n",
       "    }\n",
       "\n",
       "    .dataframe tbody tr th {\n",
       "        vertical-align: top;\n",
       "    }\n",
       "\n",
       "    .dataframe thead th {\n",
       "        text-align: right;\n",
       "    }\n",
       "</style>\n",
       "<table border=\"1\" class=\"dataframe\">\n",
       "  <thead>\n",
       "    <tr style=\"text-align: right;\">\n",
       "      <th></th>\n",
       "      <th>0</th>\n",
       "      <th>1</th>\n",
       "      <th>2</th>\n",
       "    </tr>\n",
       "  </thead>\n",
       "  <tbody>\n",
       "    <tr>\n",
       "      <th>bodyType</th>\n",
       "      <td>лифтбек</td>\n",
       "      <td>лифтбек</td>\n",
       "      <td>лифтбек</td>\n",
       "    </tr>\n",
       "    <tr>\n",
       "      <th>brand</th>\n",
       "      <td>SKODA</td>\n",
       "      <td>SKODA</td>\n",
       "      <td>SKODA</td>\n",
       "    </tr>\n",
       "    <tr>\n",
       "      <th>car_url</th>\n",
       "      <td>https://auto.ru/cars/used/sale/skoda/octavia/1...</td>\n",
       "      <td>https://auto.ru/cars/used/sale/skoda/octavia/1...</td>\n",
       "      <td>https://auto.ru/cars/used/sale/skoda/superb/11...</td>\n",
       "    </tr>\n",
       "    <tr>\n",
       "      <th>color</th>\n",
       "      <td>синий</td>\n",
       "      <td>чёрный</td>\n",
       "      <td>серый</td>\n",
       "    </tr>\n",
       "    <tr>\n",
       "      <th>complectation_dict</th>\n",
       "      <td>NaN</td>\n",
       "      <td>NaN</td>\n",
       "      <td>{\"id\":\"20026336\",\"name\":\"Ambition\",\"available_...</td>\n",
       "    </tr>\n",
       "    <tr>\n",
       "      <th>description</th>\n",
       "      <td>Все автомобили, представленные в продаже, прох...</td>\n",
       "      <td>ЛОТ: 01217195\\nАвтопрага Север\\nДанный автомоб...</td>\n",
       "      <td>Все автомобили, представленные в продаже, прох...</td>\n",
       "    </tr>\n",
       "    <tr>\n",
       "      <th>engineDisplacement</th>\n",
       "      <td>1.2 LTR</td>\n",
       "      <td>1.6 LTR</td>\n",
       "      <td>1.8 LTR</td>\n",
       "    </tr>\n",
       "    <tr>\n",
       "      <th>enginePower</th>\n",
       "      <td>105 N12</td>\n",
       "      <td>110 N12</td>\n",
       "      <td>152 N12</td>\n",
       "    </tr>\n",
       "    <tr>\n",
       "      <th>equipment_dict</th>\n",
       "      <td>{\"engine-proof\":true,\"tinted-glass\":true,\"airb...</td>\n",
       "      <td>{\"cruise-control\":true,\"asr\":true,\"esp\":true,\"...</td>\n",
       "      <td>{\"cruise-control\":true,\"tinted-glass\":true,\"es...</td>\n",
       "    </tr>\n",
       "    <tr>\n",
       "      <th>fuelType</th>\n",
       "      <td>бензин</td>\n",
       "      <td>бензин</td>\n",
       "      <td>бензин</td>\n",
       "    </tr>\n",
       "    <tr>\n",
       "      <th>image</th>\n",
       "      <td>https://autoru.naydex.net/o9DBXQ270/5ac010hAY0...</td>\n",
       "      <td>https://autoru.naydex.net/o9DBXQ270/5ac010hAY0...</td>\n",
       "      <td>https://avatars.mds.yandex.net/get-autoru-vos/...</td>\n",
       "    </tr>\n",
       "    <tr>\n",
       "      <th>mileage</th>\n",
       "      <td>74000</td>\n",
       "      <td>60563</td>\n",
       "      <td>88000</td>\n",
       "    </tr>\n",
       "    <tr>\n",
       "      <th>modelDate</th>\n",
       "      <td>2013</td>\n",
       "      <td>2017</td>\n",
       "      <td>2013</td>\n",
       "    </tr>\n",
       "    <tr>\n",
       "      <th>model_info</th>\n",
       "      <td>{\"code\":\"OCTAVIA\",\"name\":\"Octavia\",\"ru_name\":\"...</td>\n",
       "      <td>{\"code\":\"OCTAVIA\",\"name\":\"Octavia\",\"ru_name\":\"...</td>\n",
       "      <td>{\"code\":\"SUPERB\",\"name\":\"Superb\",\"ru_name\":\"Су...</td>\n",
       "    </tr>\n",
       "    <tr>\n",
       "      <th>model_name</th>\n",
       "      <td>OCTAVIA</td>\n",
       "      <td>OCTAVIA</td>\n",
       "      <td>SUPERB</td>\n",
       "    </tr>\n",
       "    <tr>\n",
       "      <th>name</th>\n",
       "      <td>1.2 AMT (105 л.с.)</td>\n",
       "      <td>1.6 MT (110 л.с.)</td>\n",
       "      <td>DSG 1.8 AMT (152 л.с.)</td>\n",
       "    </tr>\n",
       "    <tr>\n",
       "      <th>numberOfDoors</th>\n",
       "      <td>5</td>\n",
       "      <td>5</td>\n",
       "      <td>5</td>\n",
       "    </tr>\n",
       "    <tr>\n",
       "      <th>parsing_unixtime</th>\n",
       "      <td>1603226273</td>\n",
       "      <td>1603226277</td>\n",
       "      <td>1603226280</td>\n",
       "    </tr>\n",
       "    <tr>\n",
       "      <th>priceCurrency</th>\n",
       "      <td>RUB</td>\n",
       "      <td>RUB</td>\n",
       "      <td>RUB</td>\n",
       "    </tr>\n",
       "    <tr>\n",
       "      <th>productionDate</th>\n",
       "      <td>2014</td>\n",
       "      <td>2017</td>\n",
       "      <td>2014</td>\n",
       "    </tr>\n",
       "    <tr>\n",
       "      <th>sell_id</th>\n",
       "      <td>1100575026</td>\n",
       "      <td>1100549428</td>\n",
       "      <td>1100658222</td>\n",
       "    </tr>\n",
       "    <tr>\n",
       "      <th>super_gen</th>\n",
       "      <td>{\"id\":\"10373605\",\"displacement\":1197,\"engine_t...</td>\n",
       "      <td>{\"id\":\"20913311\",\"displacement\":1598,\"engine_t...</td>\n",
       "      <td>{\"id\":\"20026323\",\"nameplate\":\"DSG\",\"displaceme...</td>\n",
       "    </tr>\n",
       "    <tr>\n",
       "      <th>vehicleConfiguration</th>\n",
       "      <td>LIFTBACK ROBOT 1.2</td>\n",
       "      <td>LIFTBACK MECHANICAL 1.6</td>\n",
       "      <td>LIFTBACK ROBOT 1.8</td>\n",
       "    </tr>\n",
       "    <tr>\n",
       "      <th>vehicleTransmission</th>\n",
       "      <td>роботизированная</td>\n",
       "      <td>механическая</td>\n",
       "      <td>роботизированная</td>\n",
       "    </tr>\n",
       "    <tr>\n",
       "      <th>vendor</th>\n",
       "      <td>EUROPEAN</td>\n",
       "      <td>EUROPEAN</td>\n",
       "      <td>EUROPEAN</td>\n",
       "    </tr>\n",
       "    <tr>\n",
       "      <th>Владельцы</th>\n",
       "      <td>3 или более</td>\n",
       "      <td>1 владелец</td>\n",
       "      <td>1 владелец</td>\n",
       "    </tr>\n",
       "    <tr>\n",
       "      <th>Владение</th>\n",
       "      <td>NaN</td>\n",
       "      <td>NaN</td>\n",
       "      <td>NaN</td>\n",
       "    </tr>\n",
       "    <tr>\n",
       "      <th>ПТС</th>\n",
       "      <td>Оригинал</td>\n",
       "      <td>Оригинал</td>\n",
       "      <td>Оригинал</td>\n",
       "    </tr>\n",
       "    <tr>\n",
       "      <th>Привод</th>\n",
       "      <td>передний</td>\n",
       "      <td>передний</td>\n",
       "      <td>передний</td>\n",
       "    </tr>\n",
       "    <tr>\n",
       "      <th>Руль</th>\n",
       "      <td>Левый</td>\n",
       "      <td>Левый</td>\n",
       "      <td>Левый</td>\n",
       "    </tr>\n",
       "    <tr>\n",
       "      <th>Состояние</th>\n",
       "      <td>Не требует ремонта</td>\n",
       "      <td>Не требует ремонта</td>\n",
       "      <td>Не требует ремонта</td>\n",
       "    </tr>\n",
       "    <tr>\n",
       "      <th>Таможня</th>\n",
       "      <td>Растаможен</td>\n",
       "      <td>Растаможен</td>\n",
       "      <td>Растаможен</td>\n",
       "    </tr>\n",
       "  </tbody>\n",
       "</table>\n",
       "</div>"
      ],
      "text/plain": [
       "                                                                      0  \\\n",
       "bodyType                                                        лифтбек   \n",
       "brand                                                             SKODA   \n",
       "car_url               https://auto.ru/cars/used/sale/skoda/octavia/1...   \n",
       "color                                                             синий   \n",
       "complectation_dict                                                  NaN   \n",
       "description           Все автомобили, представленные в продаже, прох...   \n",
       "engineDisplacement                                              1.2 LTR   \n",
       "enginePower                                                     105 N12   \n",
       "equipment_dict        {\"engine-proof\":true,\"tinted-glass\":true,\"airb...   \n",
       "fuelType                                                         бензин   \n",
       "image                 https://autoru.naydex.net/o9DBXQ270/5ac010hAY0...   \n",
       "mileage                                                           74000   \n",
       "modelDate                                                          2013   \n",
       "model_info            {\"code\":\"OCTAVIA\",\"name\":\"Octavia\",\"ru_name\":\"...   \n",
       "model_name                                                      OCTAVIA   \n",
       "name                                                 1.2 AMT (105 л.с.)   \n",
       "numberOfDoors                                                         5   \n",
       "parsing_unixtime                                             1603226273   \n",
       "priceCurrency                                                       RUB   \n",
       "productionDate                                                     2014   \n",
       "sell_id                                                      1100575026   \n",
       "super_gen             {\"id\":\"10373605\",\"displacement\":1197,\"engine_t...   \n",
       "vehicleConfiguration                                 LIFTBACK ROBOT 1.2   \n",
       "vehicleTransmission                                    роботизированная   \n",
       "vendor                                                         EUROPEAN   \n",
       "Владельцы                                                   3 или более   \n",
       "Владение                                                            NaN   \n",
       "ПТС                                                            Оригинал   \n",
       "Привод                                                         передний   \n",
       "Руль                                                              Левый   \n",
       "Состояние                                            Не требует ремонта   \n",
       "Таможня                                                      Растаможен   \n",
       "\n",
       "                                                                      1  \\\n",
       "bodyType                                                        лифтбек   \n",
       "brand                                                             SKODA   \n",
       "car_url               https://auto.ru/cars/used/sale/skoda/octavia/1...   \n",
       "color                                                            чёрный   \n",
       "complectation_dict                                                  NaN   \n",
       "description           ЛОТ: 01217195\\nАвтопрага Север\\nДанный автомоб...   \n",
       "engineDisplacement                                              1.6 LTR   \n",
       "enginePower                                                     110 N12   \n",
       "equipment_dict        {\"cruise-control\":true,\"asr\":true,\"esp\":true,\"...   \n",
       "fuelType                                                         бензин   \n",
       "image                 https://autoru.naydex.net/o9DBXQ270/5ac010hAY0...   \n",
       "mileage                                                           60563   \n",
       "modelDate                                                          2017   \n",
       "model_info            {\"code\":\"OCTAVIA\",\"name\":\"Octavia\",\"ru_name\":\"...   \n",
       "model_name                                                      OCTAVIA   \n",
       "name                                                  1.6 MT (110 л.с.)   \n",
       "numberOfDoors                                                         5   \n",
       "parsing_unixtime                                             1603226277   \n",
       "priceCurrency                                                       RUB   \n",
       "productionDate                                                     2017   \n",
       "sell_id                                                      1100549428   \n",
       "super_gen             {\"id\":\"20913311\",\"displacement\":1598,\"engine_t...   \n",
       "vehicleConfiguration                            LIFTBACK MECHANICAL 1.6   \n",
       "vehicleTransmission                                        механическая   \n",
       "vendor                                                         EUROPEAN   \n",
       "Владельцы                                                    1 владелец   \n",
       "Владение                                                            NaN   \n",
       "ПТС                                                            Оригинал   \n",
       "Привод                                                         передний   \n",
       "Руль                                                              Левый   \n",
       "Состояние                                            Не требует ремонта   \n",
       "Таможня                                                      Растаможен   \n",
       "\n",
       "                                                                      2  \n",
       "bodyType                                                        лифтбек  \n",
       "brand                                                             SKODA  \n",
       "car_url               https://auto.ru/cars/used/sale/skoda/superb/11...  \n",
       "color                                                             серый  \n",
       "complectation_dict    {\"id\":\"20026336\",\"name\":\"Ambition\",\"available_...  \n",
       "description           Все автомобили, представленные в продаже, прох...  \n",
       "engineDisplacement                                              1.8 LTR  \n",
       "enginePower                                                     152 N12  \n",
       "equipment_dict        {\"cruise-control\":true,\"tinted-glass\":true,\"es...  \n",
       "fuelType                                                         бензин  \n",
       "image                 https://avatars.mds.yandex.net/get-autoru-vos/...  \n",
       "mileage                                                           88000  \n",
       "modelDate                                                          2013  \n",
       "model_info            {\"code\":\"SUPERB\",\"name\":\"Superb\",\"ru_name\":\"Су...  \n",
       "model_name                                                       SUPERB  \n",
       "name                                             DSG 1.8 AMT (152 л.с.)  \n",
       "numberOfDoors                                                         5  \n",
       "parsing_unixtime                                             1603226280  \n",
       "priceCurrency                                                       RUB  \n",
       "productionDate                                                     2014  \n",
       "sell_id                                                      1100658222  \n",
       "super_gen             {\"id\":\"20026323\",\"nameplate\":\"DSG\",\"displaceme...  \n",
       "vehicleConfiguration                                 LIFTBACK ROBOT 1.8  \n",
       "vehicleTransmission                                    роботизированная  \n",
       "vendor                                                         EUROPEAN  \n",
       "Владельцы                                                    1 владелец  \n",
       "Владение                                                            NaN  \n",
       "ПТС                                                            Оригинал  \n",
       "Привод                                                         передний  \n",
       "Руль                                                              Левый  \n",
       "Состояние                                            Не требует ремонта  \n",
       "Таможня                                                      Растаможен  "
      ]
     },
     "execution_count": 16,
     "metadata": {},
     "output_type": "execute_result"
    }
   ],
   "source": [
    "test.head(3).T\n"
   ]
  },
  {
   "cell_type": "code",
   "execution_count": 17,
   "metadata": {},
   "outputs": [
    {
     "name": "stdout",
     "output_type": "stream",
     "text": [
      "<class 'pandas.core.frame.DataFrame'>\n",
      "RangeIndex: 34686 entries, 0 to 34685\n",
      "Data columns (total 32 columns):\n",
      " #   Column                Non-Null Count  Dtype \n",
      "---  ------                --------------  ----- \n",
      " 0   bodyType              34686 non-null  object\n",
      " 1   brand                 34686 non-null  object\n",
      " 2   car_url               34686 non-null  object\n",
      " 3   color                 34686 non-null  object\n",
      " 4   complectation_dict    6418 non-null   object\n",
      " 5   description           34686 non-null  object\n",
      " 6   engineDisplacement    34686 non-null  object\n",
      " 7   enginePower           34686 non-null  object\n",
      " 8   equipment_dict        24690 non-null  object\n",
      " 9   fuelType              34686 non-null  object\n",
      " 10  image                 34686 non-null  object\n",
      " 11  mileage               34686 non-null  int64 \n",
      " 12  modelDate             34686 non-null  int64 \n",
      " 13  model_info            34686 non-null  object\n",
      " 14  model_name            34686 non-null  object\n",
      " 15  name                  34686 non-null  object\n",
      " 16  numberOfDoors         34686 non-null  int64 \n",
      " 17  parsing_unixtime      34686 non-null  int64 \n",
      " 18  priceCurrency         34686 non-null  object\n",
      " 19  productionDate        34686 non-null  int64 \n",
      " 20  sell_id               34686 non-null  int64 \n",
      " 21  super_gen             34686 non-null  object\n",
      " 22  vehicleConfiguration  34686 non-null  object\n",
      " 23  vehicleTransmission   34686 non-null  object\n",
      " 24  vendor                34686 non-null  object\n",
      " 25  Владельцы             34686 non-null  object\n",
      " 26  Владение              11995 non-null  object\n",
      " 27  ПТС                   34685 non-null  object\n",
      " 28  Привод                34686 non-null  object\n",
      " 29  Руль                  34686 non-null  object\n",
      " 30  Состояние             34686 non-null  object\n",
      " 31  Таможня               34686 non-null  object\n",
      "dtypes: int64(6), object(26)\n",
      "memory usage: 8.5+ MB\n"
     ]
    },
    {
     "data": {
      "text/plain": [
       "(None,\n",
       " bodyType                    0\n",
       " brand                       0\n",
       " car_url                     0\n",
       " color                       0\n",
       " complectation_dict      28268\n",
       " description                 0\n",
       " engineDisplacement          0\n",
       " enginePower                 0\n",
       " equipment_dict           9996\n",
       " fuelType                    0\n",
       " image                       0\n",
       " mileage                     0\n",
       " modelDate                   0\n",
       " model_info                  0\n",
       " model_name                  0\n",
       " name                        0\n",
       " numberOfDoors               0\n",
       " parsing_unixtime            0\n",
       " priceCurrency               0\n",
       " productionDate              0\n",
       " sell_id                     0\n",
       " super_gen                   0\n",
       " vehicleConfiguration        0\n",
       " vehicleTransmission         0\n",
       " vendor                      0\n",
       " Владельцы                   0\n",
       " Владение                22691\n",
       " ПТС                         1\n",
       " Привод                      0\n",
       " Руль                        0\n",
       " Состояние                   0\n",
       " Таможня                     0\n",
       " dtype: int64)"
      ]
     },
     "execution_count": 17,
     "metadata": {},
     "output_type": "execute_result"
    }
   ],
   "source": [
    "test.info(), test.isna().sum()"
   ]
  },
  {
   "cell_type": "markdown",
   "metadata": {},
   "source": [
    "Тестовый датасет состоит из 32 признака и 34686 наблюдений.Из них dtypes: int64(6), object(26).А так же test имеет пропущенные данные."
   ]
  },
  {
   "cell_type": "code",
   "execution_count": 18,
   "metadata": {},
   "outputs": [],
   "source": [
    "categorical_feature = ['brand','color','fuelType','vehicleTransmission','vendor', 'bodyType']"
   ]
  },
  {
   "cell_type": "code",
   "execution_count": 19,
   "metadata": {},
   "outputs": [
    {
     "data": {
      "text/plain": [
       "brand                   23\n",
       "color                   16\n",
       "fuelType                 5\n",
       "vehicleTransmission      4\n",
       "vendor                   3\n",
       "bodyType               120\n",
       "dtype: int64"
      ]
     },
     "execution_count": 19,
     "metadata": {},
     "output_type": "execute_result"
    }
   ],
   "source": [
    "train[categorical_feature].nunique()"
   ]
  },
  {
   "cell_type": "markdown",
   "metadata": {},
   "source": [
    "# Data preprocessing"
   ]
  },
  {
   "cell_type": "markdown",
   "metadata": {},
   "source": [
    "**Создадим копии train и test . И будем работать с ними **"
   ]
  },
  {
   "cell_type": "code",
   "execution_count": 20,
   "metadata": {},
   "outputs": [],
   "source": [
    "traincc = train.copy()\n",
    "testcc = test.copy()"
   ]
  },
  {
   "cell_type": "code",
   "execution_count": 21,
   "metadata": {},
   "outputs": [],
   "source": [
    "def preprocessing_train(df_input):\n",
    "    \n",
    "    \n",
    "    df_output = df_input.copy()\n",
    "    \n",
    "    df_output.drop(['Состояние', 'Таможня', 'priceCurrency'], axis=1, inplace=True) #  все машины растаможены и в хорошем состояние\n",
    "    \n",
    "    \n",
    "    \n",
    "    # Feature Engineering \n",
    "    df_output['enginePower'] = df_output['enginePower'].apply(lambda x: int(re.findall('(\\d+)', str(x))[0]))\n",
    "    \n",
    "    # color\n",
    "    colors = {'040001': 'чёрный','FAFBFB': 'белый','97948F': 'серый','CACECB': 'серебристый','0000CC': 'синий',\n",
    "              'EE1D19': 'красный','200204': 'бордовый','007F00': 'зелёный','C49648': 'коричневый','22A0F8': 'голубой',\n",
    "              'DEA522': 'золотистый','FFD600': 'жёлтый','660099': 'пурпурный','4A2197': 'фиолетовый','FF8649': 'бежевый',\n",
    "              'FFC0CB': 'розовый'}\n",
    "    df_output['color'] = df_output['color'].replace(colors).apply(lambda x: x.lower())\n",
    "    \n",
    "    \n",
    "    # vehicleTransmission\n",
    "    \n",
    "    vehicle = {'AUTOMATIC':'автоматическая','MECHANICAL':'механическая',\n",
    "               'ROBOT':'роботизированная','VARIATOR':'вариатор'}\n",
    "    df_output['vehicleTransmission'] = df_output['vehicleTransmission'].replace(vehicle)\n",
    "    \n",
    "    # ПТС\n",
    "    df_output['ПТС'] = df_output['ПТС'].map({'ORIGINAL':'Оригинал','DUPLICATE':'Дубликат'})\n",
    "    df_output['ПТС'] = df_output['ПТС'].fillna('Оригинал') # Заменяем пустых на более встречающийся\n",
    "    \n",
    "    # В train есть пустые значение,заменим их как неизвестные.\n",
    "    \n",
    "    df_output['vendor'] = df_output['vendor'].fillna('V_UNKNOWN') # Заменяем пустых на V_UNKNOWN\n",
    "    \n",
    "    \n",
    "    # description\n",
    "    \n",
    "    df_output['description'] = df_output['description'].fillna('[]') \n",
    "    \n",
    "    df_output['description_word'] = df_output['description'].apply(lambda x: [str(i).lower() for i in x.split()])\n",
    "    \n",
    "    df_output['leather']= df_output['description_word'].apply(lambda x: \n",
    "                                                1 if ('темный' and 'салон') in x else 0)\n",
    "    df_output['carter']= df_output['description_word'].apply(lambda x: \n",
    "                                                1 if ('защита' and 'картера') in x else 0)\n",
    "    df_output['ABS']= df_output['description_word'].apply(lambda x: \n",
    "                                                1 if ('антиблокировочная' and 'система') in x else 0)\n",
    "    df_output['airbags']= df_output['description_word'].apply(lambda x: \n",
    "                                                1 if ('подушки' and 'безопасности') in x else 0)\n",
    "    df_output['immob']= df_output['description_word'].apply(lambda x: \n",
    "                                                1 if ('иммобилайзер') in x else 0)\n",
    "    df_output['central_locking']= df_output['description_word'].apply(lambda x: \n",
    "                                                1 if ('центральный' and 'замок') in x else 0)\n",
    "    df_output['on_board_computer']= df_output['description_word'].apply(lambda x: \n",
    "                                                1 if ('бортовой' and 'компьютер') in x else 0)\n",
    "    df_output['cruise_control']= df_output['description_word'].apply(lambda x: \n",
    "                                                1 if ('круиз-контроль') in x else 0)\n",
    "    df_output['climat_control']= df_output['description_word'].apply(lambda x: \n",
    "                                                1 if ('климат-контроль') in x else 0)\n",
    "    df_output['multi_rudder']= df_output['description_word'].apply(lambda x: \n",
    "                                                1 if ('мультифункциональный' and 'руль') in x else 0)\n",
    "    df_output['power_steering']= df_output['description_word'].apply(lambda x: \n",
    "                                                1 if ('гидроусилитель' or 'гидро' or 'усилитель' and 'руля') in x else 0)\n",
    "    df_output['light_and_rain_sensors']= df_output['description_word'].apply(lambda x: \n",
    "                                                1 if ('датчики' and 'света' and 'дождя') in x else 0)\n",
    "    df_output['сarbon_body_kits']= df_output['description_word'].apply(lambda x: \n",
    "                                                1 if ('карбоновые' and 'обвесы') in x else 0)\n",
    "    df_output['rear_diffuser_rkp']= df_output['description_word'].apply(lambda x: \n",
    "                                                1 if ('задний' and 'диффузор') in x else 0)\n",
    "    df_output['door_closers']= df_output['description_word'].apply(lambda x: \n",
    "                                                1 if ('доводчики' and 'дверей') in x else 0)\n",
    "    df_output['rear_view_camera']= df_output['description_word'].apply(lambda x: \n",
    "                                                1 if ('камера' or 'видеокамера' and 'заднего' and 'вида') in x else 0)\n",
    "    df_output['amg']= df_output['description_word'].apply(lambda x: \n",
    "                                                1 if ('amg') in x else 0)\n",
    "    df_output['bi_xenon_headlights']= df_output['description_word'].apply(lambda x: \n",
    "                                                1 if ('биксеноновые' and 'фары') in x else 0)\n",
    "    df_output['from_salon']= df_output['description_word'].apply(lambda x: \n",
    "                                                1 if ('рольф' or 'панавто' or 'дилер' or 'кредит' or 'ликвидация') in x else 0)\n",
    "    df_output['alloy_wheels']= df_output['description_word'].apply(lambda x: \n",
    "                                                1 if ('легкосплавные' or 'колесные' or 'диски') in x else 0)\n",
    "    df_output['parking_sensors']= df_output['description_word'].apply(lambda x: \n",
    "                                                1 if ('парктроник' or 'парктронник') in x else 0)\n",
    "    df_output['dents']= df_output['description_word'].apply(lambda x: \n",
    "                                                1 if ('вмятины' or 'вмятина' or 'царапина' or 'царапины' or 'трещина') in x else 0)\n",
    "    df_output['roof_with_panoramic_view']= df_output['description_word'].apply(lambda x: \n",
    "                                                1 if ('панорамная' and 'крыша') in x else 0)\n",
    "    \n",
    "    # ################### fix ############################################################## \n",
    "    df_output['productionDate'] = df_output['productionDate'].values.astype('int64')\n",
    "    df_output['sell_id'] = df_output['sell_id'].values.astype('int64')\n",
    "    df_output['modelDate'] = df_output['modelDate'].values.astype('int64')\n",
    "    df_output['numberOfDoors'] = df_output['numberOfDoors'].values.astype('int64')\n",
    "    df_output['mileage'] = df_output['mileage'].values.astype('int64')\n",
    "    df_output['mileageNAN'] = df_output['mileage'].apply(lambda x: 1 if x == 0 else 0)\n",
    "    \n",
    "    return df_output"
   ]
  },
  {
   "cell_type": "code",
   "execution_count": 22,
   "metadata": {},
   "outputs": [],
   "source": [
    "def preprocessing_test(df_input):\n",
    "    \n",
    "    \n",
    "    df_output = df_input.copy()\n",
    "    \n",
    "    df_output.drop(['Состояние', 'Таможня', 'priceCurrency'], axis=1, inplace=True) #  все машины растаможены и в хорошем состояние\n",
    "    \n",
    "    \n",
    "    \n",
    "    # Feature Engineering \n",
    "    df_output['enginePower'] = df_output['enginePower'].apply(lambda x: int(re.findall('(\\d+)', str(x))[0]))\n",
    "    \n",
    "    # description\n",
    "    \n",
    "    df_output['description'] = df_output['description'].fillna('[]') \n",
    "    \n",
    "    df_output['description_word'] = df_output['description'].apply(lambda x: [str(i).lower() for i in x.split()])\n",
    "    \n",
    "    df_output['leather']= df_output['description_word'].apply(lambda x: \n",
    "                                                1 if ('темный' and 'салон') in x else 0)\n",
    "    df_output['carter']= df_output['description_word'].apply(lambda x: \n",
    "                                                1 if ('защита' and 'картера') in x else 0)\n",
    "    df_output['ABS']= df_output['description_word'].apply(lambda x: \n",
    "                                                1 if ('антиблокировочная' and 'система') in x else 0)\n",
    "    df_output['airbags']= df_output['description_word'].apply(lambda x: \n",
    "                                                1 if ('подушки' and 'безопасности') in x else 0)\n",
    "    df_output['immob']= df_output['description_word'].apply(lambda x: \n",
    "                                                1 if ('иммобилайзер') in x else 0)\n",
    "    df_output['central_locking']= df_output['description_word'].apply(lambda x: \n",
    "                                                1 if ('центральный' and 'замок') in x else 0)\n",
    "    df_output['on_board_computer']= df_output['description_word'].apply(lambda x: \n",
    "                                                1 if ('бортовой' and 'компьютер') in x else 0)\n",
    "    df_output['cruise_control']= df_output['description_word'].apply(lambda x: \n",
    "                                                1 if ('круиз-контроль') in x else 0)\n",
    "    df_output['climat_control']= df_output['description_word'].apply(lambda x: \n",
    "                                                1 if ('климат-контроль') in x else 0)\n",
    "    df_output['multi_rudder']= df_output['description_word'].apply(lambda x: \n",
    "                                                1 if ('мультифункциональный' and 'руль') in x else 0)\n",
    "    df_output['power_steering']= df_output['description_word'].apply(lambda x: \n",
    "                                                1 if ('гидроусилитель' or 'гидро' or 'усилитель' and 'руля') in x else 0)\n",
    "    df_output['light_and_rain_sensors']= df_output['description_word'].apply(lambda x: \n",
    "                                                1 if ('датчики' and 'света' and 'дождя') in x else 0)\n",
    "    df_output['сarbon_body_kits']= df_output['description_word'].apply(lambda x: \n",
    "                                                1 if ('карбоновые' and 'обвесы') in x else 0)\n",
    "    df_output['rear_diffuser_rkp']= df_output['description_word'].apply(lambda x: \n",
    "                                                1 if ('задний' and 'диффузор') in x else 0)\n",
    "    df_output['door_closers']= df_output['description_word'].apply(lambda x: \n",
    "                                                1 if ('доводчики' and 'дверей') in x else 0)\n",
    "    df_output['rear_view_camera']= df_output['description_word'].apply(lambda x: \n",
    "                                                1 if ('камера' or 'видеокамера' and 'заднего' and 'вида') in x else 0)\n",
    "    df_output['amg']= df_output['description_word'].apply(lambda x: \n",
    "                                                1 if ('amg') in x else 0)\n",
    "    df_output['bi_xenon_headlights']= df_output['description_word'].apply(lambda x: \n",
    "                                                1 if ('биксеноновые' and 'фары') in x else 0)\n",
    "    df_output['from_salon']= df_output['description_word'].apply(lambda x: \n",
    "                                                1 if ('рольф' or 'панавто' or 'дилер' or 'кредит' or 'ликвидация') in x else 0)\n",
    "    df_output['alloy_wheels']= df_output['description_word'].apply(lambda x: \n",
    "                                                1 if ('легкосплавные' or 'колесные' or 'диски') in x else 0)\n",
    "    df_output['parking_sensors']= df_output['description_word'].apply(lambda x: \n",
    "                                                1 if ('парктроник' or 'парктронник') in x else 0)\n",
    "    df_output['dents']= df_output['description_word'].apply(lambda x: \n",
    "                                                1 if ('вмятины' or 'вмятина' or 'царапина' or 'царапины' or 'трещина') in x else 0)\n",
    "    df_output['roof_with_panoramic_view']= df_output['description_word'].apply(lambda x: \n",
    "                                                1 if ('панорамная' and 'крыша') in x else 0)\n",
    "    \n",
    "    return df_output"
   ]
  },
  {
   "cell_type": "code",
   "execution_count": 23,
   "metadata": {},
   "outputs": [],
   "source": [
    "traincc = preprocessing_train(traincc)\n",
    "testcc = preprocessing_test(testcc)\n"
   ]
  },
  {
   "cell_type": "code",
   "execution_count": 24,
   "metadata": {},
   "outputs": [
    {
     "name": "stdout",
     "output_type": "stream",
     "text": [
      "<class 'pandas.core.frame.DataFrame'>\n",
      "Int64Index: 60142 entries, 0 to 60141\n",
      "Data columns (total 57 columns):\n",
      " #   Column                    Non-Null Count  Dtype  \n",
      "---  ------                    --------------  -----  \n",
      " 0   bodyType                  60142 non-null  object \n",
      " 1   brand                     60142 non-null  object \n",
      " 2   description               60142 non-null  object \n",
      " 3   engineDisplacement        60142 non-null  int64  \n",
      " 4   enginePower               60142 non-null  int64  \n",
      " 5   equipment_dict            50683 non-null  object \n",
      " 6   fuelType                  60142 non-null  object \n",
      " 7   image                     60142 non-null  object \n",
      " 8   mileage                   60142 non-null  int64  \n",
      " 9   modelDate                 60142 non-null  int64  \n",
      " 10  model_info                60142 non-null  object \n",
      " 11  model_name                60142 non-null  object \n",
      " 12  name                      60142 non-null  object \n",
      " 13  numberOfDoors             60142 non-null  int64  \n",
      " 14  parsing_unixtime          60142 non-null  float64\n",
      " 15  productionDate            60142 non-null  int64  \n",
      " 16  sell_id                   60142 non-null  int64  \n",
      " 17  section                   60142 non-null  object \n",
      " 18  url_saleid                60142 non-null  object \n",
      " 19  super_gen                 60142 non-null  object \n",
      " 20  vehicleConfiguration      60142 non-null  object \n",
      " 21  vehicleTransmission       60142 non-null  object \n",
      " 22  vendor                    60142 non-null  object \n",
      " 23  Владельцы                 37656 non-null  float64\n",
      " 24  ПТС                       60142 non-null  object \n",
      " 25  Привод                    60142 non-null  object \n",
      " 26  Руль                      60142 non-null  object \n",
      " 27  price                     60142 non-null  int64  \n",
      " 28  auto_class                59933 non-null  object \n",
      " 29  price_segment             60142 non-null  object \n",
      " 30  seller_type               60142 non-null  object \n",
      " 31  color                     60142 non-null  object \n",
      " 32  description_word          60142 non-null  object \n",
      " 33  leather                   60142 non-null  int64  \n",
      " 34  carter                    60142 non-null  int64  \n",
      " 35  ABS                       60142 non-null  int64  \n",
      " 36  airbags                   60142 non-null  int64  \n",
      " 37  immob                     60142 non-null  int64  \n",
      " 38  central_locking           60142 non-null  int64  \n",
      " 39  on_board_computer         60142 non-null  int64  \n",
      " 40  cruise_control            60142 non-null  int64  \n",
      " 41  climat_control            60142 non-null  int64  \n",
      " 42  multi_rudder              60142 non-null  int64  \n",
      " 43  power_steering            60142 non-null  int64  \n",
      " 44  light_and_rain_sensors    60142 non-null  int64  \n",
      " 45  сarbon_body_kits          60142 non-null  int64  \n",
      " 46  rear_diffuser_rkp         60142 non-null  int64  \n",
      " 47  door_closers              60142 non-null  int64  \n",
      " 48  rear_view_camera          60142 non-null  int64  \n",
      " 49  amg                       60142 non-null  int64  \n",
      " 50  bi_xenon_headlights       60142 non-null  int64  \n",
      " 51  from_salon                60142 non-null  int64  \n",
      " 52  alloy_wheels              60142 non-null  int64  \n",
      " 53  parking_sensors           60142 non-null  int64  \n",
      " 54  dents                     60142 non-null  int64  \n",
      " 55  roof_with_panoramic_view  60142 non-null  int64  \n",
      " 56  mileageNAN                60142 non-null  int64  \n",
      "dtypes: float64(2), int64(32), object(23)\n",
      "memory usage: 26.6+ MB\n",
      "<class 'pandas.core.frame.DataFrame'>\n",
      "RangeIndex: 34686 entries, 0 to 34685\n",
      "Data columns (total 53 columns):\n",
      " #   Column                    Non-Null Count  Dtype \n",
      "---  ------                    --------------  ----- \n",
      " 0   bodyType                  34686 non-null  object\n",
      " 1   brand                     34686 non-null  object\n",
      " 2   car_url                   34686 non-null  object\n",
      " 3   color                     34686 non-null  object\n",
      " 4   complectation_dict        6418 non-null   object\n",
      " 5   description               34686 non-null  object\n",
      " 6   engineDisplacement        34686 non-null  object\n",
      " 7   enginePower               34686 non-null  int64 \n",
      " 8   equipment_dict            24690 non-null  object\n",
      " 9   fuelType                  34686 non-null  object\n",
      " 10  image                     34686 non-null  object\n",
      " 11  mileage                   34686 non-null  int64 \n",
      " 12  modelDate                 34686 non-null  int64 \n",
      " 13  model_info                34686 non-null  object\n",
      " 14  model_name                34686 non-null  object\n",
      " 15  name                      34686 non-null  object\n",
      " 16  numberOfDoors             34686 non-null  int64 \n",
      " 17  parsing_unixtime          34686 non-null  int64 \n",
      " 18  productionDate            34686 non-null  int64 \n",
      " 19  sell_id                   34686 non-null  int64 \n",
      " 20  super_gen                 34686 non-null  object\n",
      " 21  vehicleConfiguration      34686 non-null  object\n",
      " 22  vehicleTransmission       34686 non-null  object\n",
      " 23  vendor                    34686 non-null  object\n",
      " 24  Владельцы                 34686 non-null  object\n",
      " 25  Владение                  11995 non-null  object\n",
      " 26  ПТС                       34685 non-null  object\n",
      " 27  Привод                    34686 non-null  object\n",
      " 28  Руль                      34686 non-null  object\n",
      " 29  description_word          34686 non-null  object\n",
      " 30  leather                   34686 non-null  int64 \n",
      " 31  carter                    34686 non-null  int64 \n",
      " 32  ABS                       34686 non-null  int64 \n",
      " 33  airbags                   34686 non-null  int64 \n",
      " 34  immob                     34686 non-null  int64 \n",
      " 35  central_locking           34686 non-null  int64 \n",
      " 36  on_board_computer         34686 non-null  int64 \n",
      " 37  cruise_control            34686 non-null  int64 \n",
      " 38  climat_control            34686 non-null  int64 \n",
      " 39  multi_rudder              34686 non-null  int64 \n",
      " 40  power_steering            34686 non-null  int64 \n",
      " 41  light_and_rain_sensors    34686 non-null  int64 \n",
      " 42  сarbon_body_kits          34686 non-null  int64 \n",
      " 43  rear_diffuser_rkp         34686 non-null  int64 \n",
      " 44  door_closers              34686 non-null  int64 \n",
      " 45  rear_view_camera          34686 non-null  int64 \n",
      " 46  amg                       34686 non-null  int64 \n",
      " 47  bi_xenon_headlights       34686 non-null  int64 \n",
      " 48  from_salon                34686 non-null  int64 \n",
      " 49  alloy_wheels              34686 non-null  int64 \n",
      " 50  parking_sensors           34686 non-null  int64 \n",
      " 51  dents                     34686 non-null  int64 \n",
      " 52  roof_with_panoramic_view  34686 non-null  int64 \n",
      "dtypes: int64(30), object(23)\n",
      "memory usage: 14.0+ MB\n"
     ]
    },
    {
     "data": {
      "text/plain": [
       "(None, None)"
      ]
     },
     "execution_count": 24,
     "metadata": {},
     "output_type": "execute_result"
    }
   ],
   "source": [
    "traincc.info(), testcc.info()"
   ]
  },
  {
   "cell_type": "markdown",
   "metadata": {},
   "source": [
    "**Работаем с пустыми значениями**"
   ]
  },
  {
   "cell_type": "code",
   "execution_count": 25,
   "metadata": {},
   "outputs": [
    {
     "data": {
      "text/plain": [
       "(bodyType                        0\n",
       " brand                           0\n",
       " description                     0\n",
       " engineDisplacement              0\n",
       " enginePower                     0\n",
       " equipment_dict               9459\n",
       " fuelType                        0\n",
       " image                           0\n",
       " mileage                         0\n",
       " modelDate                       0\n",
       " model_info                      0\n",
       " model_name                      0\n",
       " name                            0\n",
       " numberOfDoors                   0\n",
       " parsing_unixtime                0\n",
       " productionDate                  0\n",
       " sell_id                         0\n",
       " section                         0\n",
       " url_saleid                      0\n",
       " super_gen                       0\n",
       " vehicleConfiguration            0\n",
       " vehicleTransmission             0\n",
       " vendor                          0\n",
       " Владельцы                   22486\n",
       " ПТС                             0\n",
       " Привод                          0\n",
       " Руль                            0\n",
       " price                           0\n",
       " auto_class                    209\n",
       " price_segment                   0\n",
       " seller_type                     0\n",
       " color                           0\n",
       " description_word                0\n",
       " leather                         0\n",
       " carter                          0\n",
       " ABS                             0\n",
       " airbags                         0\n",
       " immob                           0\n",
       " central_locking                 0\n",
       " on_board_computer               0\n",
       " cruise_control                  0\n",
       " climat_control                  0\n",
       " multi_rudder                    0\n",
       " power_steering                  0\n",
       " light_and_rain_sensors          0\n",
       " сarbon_body_kits                0\n",
       " rear_diffuser_rkp               0\n",
       " door_closers                    0\n",
       " rear_view_camera                0\n",
       " amg                             0\n",
       " bi_xenon_headlights             0\n",
       " from_salon                      0\n",
       " alloy_wheels                    0\n",
       " parking_sensors                 0\n",
       " dents                           0\n",
       " roof_with_panoramic_view        0\n",
       " mileageNAN                      0\n",
       " dtype: int64,\n",
       " bodyType                        0\n",
       " brand                           0\n",
       " car_url                         0\n",
       " color                           0\n",
       " complectation_dict          28268\n",
       " description                     0\n",
       " engineDisplacement              0\n",
       " enginePower                     0\n",
       " equipment_dict               9996\n",
       " fuelType                        0\n",
       " image                           0\n",
       " mileage                         0\n",
       " modelDate                       0\n",
       " model_info                      0\n",
       " model_name                      0\n",
       " name                            0\n",
       " numberOfDoors                   0\n",
       " parsing_unixtime                0\n",
       " productionDate                  0\n",
       " sell_id                         0\n",
       " super_gen                       0\n",
       " vehicleConfiguration            0\n",
       " vehicleTransmission             0\n",
       " vendor                          0\n",
       " Владельцы                       0\n",
       " Владение                    22691\n",
       " ПТС                             1\n",
       " Привод                          0\n",
       " Руль                            0\n",
       " description_word                0\n",
       " leather                         0\n",
       " carter                          0\n",
       " ABS                             0\n",
       " airbags                         0\n",
       " immob                           0\n",
       " central_locking                 0\n",
       " on_board_computer               0\n",
       " cruise_control                  0\n",
       " climat_control                  0\n",
       " multi_rudder                    0\n",
       " power_steering                  0\n",
       " light_and_rain_sensors          0\n",
       " сarbon_body_kits                0\n",
       " rear_diffuser_rkp               0\n",
       " door_closers                    0\n",
       " rear_view_camera                0\n",
       " amg                             0\n",
       " bi_xenon_headlights             0\n",
       " from_salon                      0\n",
       " alloy_wheels                    0\n",
       " parking_sensors                 0\n",
       " dents                           0\n",
       " roof_with_panoramic_view        0\n",
       " dtype: int64)"
      ]
     },
     "execution_count": 25,
     "metadata": {},
     "output_type": "execute_result"
    }
   ],
   "source": [
    "traincc.isna().sum() , testcc.isna().sum()"
   ]
  },
  {
   "cell_type": "code",
   "execution_count": 26,
   "metadata": {},
   "outputs": [],
   "source": [
    "testcc['ПТС'] = testcc['ПТС'].fillna('Оригинал')"
   ]
  },
  {
   "cell_type": "markdown",
   "metadata": {},
   "source": [
    "Compare bodytype between train and test"
   ]
  },
  {
   "cell_type": "code",
   "execution_count": 27,
   "metadata": {},
   "outputs": [
    {
     "data": {
      "text/plain": [
       "седан                      13147\n",
       "внедорожник 5 дв.          12228\n",
       "лифтбек                     2232\n",
       "хэтчбек 5 дв.               2124\n",
       "универсал 5 дв.             1276\n",
       "минивэн                      995\n",
       "купе                         824\n",
       "компактвэн                   489\n",
       "хэтчбек 3 дв.                485\n",
       "пикап двойная кабина         280\n",
       "купе-хардтоп                 158\n",
       "внедорожник 3 дв.            115\n",
       "родстер                       99\n",
       "фургон                        97\n",
       "кабриолет                     90\n",
       "седан-хардтоп                 12\n",
       "микровэн                       7\n",
       "седан 2 дв.                    6\n",
       "лимузин                        6\n",
       "пикап одинарная кабина         5\n",
       "пикап полуторная кабина        5\n",
       "внедорожник открытый           3\n",
       "тарга                          2\n",
       "фастбек                        1\n",
       "Name: bodyType, dtype: int64"
      ]
     },
     "execution_count": 27,
     "metadata": {},
     "output_type": "execute_result"
    }
   ],
   "source": [
    "testcc['bodyType'].value_counts()"
   ]
  },
  {
   "cell_type": "code",
   "execution_count": 28,
   "metadata": {},
   "outputs": [],
   "source": [
    "traincc['bodyType'] = traincc['bodyType'].apply(lambda x: str(x).lower())"
   ]
  },
  {
   "cell_type": "code",
   "execution_count": 29,
   "metadata": {},
   "outputs": [],
   "source": [
    "def proc_bodyType(df_input):\n",
    "    df_output = df_input.copy()\n",
    "    df_output['bodyType'] = df_output['bodyType'].apply(lambda x: str(x))\n",
    "    def bodyType(row):\n",
    "        for body_type in ['седан', 'внедорожник 5 дв.', 'лифтбек','хэтчбек 5 дв.', \n",
    "                      'универсал 5 дв.','минивэн','купе','компактвэн','хэтчбек 3 дв.','пикап двойная кабина',\n",
    "                         'внедорожник 3 дв.','родстер','фургон','кабриолет','седан-хардтоп','микровэн',\n",
    "                         'седан 2 дв.','лимузин','пикап полуторная кабина','пикап одинарная кабина',\n",
    "                         'внедорожник открытый','тарга','фастбек']:\n",
    "            if row.lower().startswith(body_type):\n",
    "                return body_type\n",
    "    df_output['bodyType'] = df_output['bodyType'].apply(bodyType)\n",
    "    df_output['bodyType'] = df_output['bodyType'].apply(lambda x: 'купе' if x == 'купе-хардтоп' else x)\n",
    "    \n",
    "    return df_output"
   ]
  },
  {
   "cell_type": "code",
   "execution_count": 30,
   "metadata": {},
   "outputs": [],
   "source": [
    "traincc = proc_bodyType(traincc)"
   ]
  },
  {
   "cell_type": "code",
   "execution_count": 31,
   "metadata": {},
   "outputs": [],
   "source": [
    "testcc = proc_bodyType(testcc)"
   ]
  },
  {
   "cell_type": "code",
   "execution_count": 32,
   "metadata": {},
   "outputs": [
    {
     "data": {
      "text/plain": [
       "внедорожник 5 дв.          28316\n",
       "седан                      16743\n",
       "хэтчбек 5 дв.               4235\n",
       "лифтбек                     3410\n",
       "универсал 5 дв.             1723\n",
       "купе                        1351\n",
       "компактвэн                  1305\n",
       "минивэн                     1163\n",
       "хэтчбек 3 дв.               1120\n",
       "внедорожник 3 дв.            302\n",
       "пикап двойная кабина         226\n",
       "родстер                       92\n",
       "кабриолет                     77\n",
       "фургон                        56\n",
       "микровэн                      15\n",
       "пикап одинарная кабина         3\n",
       "тарга                          2\n",
       "пикап полуторная кабина        1\n",
       "внедорожник открытый           1\n",
       "Name: bodyType, dtype: int64"
      ]
     },
     "execution_count": 32,
     "metadata": {},
     "output_type": "execute_result"
    }
   ],
   "source": [
    "traincc.bodyType.value_counts()"
   ]
  },
  {
   "cell_type": "code",
   "execution_count": 33,
   "metadata": {},
   "outputs": [
    {
     "data": {
      "text/plain": [
       "седан                      13165\n",
       "внедорожник 5 дв.          12228\n",
       "лифтбек                     2232\n",
       "хэтчбек 5 дв.               2124\n",
       "универсал 5 дв.             1276\n",
       "минивэн                      995\n",
       "купе                         982\n",
       "компактвэн                   489\n",
       "хэтчбек 3 дв.                485\n",
       "пикап двойная кабина         280\n",
       "внедорожник 3 дв.            115\n",
       "родстер                       99\n",
       "фургон                        97\n",
       "кабриолет                     90\n",
       "микровэн                       7\n",
       "лимузин                        6\n",
       "пикап одинарная кабина         5\n",
       "пикап полуторная кабина        5\n",
       "внедорожник открытый           3\n",
       "тарга                          2\n",
       "фастбек                        1\n",
       "Name: bodyType, dtype: int64"
      ]
     },
     "execution_count": 33,
     "metadata": {},
     "output_type": "execute_result"
    }
   ],
   "source": [
    "testcc.bodyType.value_counts()"
   ]
  },
  {
   "cell_type": "code",
   "execution_count": 34,
   "metadata": {},
   "outputs": [
    {
     "data": {
      "text/plain": [
       "(1, 0)"
      ]
     },
     "execution_count": 34,
     "metadata": {},
     "output_type": "execute_result"
    }
   ],
   "source": [
    "traincc.bodyType.isna().sum(), testcc.bodyType.isna().sum()"
   ]
  },
  {
   "cell_type": "code",
   "execution_count": 35,
   "metadata": {},
   "outputs": [],
   "source": [
    "traincc['bodyType'] = traincc['bodyType'].fillna('other')"
   ]
  },
  {
   "cell_type": "code",
   "execution_count": 36,
   "metadata": {},
   "outputs": [
    {
     "name": "stdout",
     "output_type": "stream",
     "text": [
      "<class 'pandas.core.frame.DataFrame'>\n",
      "Int64Index: 60142 entries, 0 to 60141\n",
      "Data columns (total 57 columns):\n",
      " #   Column                    Non-Null Count  Dtype  \n",
      "---  ------                    --------------  -----  \n",
      " 0   bodyType                  60142 non-null  object \n",
      " 1   brand                     60142 non-null  object \n",
      " 2   description               60142 non-null  object \n",
      " 3   engineDisplacement        60142 non-null  int64  \n",
      " 4   enginePower               60142 non-null  int64  \n",
      " 5   equipment_dict            50683 non-null  object \n",
      " 6   fuelType                  60142 non-null  object \n",
      " 7   image                     60142 non-null  object \n",
      " 8   mileage                   60142 non-null  int64  \n",
      " 9   modelDate                 60142 non-null  int64  \n",
      " 10  model_info                60142 non-null  object \n",
      " 11  model_name                60142 non-null  object \n",
      " 12  name                      60142 non-null  object \n",
      " 13  numberOfDoors             60142 non-null  int64  \n",
      " 14  parsing_unixtime          60142 non-null  float64\n",
      " 15  productionDate            60142 non-null  int64  \n",
      " 16  sell_id                   60142 non-null  int64  \n",
      " 17  section                   60142 non-null  object \n",
      " 18  url_saleid                60142 non-null  object \n",
      " 19  super_gen                 60142 non-null  object \n",
      " 20  vehicleConfiguration      60142 non-null  object \n",
      " 21  vehicleTransmission       60142 non-null  object \n",
      " 22  vendor                    60142 non-null  object \n",
      " 23  Владельцы                 37656 non-null  float64\n",
      " 24  ПТС                       60142 non-null  object \n",
      " 25  Привод                    60142 non-null  object \n",
      " 26  Руль                      60142 non-null  object \n",
      " 27  price                     60142 non-null  int64  \n",
      " 28  auto_class                59933 non-null  object \n",
      " 29  price_segment             60142 non-null  object \n",
      " 30  seller_type               60142 non-null  object \n",
      " 31  color                     60142 non-null  object \n",
      " 32  description_word          60142 non-null  object \n",
      " 33  leather                   60142 non-null  int64  \n",
      " 34  carter                    60142 non-null  int64  \n",
      " 35  ABS                       60142 non-null  int64  \n",
      " 36  airbags                   60142 non-null  int64  \n",
      " 37  immob                     60142 non-null  int64  \n",
      " 38  central_locking           60142 non-null  int64  \n",
      " 39  on_board_computer         60142 non-null  int64  \n",
      " 40  cruise_control            60142 non-null  int64  \n",
      " 41  climat_control            60142 non-null  int64  \n",
      " 42  multi_rudder              60142 non-null  int64  \n",
      " 43  power_steering            60142 non-null  int64  \n",
      " 44  light_and_rain_sensors    60142 non-null  int64  \n",
      " 45  сarbon_body_kits          60142 non-null  int64  \n",
      " 46  rear_diffuser_rkp         60142 non-null  int64  \n",
      " 47  door_closers              60142 non-null  int64  \n",
      " 48  rear_view_camera          60142 non-null  int64  \n",
      " 49  amg                       60142 non-null  int64  \n",
      " 50  bi_xenon_headlights       60142 non-null  int64  \n",
      " 51  from_salon                60142 non-null  int64  \n",
      " 52  alloy_wheels              60142 non-null  int64  \n",
      " 53  parking_sensors           60142 non-null  int64  \n",
      " 54  dents                     60142 non-null  int64  \n",
      " 55  roof_with_panoramic_view  60142 non-null  int64  \n",
      " 56  mileageNAN                60142 non-null  int64  \n",
      "dtypes: float64(2), int64(32), object(23)\n",
      "memory usage: 26.6+ MB\n"
     ]
    }
   ],
   "source": [
    "traincc.info()"
   ]
  },
  {
   "cell_type": "markdown",
   "metadata": {},
   "source": [
    "**У нас стоимости машины разбросаны, поэтому построим зависимость от логарифма цены**"
   ]
  },
  {
   "cell_type": "code",
   "execution_count": 37,
   "metadata": {},
   "outputs": [],
   "source": [
    "traincc['log_price'] = np.log(traincc.price)"
   ]
  },
  {
   "cell_type": "code",
   "execution_count": 38,
   "metadata": {},
   "outputs": [
    {
     "data": {
      "image/png": "[encoded data removed]",
      "text/plain": [
       "<Figure size 576x360 with 1 Axes>"
      ]
     },
     "metadata": {
      "needs_background": "light"
     },
     "output_type": "display_data"
    }
   ],
   "source": [
    "plt.figure(figsize=(8, 5))\n",
    "g1 = sns.boxplot(y='log_price', x='bodyType', \n",
    "                  data=traincc, color='darkred')\n",
    "g1.set_title(\"price of bodyTypes\", fontsize=20)\n",
    "\n",
    "g1.set_ylabel(\"log_price\", fontsize=15)\n",
    "g1.set_xticklabels(g1.get_xticklabels(),rotation=45)\n",
    "plt.show()"
   ]
  },
  {
   "cell_type": "code",
   "execution_count": 39,
   "metadata": {},
   "outputs": [],
   "source": [
    "traincc = traincc.assign(bT_length = traincc['bodyType'].apply(len))\n",
    "testcc = testcc.assign(bT_length = testcc['bodyType'].apply(len))"
   ]
  },
  {
   "cell_type": "code",
   "execution_count": 40,
   "metadata": {},
   "outputs": [
    {
     "data": {
      "image/png": "[encoded data removed]",
      "text/plain": [
       "<Figure size 576x360 with 1 Axes>"
      ]
     },
     "metadata": {
      "needs_background": "light"
     },
     "output_type": "display_data"
    }
   ],
   "source": [
    "plt.figure(figsize=(8, 5))\n",
    "g1 = sns.boxplot(y='log_price', x='bT_length', \n",
    "                  data=traincc, color='darkblue')\n",
    "g1.set_title(\"price of bT_length\", fontsize=20)\n",
    "\n",
    "g1.set_ylabel(\"log_price\", fontsize=15)\n",
    "g1.set_xticklabels(g1.get_xticklabels(),rotation=45)\n",
    "plt.show()"
   ]
  },
  {
   "cell_type": "markdown",
   "metadata": {},
   "source": [
    "**enginePower**"
   ]
  },
  {
   "cell_type": "code",
   "execution_count": 41,
   "metadata": {},
   "outputs": [
    {
     "data": {
      "text/plain": [
       "(150    5327\n",
       " 249    4687\n",
       " 140    1925\n",
       " 190    1922\n",
       " 110    1751\n",
       "        ... \n",
       " 311       1\n",
       " 477       1\n",
       " 321       1\n",
       " 232       1\n",
       " 344       1\n",
       " Name: enginePower, Length: 336, dtype: int64,\n",
       " 249    1708\n",
       " 150    1699\n",
       " 110    1039\n",
       " 170     977\n",
       " 105     955\n",
       "        ... \n",
       " 38        1\n",
       " 485       1\n",
       " 324       1\n",
       " 164       1\n",
       " 32        1\n",
       " Name: enginePower, Length: 315, dtype: int64)"
      ]
     },
     "execution_count": 41,
     "metadata": {},
     "output_type": "execute_result"
    }
   ],
   "source": [
    "traincc['enginePower'].value_counts(),testcc['enginePower'].value_counts()"
   ]
  },
  {
   "cell_type": "markdown",
   "metadata": {},
   "source": [
    "**Brand**"
   ]
  },
  {
   "cell_type": "code",
   "execution_count": 42,
   "metadata": {},
   "outputs": [
    {
     "data": {
      "text/plain": [
       "(23, 12)"
      ]
     },
     "execution_count": 42,
     "metadata": {},
     "output_type": "execute_result"
    }
   ],
   "source": [
    "len(traincc.brand.value_counts()),len(testcc.brand.value_counts())\n",
    "\n"
   ]
  },
  {
   "cell_type": "code",
   "execution_count": 43,
   "metadata": {},
   "outputs": [
    {
     "data": {
      "text/plain": [
       "BMW           4473\n",
       "VOLKSWAGEN    4404\n",
       "NISSAN        4393\n",
       "MERCEDES      4180\n",
       "TOYOTA        3913\n",
       "AUDI          3421\n",
       "MITSUBISHI    2843\n",
       "SKODA         2741\n",
       "VOLVO         1463\n",
       "HONDA         1150\n",
       "INFINITI       871\n",
       "LEXUS          834\n",
       "Name: brand, dtype: int64"
      ]
     },
     "execution_count": 43,
     "metadata": {},
     "output_type": "execute_result"
    }
   ],
   "source": [
    "brand = testcc.brand.value_counts()\n",
    "brand"
   ]
  },
  {
   "cell_type": "markdown",
   "metadata": {},
   "source": [
    "*Сравним с тестом оставим по брендам с теста , а остальных объединим как otherBrand*"
   ]
  },
  {
   "cell_type": "code",
   "execution_count": 44,
   "metadata": {},
   "outputs": [],
   "source": [
    "traincc['brand'] = traincc['brand'].apply(lambda x: x if x in brand else 'otherBrand')"
   ]
  },
  {
   "cell_type": "code",
   "execution_count": 45,
   "metadata": {},
   "outputs": [
    {
     "data": {
      "text/plain": [
       "MERCEDES      15337\n",
       "otherBrand    12668\n",
       "BMW            6145\n",
       "NISSAN         5340\n",
       "AUDI           3438\n",
       "SKODA          3410\n",
       "MITSUBISHI     3179\n",
       "VOLKSWAGEN     3134\n",
       "TOYOTA         2783\n",
       "VOLVO          1886\n",
       "LEXUS          1142\n",
       "HONDA           880\n",
       "INFINITI        800\n",
       "Name: brand, dtype: int64"
      ]
     },
     "execution_count": 45,
     "metadata": {},
     "output_type": "execute_result"
    }
   ],
   "source": [
    "traincc['brand'].value_counts()"
   ]
  },
  {
   "cell_type": "code",
   "execution_count": 46,
   "metadata": {},
   "outputs": [
    {
     "data": {
      "text/html": [
       "<div>\n",
       "<style scoped>\n",
       "    .dataframe tbody tr th:only-of-type {\n",
       "        vertical-align: middle;\n",
       "    }\n",
       "\n",
       "    .dataframe tbody tr th {\n",
       "        vertical-align: top;\n",
       "    }\n",
       "\n",
       "    .dataframe thead th {\n",
       "        text-align: right;\n",
       "    }\n",
       "</style>\n",
       "<table border=\"1\" class=\"dataframe\">\n",
       "  <thead>\n",
       "    <tr style=\"text-align: right;\">\n",
       "      <th></th>\n",
       "      <th>count</th>\n",
       "      <th>mean</th>\n",
       "      <th>std</th>\n",
       "      <th>min</th>\n",
       "      <th>25%</th>\n",
       "      <th>50%</th>\n",
       "      <th>75%</th>\n",
       "      <th>max</th>\n",
       "    </tr>\n",
       "    <tr>\n",
       "      <th>brand</th>\n",
       "      <th></th>\n",
       "      <th></th>\n",
       "      <th></th>\n",
       "      <th></th>\n",
       "      <th></th>\n",
       "      <th></th>\n",
       "      <th></th>\n",
       "      <th></th>\n",
       "    </tr>\n",
       "  </thead>\n",
       "  <tbody>\n",
       "    <tr>\n",
       "      <th>AUDI</th>\n",
       "      <td>3438.0</td>\n",
       "      <td>2.434647e+06</td>\n",
       "      <td>2.112787e+06</td>\n",
       "      <td>25000.0</td>\n",
       "      <td>870000.0</td>\n",
       "      <td>1830000.0</td>\n",
       "      <td>3540000.0</td>\n",
       "      <td>15460400.0</td>\n",
       "    </tr>\n",
       "    <tr>\n",
       "      <th>BMW</th>\n",
       "      <td>6145.0</td>\n",
       "      <td>3.711547e+06</td>\n",
       "      <td>2.831002e+06</td>\n",
       "      <td>42000.0</td>\n",
       "      <td>1490000.0</td>\n",
       "      <td>3202700.0</td>\n",
       "      <td>4783500.0</td>\n",
       "      <td>16341200.0</td>\n",
       "    </tr>\n",
       "    <tr>\n",
       "      <th>HONDA</th>\n",
       "      <td>880.0</td>\n",
       "      <td>7.744780e+05</td>\n",
       "      <td>6.700825e+05</td>\n",
       "      <td>20000.0</td>\n",
       "      <td>375000.0</td>\n",
       "      <td>575000.0</td>\n",
       "      <td>986250.0</td>\n",
       "      <td>5789063.0</td>\n",
       "    </tr>\n",
       "    <tr>\n",
       "      <th>INFINITI</th>\n",
       "      <td>800.0</td>\n",
       "      <td>2.071430e+06</td>\n",
       "      <td>1.516129e+06</td>\n",
       "      <td>250000.0</td>\n",
       "      <td>1100000.0</td>\n",
       "      <td>1600000.0</td>\n",
       "      <td>2586250.0</td>\n",
       "      <td>7335000.0</td>\n",
       "    </tr>\n",
       "    <tr>\n",
       "      <th>LEXUS</th>\n",
       "      <td>1142.0</td>\n",
       "      <td>2.678252e+06</td>\n",
       "      <td>1.519643e+06</td>\n",
       "      <td>195000.0</td>\n",
       "      <td>1580000.0</td>\n",
       "      <td>2474500.0</td>\n",
       "      <td>3417500.0</td>\n",
       "      <td>9350000.0</td>\n",
       "    </tr>\n",
       "    <tr>\n",
       "      <th>MERCEDES</th>\n",
       "      <td>15337.0</td>\n",
       "      <td>5.642694e+06</td>\n",
       "      <td>4.653787e+06</td>\n",
       "      <td>18000.0</td>\n",
       "      <td>2400000.0</td>\n",
       "      <td>4648260.0</td>\n",
       "      <td>8232840.0</td>\n",
       "      <td>72000000.0</td>\n",
       "    </tr>\n",
       "    <tr>\n",
       "      <th>MITSUBISHI</th>\n",
       "      <td>3179.0</td>\n",
       "      <td>1.314455e+06</td>\n",
       "      <td>8.762441e+05</td>\n",
       "      <td>25000.0</td>\n",
       "      <td>390000.0</td>\n",
       "      <td>1450000.0</td>\n",
       "      <td>2080500.0</td>\n",
       "      <td>5500000.0</td>\n",
       "    </tr>\n",
       "    <tr>\n",
       "      <th>NISSAN</th>\n",
       "      <td>5340.0</td>\n",
       "      <td>1.157522e+06</td>\n",
       "      <td>7.419125e+05</td>\n",
       "      <td>20000.0</td>\n",
       "      <td>570000.0</td>\n",
       "      <td>990000.0</td>\n",
       "      <td>1755000.0</td>\n",
       "      <td>6700000.0</td>\n",
       "    </tr>\n",
       "    <tr>\n",
       "      <th>SKODA</th>\n",
       "      <td>3410.0</td>\n",
       "      <td>1.037503e+06</td>\n",
       "      <td>6.307288e+05</td>\n",
       "      <td>25000.0</td>\n",
       "      <td>572750.0</td>\n",
       "      <td>889000.0</td>\n",
       "      <td>1305000.0</td>\n",
       "      <td>3623872.0</td>\n",
       "    </tr>\n",
       "    <tr>\n",
       "      <th>TOYOTA</th>\n",
       "      <td>2783.0</td>\n",
       "      <td>1.591789e+06</td>\n",
       "      <td>1.232877e+06</td>\n",
       "      <td>20000.0</td>\n",
       "      <td>530000.0</td>\n",
       "      <td>1400000.0</td>\n",
       "      <td>2450000.0</td>\n",
       "      <td>9185313.0</td>\n",
       "    </tr>\n",
       "    <tr>\n",
       "      <th>VOLKSWAGEN</th>\n",
       "      <td>3134.0</td>\n",
       "      <td>1.254556e+06</td>\n",
       "      <td>1.187361e+06</td>\n",
       "      <td>15000.0</td>\n",
       "      <td>450000.0</td>\n",
       "      <td>920000.0</td>\n",
       "      <td>1763775.0</td>\n",
       "      <td>6761700.0</td>\n",
       "    </tr>\n",
       "    <tr>\n",
       "      <th>VOLVO</th>\n",
       "      <td>1886.0</td>\n",
       "      <td>2.375644e+06</td>\n",
       "      <td>1.831137e+06</td>\n",
       "      <td>12000.0</td>\n",
       "      <td>734736.5</td>\n",
       "      <td>1750000.0</td>\n",
       "      <td>3997725.0</td>\n",
       "      <td>8047725.0</td>\n",
       "    </tr>\n",
       "    <tr>\n",
       "      <th>otherBrand</th>\n",
       "      <td>12668.0</td>\n",
       "      <td>9.229610e+05</td>\n",
       "      <td>1.389668e+06</td>\n",
       "      <td>14000.0</td>\n",
       "      <td>295000.0</td>\n",
       "      <td>499000.0</td>\n",
       "      <td>970000.0</td>\n",
       "      <td>59604352.0</td>\n",
       "    </tr>\n",
       "  </tbody>\n",
       "</table>\n",
       "</div>"
      ],
      "text/plain": [
       "              count          mean           std       min        25%  \\\n",
       "brand                                                                  \n",
       "AUDI         3438.0  2.434647e+06  2.112787e+06   25000.0   870000.0   \n",
       "BMW          6145.0  3.711547e+06  2.831002e+06   42000.0  1490000.0   \n",
       "HONDA         880.0  7.744780e+05  6.700825e+05   20000.0   375000.0   \n",
       "INFINITI      800.0  2.071430e+06  1.516129e+06  250000.0  1100000.0   \n",
       "LEXUS        1142.0  2.678252e+06  1.519643e+06  195000.0  1580000.0   \n",
       "MERCEDES    15337.0  5.642694e+06  4.653787e+06   18000.0  2400000.0   \n",
       "MITSUBISHI   3179.0  1.314455e+06  8.762441e+05   25000.0   390000.0   \n",
       "NISSAN       5340.0  1.157522e+06  7.419125e+05   20000.0   570000.0   \n",
       "SKODA        3410.0  1.037503e+06  6.307288e+05   25000.0   572750.0   \n",
       "TOYOTA       2783.0  1.591789e+06  1.232877e+06   20000.0   530000.0   \n",
       "VOLKSWAGEN   3134.0  1.254556e+06  1.187361e+06   15000.0   450000.0   \n",
       "VOLVO        1886.0  2.375644e+06  1.831137e+06   12000.0   734736.5   \n",
       "otherBrand  12668.0  9.229610e+05  1.389668e+06   14000.0   295000.0   \n",
       "\n",
       "                  50%        75%         max  \n",
       "brand                                         \n",
       "AUDI        1830000.0  3540000.0  15460400.0  \n",
       "BMW         3202700.0  4783500.0  16341200.0  \n",
       "HONDA        575000.0   986250.0   5789063.0  \n",
       "INFINITI    1600000.0  2586250.0   7335000.0  \n",
       "LEXUS       2474500.0  3417500.0   9350000.0  \n",
       "MERCEDES    4648260.0  8232840.0  72000000.0  \n",
       "MITSUBISHI  1450000.0  2080500.0   5500000.0  \n",
       "NISSAN       990000.0  1755000.0   6700000.0  \n",
       "SKODA        889000.0  1305000.0   3623872.0  \n",
       "TOYOTA      1400000.0  2450000.0   9185313.0  \n",
       "VOLKSWAGEN   920000.0  1763775.0   6761700.0  \n",
       "VOLVO       1750000.0  3997725.0   8047725.0  \n",
       "otherBrand   499000.0   970000.0  59604352.0  "
      ]
     },
     "execution_count": 46,
     "metadata": {},
     "output_type": "execute_result"
    }
   ],
   "source": [
    "traincc.groupby('brand').price.describe()"
   ]
  },
  {
   "cell_type": "code",
   "execution_count": 47,
   "metadata": {},
   "outputs": [
    {
     "data": {
      "image/png": "[encoded data removed]",
      "text/plain": [
       "<Figure size 576x360 with 1 Axes>"
      ]
     },
     "metadata": {
      "needs_background": "light"
     },
     "output_type": "display_data"
    }
   ],
   "source": [
    "plt.figure(figsize=(8, 5))\n",
    "g1 = sns.boxplot(y='log_price', x='brand', \n",
    "                  data=traincc, color='darkgreen')\n",
    "g1.set_title(\"price of brands\", fontsize=20)\n",
    "\n",
    "g1.set_ylabel(\"log_price\", fontsize=15)\n",
    "g1.set_xticklabels(g1.get_xticklabels(),rotation=45)\n",
    "plt.show()"
   ]
  },
  {
   "cell_type": "markdown",
   "metadata": {},
   "source": [
    "**Как мы видим  BMW ,LEXUS и Mercedes дороже **"
   ]
  },
  {
   "cell_type": "code",
   "execution_count": 48,
   "metadata": {},
   "outputs": [],
   "source": [
    "traincc = traincc.assign(brand_length = traincc['brand'].apply(len))\n",
    "testcc = testcc.assign(brand_length = testcc['brand'].apply(len))"
   ]
  },
  {
   "cell_type": "code",
   "execution_count": 49,
   "metadata": {},
   "outputs": [
    {
     "data": {
      "image/png": "[encoded data removed]",
      "text/plain": [
       "<Figure size 576x360 with 1 Axes>"
      ]
     },
     "metadata": {
      "needs_background": "light"
     },
     "output_type": "display_data"
    }
   ],
   "source": [
    "plt.figure(figsize=(8, 5))\n",
    "g1 = sns.boxplot(y='log_price', x='brand_length', \n",
    "                  data=traincc, color='yellow')\n",
    "g1.set_title(\"price of brand_length\", fontsize=20)\n",
    "\n",
    "g1.set_ylabel(\"log_price\", fontsize=15)\n",
    "g1.set_xticklabels(g1.get_xticklabels(),rotation=45)\n",
    "plt.show()"
   ]
  },
  {
   "cell_type": "code",
   "execution_count": 50,
   "metadata": {},
   "outputs": [
    {
     "data": {
      "text/plain": [
       "(544, 734)"
      ]
     },
     "execution_count": 50,
     "metadata": {},
     "output_type": "execute_result"
    }
   ],
   "source": [
    "len(testcc.model_name.value_counts()), len(traincc.model_name.value_counts())"
   ]
  },
  {
   "cell_type": "code",
   "execution_count": 51,
   "metadata": {},
   "outputs": [
    {
     "data": {
      "text/plain": [
       "(9996, 9459)"
      ]
     },
     "execution_count": 51,
     "metadata": {},
     "output_type": "execute_result"
    }
   ],
   "source": [
    "testcc.equipment_dict.isna().sum(),traincc.equipment_dict.isna().sum()"
   ]
  },
  {
   "cell_type": "markdown",
   "metadata": {},
   "source": [
    "complectation_dict и equipment_dict удаляем ,много пропусков"
   ]
  },
  {
   "cell_type": "code",
   "execution_count": 52,
   "metadata": {},
   "outputs": [
    {
     "data": {
      "text/plain": [
       "(0        57\n",
       " 9459      1\n",
       " 22486     1\n",
       " 209       1\n",
       " dtype: int64,\n",
       " 0        52\n",
       " 28268     1\n",
       " 22691     1\n",
       " 9996      1\n",
       " dtype: int64)"
      ]
     },
     "execution_count": 52,
     "metadata": {},
     "output_type": "execute_result"
    }
   ],
   "source": [
    "traincc.isna().sum().value_counts(), testcc.isna().sum().value_counts()"
   ]
  },
  {
   "cell_type": "markdown",
   "metadata": {},
   "source": [
    "У нас еще есть пропуски по train-> name , vehicleConfiguration,vehicleTransmission,Комплектация,Владельцы,Владение ,hidden , model......."
   ]
  },
  {
   "cell_type": "code",
   "execution_count": 53,
   "metadata": {},
   "outputs": [
    {
     "data": {
      "text/plain": [
       "(bodyType                    0\n",
       " brand                       0\n",
       " description                 0\n",
       " engineDisplacement          0\n",
       " enginePower                 0\n",
       " equipment_dict           9459\n",
       " fuelType                    0\n",
       " image                       0\n",
       " mileage                     0\n",
       " modelDate                   0\n",
       " model_info                  0\n",
       " model_name                  0\n",
       " name                        0\n",
       " numberOfDoors               0\n",
       " parsing_unixtime            0\n",
       " productionDate              0\n",
       " sell_id                     0\n",
       " section                     0\n",
       " url_saleid                  0\n",
       " super_gen                   0\n",
       " vehicleConfiguration        0\n",
       " vehicleTransmission         0\n",
       " vendor                      0\n",
       " Владельцы               22486\n",
       " ПТС                         0\n",
       " Привод                      0\n",
       " Руль                        0\n",
       " price                       0\n",
       " auto_class                209\n",
       " price_segment               0\n",
       " dtype: int64,\n",
       " price                         0\n",
       " auto_class                  209\n",
       " price_segment                 0\n",
       " seller_type                   0\n",
       " color                         0\n",
       " description_word              0\n",
       " leather                       0\n",
       " carter                        0\n",
       " ABS                           0\n",
       " airbags                       0\n",
       " immob                         0\n",
       " central_locking               0\n",
       " on_board_computer             0\n",
       " cruise_control                0\n",
       " climat_control                0\n",
       " multi_rudder                  0\n",
       " power_steering                0\n",
       " light_and_rain_sensors        0\n",
       " сarbon_body_kits              0\n",
       " rear_diffuser_rkp             0\n",
       " door_closers                  0\n",
       " rear_view_camera              0\n",
       " amg                           0\n",
       " bi_xenon_headlights           0\n",
       " from_salon                    0\n",
       " alloy_wheels                  0\n",
       " parking_sensors               0\n",
       " dents                         0\n",
       " roof_with_panoramic_view      0\n",
       " mileageNAN                    0\n",
       " log_price                     0\n",
       " bT_length                     0\n",
       " brand_length                  0\n",
       " dtype: int64)"
      ]
     },
     "execution_count": 53,
     "metadata": {},
     "output_type": "execute_result"
    }
   ],
   "source": [
    "traincc.isna().sum().head(30),traincc.isna().sum().tail(33)"
   ]
  },
  {
   "cell_type": "code",
   "execution_count": 54,
   "metadata": {},
   "outputs": [],
   "source": [
    "# testcc.isna().sum().head(30)"
   ]
  },
  {
   "cell_type": "code",
   "execution_count": 55,
   "metadata": {},
   "outputs": [],
   "source": [
    "# traincc['model_name'] = traincc['model_name'].fillna(traincc['model'])"
   ]
  },
  {
   "cell_type": "code",
   "execution_count": 56,
   "metadata": {},
   "outputs": [
    {
     "data": {
      "text/plain": [
       "(\"{'code': 'A1', 'name': 'A1', 'ru_name': 'А1', 'morphology': {}, 'nameplate': {'code': '', 'name': '', 'semantic_url': ''}}\",\n",
       " '{\"code\":\"OCTAVIA\",\"name\":\"Octavia\",\"ru_name\":\"Октавия\",\"morphology\":{\"gender\":\"FEMININE\"},\"nameplate\":{\"code\":\"\",\"name\":\"\",\"semantic_url\":\"\"}}')"
      ]
     },
     "execution_count": 56,
     "metadata": {},
     "output_type": "execute_result"
    }
   ],
   "source": [
    "traincc.model_info[4],testcc.model_info[4]"
   ]
  },
  {
   "cell_type": "code",
   "execution_count": 57,
   "metadata": {},
   "outputs": [
    {
     "data": {
      "text/plain": [
       "{\"leather\":true}                                                                                                                                                                                                                                                                                                                                                                                                                                                                                                                                           108\n",
       "{\"gbo\":true}                                                                                                                                                                                                                                                                                                                                                                                                                                                                                                                                               106\n",
       "{\"fabric-seats\":true}                                                                                                                                                                                                                                                                                                                                                                                                                                                                                                                                       59\n",
       "{\"roof-rails\":true}                                                                                                                                                                                                                                                                                                                                                                                                                                                                                                                                         37\n",
       "{\"cruise-control\":true,\"esp\":true,\"airbag-driver\":true,\"electro-window-front\":true,\"xenon\":true,\"airbag-passenger\":true,\"computer\":true,\"seat-transformation\":true,\"wheel-power\":true,\"alarm\":true,\"passenger-seat-electric\":true,\"lock\":true,\"electro-mirrors\":true,\"electro-window-back\":true,\"paint-metallic\":true,\"ptf\":true,\"airbag-side\":true,\"mirrors-heat\":true,\"hatch\":true,\"leather\":true,\"abs\":true,\"front-seats-heat\":true,\"wheel-configuration2\":true,\"wheel-configuration1\":true,\"immo\":true,\"climate-control-1\":true,\"music-super\":true}     21\n",
       "Name: equipment_dict, dtype: int64"
      ]
     },
     "execution_count": 57,
     "metadata": {},
     "output_type": "execute_result"
    }
   ],
   "source": [
    "testcc.equipment_dict.value_counts().head(5)"
   ]
  },
  {
   "cell_type": "code",
   "execution_count": 58,
   "metadata": {},
   "outputs": [
    {
     "data": {
      "text/plain": [
       "0          1.2 AMT (105 л.с.)\n",
       "1           1.6 MT (110 л.с.)\n",
       "2      DSG 1.8 AMT (152 л.с.)\n",
       "3           1.6 AT (110 л.с.)\n",
       "4           1.8 AT (152 л.с.)\n",
       "5          2.0 AMT (200 л.с.)\n",
       "6      1.8 AMT (152 л.с.) 4WD\n",
       "7           1.6 MT (102 л.с.)\n",
       "8       1.4 MT (150 л.с.) 4WD\n",
       "9       1.8 MT (152 л.с.) 4WD\n",
       "10           1.6 MT (90 л.с.)\n",
       "11         1.4 AMT (150 л.с.)\n",
       "12         1.8 AMT (180 л.с.)\n",
       "13     1.4 AMT (150 л.с.) 4WD\n",
       "14          1.6 AT (102 л.с.)\n",
       "15         1.4 AMT (150 л.с.)\n",
       "16         1.8 AMT (180 л.с.)\n",
       "17         1.4 AMT (150 л.с.)\n",
       "18          1.6 AT (110 л.с.)\n",
       "19          1.6 AT (110 л.с.)\n",
       "20     1.4 AMT (150 л.с.) 4WD\n",
       "21    2.0d AMT (150 л.с.) 4WD\n",
       "22          1.6 AT (110 л.с.)\n",
       "23          1.8 AT (152 л.с.)\n",
       "24         2.0 AMT (220 л.с.)\n",
       "25          1.2 MT (105 л.с.)\n",
       "26     DSG 1.8 AMT (152 л.с.)\n",
       "27         1.8 AMT (180 л.с.)\n",
       "28          1.4 MT (122 л.с.)\n",
       "29          1.6 AT (105 л.с.)\n",
       "Name: name, dtype: object"
      ]
     },
     "execution_count": 58,
     "metadata": {},
     "output_type": "execute_result"
    }
   ],
   "source": [
    "testcc.name[:30]"
   ]
  },
  {
   "cell_type": "markdown",
   "metadata": {},
   "source": [
    "equipment_dict,name,model_info можем удалить ,Информация продублированы"
   ]
  },
  {
   "cell_type": "markdown",
   "metadata": {},
   "source": [
    "**enginePower**"
   ]
  },
  {
   "cell_type": "code",
   "execution_count": 59,
   "metadata": {},
   "outputs": [
    {
     "data": {
      "text/plain": [
       "<AxesSubplot:>"
      ]
     },
     "execution_count": 59,
     "metadata": {},
     "output_type": "execute_result"
    },
    {
     "data": {
      "image/png": "[encoded data removed]",
      "text/plain": [
       "<Figure size 432x288 with 1 Axes>"
      ]
     },
     "metadata": {
      "needs_background": "light"
     },
     "output_type": "display_data"
    }
   ],
   "source": [
    "traincc['enginePower'].hist(bins=77)"
   ]
  },
  {
   "cell_type": "code",
   "execution_count": 60,
   "metadata": {},
   "outputs": [
    {
     "data": {
      "text/plain": [
       "count    60142.000000\n",
       "mean       194.127515\n",
       "std         96.520143\n",
       "min          7.000000\n",
       "25%        135.000000\n",
       "50%        169.000000\n",
       "75%        245.000000\n",
       "max        800.000000\n",
       "Name: enginePower, dtype: float64"
      ]
     },
     "execution_count": 60,
     "metadata": {},
     "output_type": "execute_result"
    }
   ],
   "source": [
    "traincc.enginePower.describe()"
   ]
  },
  {
   "cell_type": "code",
   "execution_count": 61,
   "metadata": {},
   "outputs": [],
   "source": [
    "traincc['log_power'] = np.log(traincc.enginePower)"
   ]
  },
  {
   "cell_type": "code",
   "execution_count": 62,
   "metadata": {},
   "outputs": [
    {
     "data": {
      "text/plain": [
       "<AxesSubplot:>"
      ]
     },
     "execution_count": 62,
     "metadata": {},
     "output_type": "execute_result"
    },
    {
     "data": {
      "image/png": "[encoded data removed]",
      "text/plain": [
       "<Figure size 432x288 with 1 Axes>"
      ]
     },
     "metadata": {
      "needs_background": "light"
     },
     "output_type": "display_data"
    }
   ],
   "source": [
    "traincc['log_power'].hist(bins=77)"
   ]
  },
  {
   "cell_type": "markdown",
   "metadata": {},
   "source": [
    "Логарифмирование enginePower метрику сильно  не улучшило.Попробуем ввести признак соответствующий налогу в зависимости от enginePower."
   ]
  },
  {
   "cell_type": "code",
   "execution_count": 63,
   "metadata": {},
   "outputs": [],
   "source": [
    "bins = [10, 35, 100, 125, 150, 175, 200, 225, 250, 801]\n",
    "numbers = ['5000','12','25','35', '45', '50', '65', '75', '150']"
   ]
  },
  {
   "cell_type": "code",
   "execution_count": 64,
   "metadata": {},
   "outputs": [
    {
     "name": "stdout",
     "output_type": "stream",
     "text": [
      "<class 'pandas.core.frame.DataFrame'>\n",
      "RangeIndex: 34686 entries, 0 to 34685\n",
      "Data columns (total 55 columns):\n",
      " #   Column                    Non-Null Count  Dtype \n",
      "---  ------                    --------------  ----- \n",
      " 0   bodyType                  34686 non-null  object\n",
      " 1   brand                     34686 non-null  object\n",
      " 2   car_url                   34686 non-null  object\n",
      " 3   color                     34686 non-null  object\n",
      " 4   complectation_dict        6418 non-null   object\n",
      " 5   description               34686 non-null  object\n",
      " 6   engineDisplacement        34686 non-null  object\n",
      " 7   enginePower               34686 non-null  int64 \n",
      " 8   equipment_dict            24690 non-null  object\n",
      " 9   fuelType                  34686 non-null  object\n",
      " 10  image                     34686 non-null  object\n",
      " 11  mileage                   34686 non-null  int64 \n",
      " 12  modelDate                 34686 non-null  int64 \n",
      " 13  model_info                34686 non-null  object\n",
      " 14  model_name                34686 non-null  object\n",
      " 15  name                      34686 non-null  object\n",
      " 16  numberOfDoors             34686 non-null  int64 \n",
      " 17  parsing_unixtime          34686 non-null  int64 \n",
      " 18  productionDate            34686 non-null  int64 \n",
      " 19  sell_id                   34686 non-null  int64 \n",
      " 20  super_gen                 34686 non-null  object\n",
      " 21  vehicleConfiguration      34686 non-null  object\n",
      " 22  vehicleTransmission       34686 non-null  object\n",
      " 23  vendor                    34686 non-null  object\n",
      " 24  Владельцы                 34686 non-null  object\n",
      " 25  Владение                  11995 non-null  object\n",
      " 26  ПТС                       34686 non-null  object\n",
      " 27  Привод                    34686 non-null  object\n",
      " 28  Руль                      34686 non-null  object\n",
      " 29  description_word          34686 non-null  object\n",
      " 30  leather                   34686 non-null  int64 \n",
      " 31  carter                    34686 non-null  int64 \n",
      " 32  ABS                       34686 non-null  int64 \n",
      " 33  airbags                   34686 non-null  int64 \n",
      " 34  immob                     34686 non-null  int64 \n",
      " 35  central_locking           34686 non-null  int64 \n",
      " 36  on_board_computer         34686 non-null  int64 \n",
      " 37  cruise_control            34686 non-null  int64 \n",
      " 38  climat_control            34686 non-null  int64 \n",
      " 39  multi_rudder              34686 non-null  int64 \n",
      " 40  power_steering            34686 non-null  int64 \n",
      " 41  light_and_rain_sensors    34686 non-null  int64 \n",
      " 42  сarbon_body_kits          34686 non-null  int64 \n",
      " 43  rear_diffuser_rkp         34686 non-null  int64 \n",
      " 44  door_closers              34686 non-null  int64 \n",
      " 45  rear_view_camera          34686 non-null  int64 \n",
      " 46  amg                       34686 non-null  int64 \n",
      " 47  bi_xenon_headlights       34686 non-null  int64 \n",
      " 48  from_salon                34686 non-null  int64 \n",
      " 49  alloy_wheels              34686 non-null  int64 \n",
      " 50  parking_sensors           34686 non-null  int64 \n",
      " 51  dents                     34686 non-null  int64 \n",
      " 52  roof_with_panoramic_view  34686 non-null  int64 \n",
      " 53  bT_length                 34686 non-null  int64 \n",
      " 54  brand_length              34686 non-null  int64 \n",
      "dtypes: int64(32), object(23)\n",
      "memory usage: 14.6+ MB\n"
     ]
    }
   ],
   "source": [
    "testcc.info()"
   ]
  },
  {
   "cell_type": "code",
   "execution_count": null,
   "metadata": {},
   "outputs": [],
   "source": []
  },
  {
   "cell_type": "code",
   "execution_count": 65,
   "metadata": {},
   "outputs": [],
   "source": [
    "traincc['Nalog_base']=pd.cut(traincc['enginePower'],bins,labels=numbers)\n",
    "testcc['Nalog_base']=pd.cut(testcc['enginePower'],bins,labels=numbers)\n"
   ]
  },
  {
   "cell_type": "code",
   "execution_count": 66,
   "metadata": {},
   "outputs": [],
   "source": [
    "# traincc['Nalog_base'].dropna()\n",
    "traincc.dropna(subset=['Nalog_base'], inplace=True)"
   ]
  },
  {
   "cell_type": "code",
   "execution_count": 67,
   "metadata": {},
   "outputs": [],
   "source": [
    "traincc['Nalog_base'] = traincc['Nalog_base'].values.astype('int64')\n",
    "testcc['Nalog_base'] = testcc['Nalog_base'].values.astype('int64')"
   ]
  },
  {
   "cell_type": "code",
   "execution_count": 68,
   "metadata": {},
   "outputs": [
    {
     "data": {
      "text/plain": [
       "0        25\n",
       "1        25\n",
       "2        25\n",
       "3        25\n",
       "4        25\n",
       "         ..\n",
       "60137    25\n",
       "60138    25\n",
       "60139    12\n",
       "60140    12\n",
       "60141    12\n",
       "Name: Nalog_base, Length: 60141, dtype: int64"
      ]
     },
     "execution_count": 68,
     "metadata": {},
     "output_type": "execute_result"
    }
   ],
   "source": [
    "traincc['Nalog_base']"
   ]
  },
  {
   "cell_type": "code",
   "execution_count": 69,
   "metadata": {},
   "outputs": [],
   "source": [
    "testcc['enginePower'] = testcc['enginePower'].astype(float)"
   ]
  },
  {
   "cell_type": "code",
   "execution_count": 70,
   "metadata": {},
   "outputs": [],
   "source": [
    "traincc['enginePower'] = traincc['enginePower'].astype(float)"
   ]
  },
  {
   "cell_type": "code",
   "execution_count": 71,
   "metadata": {},
   "outputs": [
    {
     "data": {
      "text/plain": [
       "count    34686.000000\n",
       "mean       188.194142\n",
       "std         89.087035\n",
       "min         30.000000\n",
       "25%        125.000000\n",
       "50%        169.000000\n",
       "75%        233.000000\n",
       "max        639.000000\n",
       "Name: enginePower, dtype: float64"
      ]
     },
     "execution_count": 71,
     "metadata": {},
     "output_type": "execute_result"
    }
   ],
   "source": [
    "testcc.enginePower.describe()"
   ]
  },
  {
   "cell_type": "code",
   "execution_count": 72,
   "metadata": {},
   "outputs": [],
   "source": [
    "testcc['log_power'] = np.log(testcc.enginePower)"
   ]
  },
  {
   "cell_type": "code",
   "execution_count": 73,
   "metadata": {},
   "outputs": [],
   "source": [
    "traincc['Nalog'] = traincc['enginePower'] * traincc['Nalog_base']\n",
    "testcc['Nalog'] = testcc['enginePower'] * testcc['Nalog_base']"
   ]
  },
  {
   "cell_type": "code",
   "execution_count": 74,
   "metadata": {},
   "outputs": [],
   "source": [
    "traincc['Nalog'] = traincc['Nalog'].astype(float)\n",
    "testcc['Nalog'] = testcc['Nalog'].astype(float)"
   ]
  },
  {
   "cell_type": "code",
   "execution_count": 75,
   "metadata": {},
   "outputs": [
    {
     "data": {
      "text/plain": [
       "(0        3125.0\n",
       " 1        3050.0\n",
       " 2        3050.0\n",
       " 3        3050.0\n",
       " 4        3050.0\n",
       "           ...  \n",
       " 60137    2875.0\n",
       " 60138    2875.0\n",
       " 60139    1080.0\n",
       " 60140    1080.0\n",
       " 60141     900.0\n",
       " Name: Nalog, Length: 60141, dtype: float64,\n",
       " 0         2625.0\n",
       " 1         2750.0\n",
       " 2         6840.0\n",
       " 3         2750.0\n",
       " 4         6840.0\n",
       "           ...   \n",
       " 34681     4760.0\n",
       " 34682     9500.0\n",
       " 34683     7650.0\n",
       " 34684     9200.0\n",
       " 34685    17625.0\n",
       " Name: Nalog, Length: 34686, dtype: float64)"
      ]
     },
     "execution_count": 75,
     "metadata": {},
     "output_type": "execute_result"
    }
   ],
   "source": [
    "traincc['Nalog'] ,testcc['Nalog']"
   ]
  },
  {
   "cell_type": "code",
   "execution_count": 76,
   "metadata": {},
   "outputs": [
    {
     "data": {
      "image/png": "[encoded data removed]",
      "text/plain": [
       "<Figure size 576x360 with 1 Axes>"
      ]
     },
     "metadata": {
      "needs_background": "light"
     },
     "output_type": "display_data"
    }
   ],
   "source": [
    "plt.figure(figsize=(8, 5))\n",
    "g1 = sns.boxplot(y='log_price', x='Nalog_base', \n",
    "                  data=traincc, color='salmon')\n",
    "g1.set_title(\"price of Nalog\", fontsize=20)\n",
    "\n",
    "g1.set_ylabel(\"log_price\", fontsize=15)\n",
    "g1.set_xticklabels(g1.get_xticklabels(),rotation=45)\n",
    "plt.show()"
   ]
  },
  {
   "cell_type": "code",
   "execution_count": 77,
   "metadata": {},
   "outputs": [
    {
     "data": {
      "text/plain": [
       "<AxesSubplot:xlabel='Nalog'>"
      ]
     },
     "execution_count": 77,
     "metadata": {},
     "output_type": "execute_result"
    },
    {
     "data": {
      "image/png": "[encoded data removed]",
      "text/plain": [
       "<Figure size 432x288 with 1 Axes>"
      ]
     },
     "metadata": {
      "needs_background": "light"
     },
     "output_type": "display_data"
    }
   ],
   "source": [
    "traincc.groupby('Nalog').price.mean().plot()\n"
   ]
  },
  {
   "cell_type": "markdown",
   "metadata": {},
   "source": [
    "engineDisplacement"
   ]
  },
  {
   "cell_type": "code",
   "execution_count": 78,
   "metadata": {},
   "outputs": [
    {
     "data": {
      "text/plain": [
       "1598    7204\n",
       "1998    3767\n",
       "1991    2971\n",
       "1997    2924\n",
       "2925    2342\n",
       "        ... \n",
       "3318       1\n",
       "2084       1\n",
       "1200       1\n",
       "2404       1\n",
       "1452       1\n",
       "Name: engineDisplacement, Length: 479, dtype: int64"
      ]
     },
     "execution_count": 78,
     "metadata": {},
     "output_type": "execute_result"
    }
   ],
   "source": [
    "traincc.engineDisplacement.value_counts()"
   ]
  },
  {
   "cell_type": "code",
   "execution_count": 79,
   "metadata": {},
   "outputs": [],
   "source": [
    "traincc['engineDisplacement'] = traincc['engineDisplacement'].values.astype('int')"
   ]
  },
  {
   "cell_type": "code",
   "execution_count": 80,
   "metadata": {
    "scrolled": false
   },
   "outputs": [],
   "source": [
    "# traincc['engineDisplacement'] = traincc['engineDisplacement'].apply(lambda x: x[:3])\n",
    "testcc['engineDisplacement'] = testcc['engineDisplacement'].apply(lambda x: x[:3])"
   ]
  },
  {
   "cell_type": "code",
   "execution_count": 81,
   "metadata": {},
   "outputs": [
    {
     "data": {
      "text/plain": [
       "2.0 LTR    7391\n",
       "1.6 LTR    4973\n",
       "3.0 LTR    3915\n",
       "1.8 LTR    3349\n",
       "2.5 LTR    2477\n",
       "2.4 LTR    1745\n",
       "3.5 LTR    1710\n",
       "1.4 LTR    1635\n",
       "1.5 LTR     725\n",
       "1.2 LTR     485\n",
       "4.4 LTR     447\n",
       "2.8 LTR     384\n",
       "4.7 LTR     377\n",
       "1.3 LTR     365\n",
       "5.5 LTR     361\n",
       "4.0 LTR     356\n",
       "3.2 LTR     348\n",
       "4.5 LTR     346\n",
       "2.1 LTR     271\n",
       "3.7 LTR     242\n",
       "2.2 LTR     236\n",
       "4.2 LTR     228\n",
       "1.9 LTR     221\n",
       "2.3 LTR     203\n",
       "2.7 LTR     189\n",
       "3.6 LTR     183\n",
       "5.6 LTR     170\n",
       "5.0 LTR     158\n",
       "5.7 LTR     135\n",
       "2.9 LTR     131\n",
       "4.6 LTR     108\n",
       "3.1 LTR      88\n",
       "4.8 LTR      84\n",
       "1.7 LTR      59\n",
       "3.8 LTR      57\n",
       "1.0 LTR      57\n",
       "2.6 LTR      55\n",
       " LTR         55\n",
       "6.0 LTR      53\n",
       "0.7 LTR      53\n",
       "3.3 LTR      44\n",
       "3.4 LTR      36\n",
       "4.1 LTR      35\n",
       "4.3 LTR      32\n",
       "5.4 LTR      31\n",
       "6.2 LTR      28\n",
       "5.9 LTR      12\n",
       "5.2 LTR      12\n",
       "6.3 LTR       8\n",
       "5.8 LTR       7\n",
       "6.6 LTR       6\n",
       "4.9 LTR       4\n",
       "1.1 LTR       4\n",
       "5.3 LTR       1\n",
       "3.9 LTR       1\n",
       "Name: engineDisplacement, dtype: int64"
      ]
     },
     "execution_count": 81,
     "metadata": {},
     "output_type": "execute_result"
    }
   ],
   "source": [
    "test['engineDisplacement'].value_counts()"
   ]
  },
  {
   "cell_type": "code",
   "execution_count": 82,
   "metadata": {},
   "outputs": [
    {
     "data": {
      "text/plain": [
       "1598    7204\n",
       "1998    3767\n",
       "1991    2971\n",
       "1997    2924\n",
       "2925    2342\n",
       "        ... \n",
       "3318       1\n",
       "2084       1\n",
       "1200       1\n",
       "2404       1\n",
       "1452       1\n",
       "Name: engineDisplacement, Length: 479, dtype: int64"
      ]
     },
     "execution_count": 82,
     "metadata": {},
     "output_type": "execute_result"
    }
   ],
   "source": [
    "train['engineDisplacement'].value_counts()"
   ]
  },
  {
   "cell_type": "code",
   "execution_count": 83,
   "metadata": {},
   "outputs": [
    {
     "data": {
      "text/html": [
       "<div>\n",
       "<style scoped>\n",
       "    .dataframe tbody tr th:only-of-type {\n",
       "        vertical-align: middle;\n",
       "    }\n",
       "\n",
       "    .dataframe tbody tr th {\n",
       "        vertical-align: top;\n",
       "    }\n",
       "\n",
       "    .dataframe thead th {\n",
       "        text-align: right;\n",
       "    }\n",
       "</style>\n",
       "<table border=\"1\" class=\"dataframe\">\n",
       "  <thead>\n",
       "    <tr style=\"text-align: right;\">\n",
       "      <th></th>\n",
       "      <th>bodyType</th>\n",
       "      <th>brand</th>\n",
       "      <th>description</th>\n",
       "      <th>engineDisplacement</th>\n",
       "      <th>enginePower</th>\n",
       "      <th>equipment_dict</th>\n",
       "      <th>fuelType</th>\n",
       "      <th>image</th>\n",
       "      <th>mileage</th>\n",
       "      <th>modelDate</th>\n",
       "      <th>...</th>\n",
       "      <th>parking_sensors</th>\n",
       "      <th>dents</th>\n",
       "      <th>roof_with_panoramic_view</th>\n",
       "      <th>mileageNAN</th>\n",
       "      <th>log_price</th>\n",
       "      <th>bT_length</th>\n",
       "      <th>brand_length</th>\n",
       "      <th>log_power</th>\n",
       "      <th>Nalog_base</th>\n",
       "      <th>Nalog</th>\n",
       "    </tr>\n",
       "  </thead>\n",
       "  <tbody>\n",
       "  </tbody>\n",
       "</table>\n",
       "<p>0 rows × 63 columns</p>\n",
       "</div>"
      ],
      "text/plain": [
       "Empty DataFrame\n",
       "Columns: [bodyType, brand, description, engineDisplacement, enginePower, equipment_dict, fuelType, image, mileage, modelDate, model_info, model_name, name, numberOfDoors, parsing_unixtime, productionDate, sell_id, section, url_saleid, super_gen, vehicleConfiguration, vehicleTransmission, vendor, Владельцы, ПТС, Привод, Руль, price, auto_class, price_segment, seller_type, color, description_word, leather, carter, ABS, airbags, immob, central_locking, on_board_computer, cruise_control, climat_control, multi_rudder, power_steering, light_and_rain_sensors, сarbon_body_kits, rear_diffuser_rkp, door_closers, rear_view_camera, amg, bi_xenon_headlights, from_salon, alloy_wheels, parking_sensors, dents, roof_with_panoramic_view, mileageNAN, log_price, bT_length, brand_length, log_power, Nalog_base, Nalog]\n",
       "Index: []\n",
       "\n",
       "[0 rows x 63 columns]"
      ]
     },
     "execution_count": 83,
     "metadata": {},
     "output_type": "execute_result"
    }
   ],
   "source": [
    "traincc[traincc['engineDisplacement'] == 'S4']"
   ]
  },
  {
   "cell_type": "code",
   "execution_count": 84,
   "metadata": {},
   "outputs": [
    {
     "data": {
      "text/plain": [
       "55"
      ]
     },
     "execution_count": 84,
     "metadata": {},
     "output_type": "execute_result"
    }
   ],
   "source": [
    "len(testcc[testcc['engineDisplacement'] == ' LT'])"
   ]
  },
  {
   "cell_type": "code",
   "execution_count": 85,
   "metadata": {},
   "outputs": [
    {
     "data": {
      "text/html": [
       "<div>\n",
       "<style scoped>\n",
       "    .dataframe tbody tr th:only-of-type {\n",
       "        vertical-align: middle;\n",
       "    }\n",
       "\n",
       "    .dataframe tbody tr th {\n",
       "        vertical-align: top;\n",
       "    }\n",
       "\n",
       "    .dataframe thead th {\n",
       "        text-align: right;\n",
       "    }\n",
       "</style>\n",
       "<table border=\"1\" class=\"dataframe\">\n",
       "  <thead>\n",
       "    <tr style=\"text-align: right;\">\n",
       "      <th></th>\n",
       "      <th>bodyType</th>\n",
       "      <th>brand</th>\n",
       "      <th>description</th>\n",
       "      <th>engineDisplacement</th>\n",
       "      <th>enginePower</th>\n",
       "      <th>equipment_dict</th>\n",
       "      <th>fuelType</th>\n",
       "      <th>image</th>\n",
       "      <th>mileage</th>\n",
       "      <th>modelDate</th>\n",
       "      <th>...</th>\n",
       "      <th>parking_sensors</th>\n",
       "      <th>dents</th>\n",
       "      <th>roof_with_panoramic_view</th>\n",
       "      <th>mileageNAN</th>\n",
       "      <th>log_price</th>\n",
       "      <th>bT_length</th>\n",
       "      <th>brand_length</th>\n",
       "      <th>log_power</th>\n",
       "      <th>Nalog_base</th>\n",
       "      <th>Nalog</th>\n",
       "    </tr>\n",
       "  </thead>\n",
       "  <tbody>\n",
       "  </tbody>\n",
       "</table>\n",
       "<p>0 rows × 63 columns</p>\n",
       "</div>"
      ],
      "text/plain": [
       "Empty DataFrame\n",
       "Columns: [bodyType, brand, description, engineDisplacement, enginePower, equipment_dict, fuelType, image, mileage, modelDate, model_info, model_name, name, numberOfDoors, parsing_unixtime, productionDate, sell_id, section, url_saleid, super_gen, vehicleConfiguration, vehicleTransmission, vendor, Владельцы, ПТС, Привод, Руль, price, auto_class, price_segment, seller_type, color, description_word, leather, carter, ABS, airbags, immob, central_locking, on_board_computer, cruise_control, climat_control, multi_rudder, power_steering, light_and_rain_sensors, сarbon_body_kits, rear_diffuser_rkp, door_closers, rear_view_camera, amg, bi_xenon_headlights, from_salon, alloy_wheels, parking_sensors, dents, roof_with_panoramic_view, mileageNAN, log_price, bT_length, brand_length, log_power, Nalog_base, Nalog]\n",
       "Index: []\n",
       "\n",
       "[0 rows x 63 columns]"
      ]
     },
     "execution_count": 85,
     "metadata": {},
     "output_type": "execute_result"
    }
   ],
   "source": [
    "traincc[traincc['engineDisplacement'] == ' LT']"
   ]
  },
  {
   "cell_type": "code",
   "execution_count": 86,
   "metadata": {},
   "outputs": [
    {
     "data": {
      "text/html": [
       "<div>\n",
       "<style scoped>\n",
       "    .dataframe tbody tr th:only-of-type {\n",
       "        vertical-align: middle;\n",
       "    }\n",
       "\n",
       "    .dataframe tbody tr th {\n",
       "        vertical-align: top;\n",
       "    }\n",
       "\n",
       "    .dataframe thead th {\n",
       "        text-align: right;\n",
       "    }\n",
       "</style>\n",
       "<table border=\"1\" class=\"dataframe\">\n",
       "  <thead>\n",
       "    <tr style=\"text-align: right;\">\n",
       "      <th></th>\n",
       "      <th>count</th>\n",
       "      <th>mean</th>\n",
       "      <th>std</th>\n",
       "      <th>min</th>\n",
       "      <th>25%</th>\n",
       "      <th>50%</th>\n",
       "      <th>75%</th>\n",
       "      <th>max</th>\n",
       "    </tr>\n",
       "    <tr>\n",
       "      <th>engineDisplacement</th>\n",
       "      <th></th>\n",
       "      <th></th>\n",
       "      <th></th>\n",
       "      <th></th>\n",
       "      <th></th>\n",
       "      <th></th>\n",
       "      <th></th>\n",
       "      <th></th>\n",
       "    </tr>\n",
       "  </thead>\n",
       "  <tbody>\n",
       "    <tr>\n",
       "      <th>0</th>\n",
       "      <td>109.0</td>\n",
       "      <td>277.137615</td>\n",
       "      <td>147.947467</td>\n",
       "      <td>11.0</td>\n",
       "      <td>109.00</td>\n",
       "      <td>408.0</td>\n",
       "      <td>408.0</td>\n",
       "      <td>680.0</td>\n",
       "    </tr>\n",
       "    <tr>\n",
       "      <th>582</th>\n",
       "      <td>1.0</td>\n",
       "      <td>19.000000</td>\n",
       "      <td>NaN</td>\n",
       "      <td>19.0</td>\n",
       "      <td>19.00</td>\n",
       "      <td>19.0</td>\n",
       "      <td>19.0</td>\n",
       "      <td>19.0</td>\n",
       "    </tr>\n",
       "    <tr>\n",
       "      <th>647</th>\n",
       "      <td>11.0</td>\n",
       "      <td>171.272727</td>\n",
       "      <td>4.221159</td>\n",
       "      <td>170.0</td>\n",
       "      <td>170.00</td>\n",
       "      <td>170.0</td>\n",
       "      <td>170.0</td>\n",
       "      <td>184.0</td>\n",
       "    </tr>\n",
       "    <tr>\n",
       "      <th>656</th>\n",
       "      <td>4.0</td>\n",
       "      <td>56.750000</td>\n",
       "      <td>8.845903</td>\n",
       "      <td>46.0</td>\n",
       "      <td>51.25</td>\n",
       "      <td>58.5</td>\n",
       "      <td>64.0</td>\n",
       "      <td>64.0</td>\n",
       "    </tr>\n",
       "    <tr>\n",
       "      <th>657</th>\n",
       "      <td>4.0</td>\n",
       "      <td>49.000000</td>\n",
       "      <td>2.000000</td>\n",
       "      <td>48.0</td>\n",
       "      <td>48.00</td>\n",
       "      <td>48.0</td>\n",
       "      <td>49.0</td>\n",
       "      <td>52.0</td>\n",
       "    </tr>\n",
       "    <tr>\n",
       "      <th>658</th>\n",
       "      <td>35.0</td>\n",
       "      <td>54.057143</td>\n",
       "      <td>5.017281</td>\n",
       "      <td>46.0</td>\n",
       "      <td>52.00</td>\n",
       "      <td>52.0</td>\n",
       "      <td>56.5</td>\n",
       "      <td>64.0</td>\n",
       "    </tr>\n",
       "    <tr>\n",
       "      <th>659</th>\n",
       "      <td>1.0</td>\n",
       "      <td>64.000000</td>\n",
       "      <td>NaN</td>\n",
       "      <td>64.0</td>\n",
       "      <td>64.00</td>\n",
       "      <td>64.0</td>\n",
       "      <td>64.0</td>\n",
       "      <td>64.0</td>\n",
       "    </tr>\n",
       "    <tr>\n",
       "      <th>875</th>\n",
       "      <td>1.0</td>\n",
       "      <td>85.000000</td>\n",
       "      <td>NaN</td>\n",
       "      <td>85.0</td>\n",
       "      <td>85.00</td>\n",
       "      <td>85.0</td>\n",
       "      <td>85.0</td>\n",
       "      <td>85.0</td>\n",
       "    </tr>\n",
       "    <tr>\n",
       "      <th>970</th>\n",
       "      <td>1.0</td>\n",
       "      <td>45.000000</td>\n",
       "      <td>NaN</td>\n",
       "      <td>45.0</td>\n",
       "      <td>45.00</td>\n",
       "      <td>45.0</td>\n",
       "      <td>45.0</td>\n",
       "      <td>45.0</td>\n",
       "    </tr>\n",
       "    <tr>\n",
       "      <th>973</th>\n",
       "      <td>11.0</td>\n",
       "      <td>55.090909</td>\n",
       "      <td>1.868397</td>\n",
       "      <td>54.0</td>\n",
       "      <td>54.00</td>\n",
       "      <td>54.0</td>\n",
       "      <td>56.0</td>\n",
       "      <td>58.0</td>\n",
       "    </tr>\n",
       "    <tr>\n",
       "      <th>989</th>\n",
       "      <td>1.0</td>\n",
       "      <td>64.000000</td>\n",
       "      <td>NaN</td>\n",
       "      <td>64.0</td>\n",
       "      <td>64.00</td>\n",
       "      <td>64.0</td>\n",
       "      <td>64.0</td>\n",
       "      <td>64.0</td>\n",
       "    </tr>\n",
       "    <tr>\n",
       "      <th>993</th>\n",
       "      <td>3.0</td>\n",
       "      <td>53.000000</td>\n",
       "      <td>0.000000</td>\n",
       "      <td>53.0</td>\n",
       "      <td>53.00</td>\n",
       "      <td>53.0</td>\n",
       "      <td>53.0</td>\n",
       "      <td>53.0</td>\n",
       "    </tr>\n",
       "    <tr>\n",
       "      <th>996</th>\n",
       "      <td>11.0</td>\n",
       "      <td>74.454545</td>\n",
       "      <td>12.168514</td>\n",
       "      <td>68.0</td>\n",
       "      <td>69.00</td>\n",
       "      <td>69.0</td>\n",
       "      <td>70.0</td>\n",
       "      <td>100.0</td>\n",
       "    </tr>\n",
       "    <tr>\n",
       "      <th>997</th>\n",
       "      <td>5.0</td>\n",
       "      <td>70.000000</td>\n",
       "      <td>0.000000</td>\n",
       "      <td>70.0</td>\n",
       "      <td>70.00</td>\n",
       "      <td>70.0</td>\n",
       "      <td>70.0</td>\n",
       "      <td>70.0</td>\n",
       "    </tr>\n",
       "    <tr>\n",
       "      <th>998</th>\n",
       "      <td>53.0</td>\n",
       "      <td>65.207547</td>\n",
       "      <td>4.096708</td>\n",
       "      <td>54.0</td>\n",
       "      <td>60.00</td>\n",
       "      <td>68.0</td>\n",
       "      <td>68.0</td>\n",
       "      <td>69.0</td>\n",
       "    </tr>\n",
       "    <tr>\n",
       "      <th>999</th>\n",
       "      <td>11.0</td>\n",
       "      <td>64.000000</td>\n",
       "      <td>6.928203</td>\n",
       "      <td>50.0</td>\n",
       "      <td>67.00</td>\n",
       "      <td>67.0</td>\n",
       "      <td>67.0</td>\n",
       "      <td>68.0</td>\n",
       "    </tr>\n",
       "    <tr>\n",
       "      <th>1061</th>\n",
       "      <td>1.0</td>\n",
       "      <td>62.000000</td>\n",
       "      <td>NaN</td>\n",
       "      <td>62.0</td>\n",
       "      <td>62.00</td>\n",
       "      <td>62.0</td>\n",
       "      <td>62.0</td>\n",
       "      <td>62.0</td>\n",
       "    </tr>\n",
       "    <tr>\n",
       "      <th>1094</th>\n",
       "      <td>2.0</td>\n",
       "      <td>80.000000</td>\n",
       "      <td>0.000000</td>\n",
       "      <td>80.0</td>\n",
       "      <td>80.00</td>\n",
       "      <td>80.0</td>\n",
       "      <td>80.0</td>\n",
       "      <td>80.0</td>\n",
       "    </tr>\n",
       "    <tr>\n",
       "      <th>1100</th>\n",
       "      <td>1.0</td>\n",
       "      <td>48.000000</td>\n",
       "      <td>NaN</td>\n",
       "      <td>48.0</td>\n",
       "      <td>48.00</td>\n",
       "      <td>48.0</td>\n",
       "      <td>48.0</td>\n",
       "      <td>48.0</td>\n",
       "    </tr>\n",
       "    <tr>\n",
       "      <th>1108</th>\n",
       "      <td>3.0</td>\n",
       "      <td>55.000000</td>\n",
       "      <td>0.000000</td>\n",
       "      <td>55.0</td>\n",
       "      <td>55.00</td>\n",
       "      <td>55.0</td>\n",
       "      <td>55.0</td>\n",
       "      <td>55.0</td>\n",
       "    </tr>\n",
       "  </tbody>\n",
       "</table>\n",
       "</div>"
      ],
      "text/plain": [
       "                    count        mean         std    min     25%    50%  \\\n",
       "engineDisplacement                                                        \n",
       "0                   109.0  277.137615  147.947467   11.0  109.00  408.0   \n",
       "582                   1.0   19.000000         NaN   19.0   19.00   19.0   \n",
       "647                  11.0  171.272727    4.221159  170.0  170.00  170.0   \n",
       "656                   4.0   56.750000    8.845903   46.0   51.25   58.5   \n",
       "657                   4.0   49.000000    2.000000   48.0   48.00   48.0   \n",
       "658                  35.0   54.057143    5.017281   46.0   52.00   52.0   \n",
       "659                   1.0   64.000000         NaN   64.0   64.00   64.0   \n",
       "875                   1.0   85.000000         NaN   85.0   85.00   85.0   \n",
       "970                   1.0   45.000000         NaN   45.0   45.00   45.0   \n",
       "973                  11.0   55.090909    1.868397   54.0   54.00   54.0   \n",
       "989                   1.0   64.000000         NaN   64.0   64.00   64.0   \n",
       "993                   3.0   53.000000    0.000000   53.0   53.00   53.0   \n",
       "996                  11.0   74.454545   12.168514   68.0   69.00   69.0   \n",
       "997                   5.0   70.000000    0.000000   70.0   70.00   70.0   \n",
       "998                  53.0   65.207547    4.096708   54.0   60.00   68.0   \n",
       "999                  11.0   64.000000    6.928203   50.0   67.00   67.0   \n",
       "1061                  1.0   62.000000         NaN   62.0   62.00   62.0   \n",
       "1094                  2.0   80.000000    0.000000   80.0   80.00   80.0   \n",
       "1100                  1.0   48.000000         NaN   48.0   48.00   48.0   \n",
       "1108                  3.0   55.000000    0.000000   55.0   55.00   55.0   \n",
       "\n",
       "                      75%    max  \n",
       "engineDisplacement                \n",
       "0                   408.0  680.0  \n",
       "582                  19.0   19.0  \n",
       "647                 170.0  184.0  \n",
       "656                  64.0   64.0  \n",
       "657                  49.0   52.0  \n",
       "658                  56.5   64.0  \n",
       "659                  64.0   64.0  \n",
       "875                  85.0   85.0  \n",
       "970                  45.0   45.0  \n",
       "973                  56.0   58.0  \n",
       "989                  64.0   64.0  \n",
       "993                  53.0   53.0  \n",
       "996                  70.0  100.0  \n",
       "997                  70.0   70.0  \n",
       "998                  68.0   69.0  \n",
       "999                  67.0   68.0  \n",
       "1061                 62.0   62.0  \n",
       "1094                 80.0   80.0  \n",
       "1100                 48.0   48.0  \n",
       "1108                 55.0   55.0  "
      ]
     },
     "execution_count": 86,
     "metadata": {},
     "output_type": "execute_result"
    }
   ],
   "source": [
    "traincc.groupby('engineDisplacement').enginePower.describe().head(20)"
   ]
  },
  {
   "cell_type": "code",
   "execution_count": 87,
   "metadata": {},
   "outputs": [],
   "source": [
    "traincc['engineDisplacement'] = traincc['engineDisplacement'].apply(lambda x: 1.6 if x == ' LT' else x)\n",
    "testcc['engineDisplacement'] = testcc['engineDisplacement'].apply(lambda x: 1.6 if x == ' LT' else x)"
   ]
  },
  {
   "cell_type": "code",
   "execution_count": 88,
   "metadata": {},
   "outputs": [
    {
     "data": {
      "text/plain": [
       "Int64Index([1598, 1998, 1991, 1997, 2925, 1950, 1995, 1984, 2993, 1798, 1395,\n",
       "            2999, 3498, 1796, 1595, 1390, 1969, 1332, 2488, 2996, 2967, 1499,\n",
       "            3982, 2987, 2143, 1968, 4395, 1781, 1999, 1587, 2995, 2487, 1364,\n",
       "            3456, 2979, 2360, 1197, 1584, 1987, 1590, 1586],\n",
       "           dtype='int64')"
      ]
     },
     "execution_count": 88,
     "metadata": {},
     "output_type": "execute_result"
    }
   ],
   "source": [
    "traincc['engineDisplacement'].value_counts()[:41].keys()"
   ]
  },
  {
   "cell_type": "code",
   "execution_count": 89,
   "metadata": {},
   "outputs": [],
   "source": [
    "brand_list = list(traincc['engineDisplacement'].value_counts()[:41].keys())\n",
    "traincc['engineDisplacement'] = traincc['engineDisplacement'].apply(lambda x: x if x in brand_list else 1.8)\n"
   ]
  },
  {
   "cell_type": "code",
   "execution_count": 90,
   "metadata": {},
   "outputs": [
    {
     "data": {
      "text/plain": [
       "<AxesSubplot:>"
      ]
     },
     "execution_count": 90,
     "metadata": {},
     "output_type": "execute_result"
    },
    {
     "data": {
      "image/png": "[encoded data removed]",
      "text/plain": [
       "<Figure size 432x288 with 1 Axes>"
      ]
     },
     "metadata": {
      "needs_background": "light"
     },
     "output_type": "display_data"
    }
   ],
   "source": [
    "traincc['engineDisplacement'] = traincc['engineDisplacement'].astype('float')\n",
    "traincc['engineDisplacement'].value_counts().plot(kind='bar')"
   ]
  },
  {
   "cell_type": "code",
   "execution_count": 91,
   "metadata": {},
   "outputs": [
    {
     "data": {
      "text/plain": [
       "(автоматическая      35006\n",
       " механическая        11197\n",
       " роботизированная     7381\n",
       " вариаторная          6557\n",
       " Name: vehicleTransmission, dtype: int64,\n",
       " автоматическая      19596\n",
       " механическая         7209\n",
       " вариатор             3999\n",
       " роботизированная     3882\n",
       " Name: vehicleTransmission, dtype: int64)"
      ]
     },
     "execution_count": 91,
     "metadata": {},
     "output_type": "execute_result"
    }
   ],
   "source": [
    "traincc.vehicleTransmission.value_counts(),testcc.vehicleTransmission.value_counts()\n"
   ]
  },
  {
   "cell_type": "code",
   "execution_count": 92,
   "metadata": {},
   "outputs": [
    {
     "data": {
      "image/png": "[encoded data removed]",
      "text/plain": [
       "<Figure size 576x360 with 1 Axes>"
      ]
     },
     "metadata": {
      "needs_background": "light"
     },
     "output_type": "display_data"
    }
   ],
   "source": [
    "plt.figure(figsize=(8, 5))\n",
    "g1 = sns.boxplot(y='log_price', x='vehicleTransmission', \n",
    "                  data=traincc, color='teal')\n",
    "g1.set_title(\"price of vehicleTransmission\", fontsize=20)\n",
    "\n",
    "g1.set_ylabel(\"log_price\", fontsize=15)\n",
    "g1.set_xticklabels(g1.get_xticklabels(),rotation=45)\n",
    "plt.show()"
   ]
  },
  {
   "cell_type": "code",
   "execution_count": 93,
   "metadata": {},
   "outputs": [
    {
     "data": {
      "text/plain": [
       "'SEDAN MECHANICAL 1.8\\xa0MT'"
      ]
     },
     "execution_count": 93,
     "metadata": {},
     "output_type": "execute_result"
    }
   ],
   "source": [
    "traincc.vehicleConfiguration[67]"
   ]
  },
  {
   "cell_type": "code",
   "execution_count": 94,
   "metadata": {},
   "outputs": [
    {
     "data": {
      "text/html": [
       "<div>\n",
       "<style scoped>\n",
       "    .dataframe tbody tr th:only-of-type {\n",
       "        vertical-align: middle;\n",
       "    }\n",
       "\n",
       "    .dataframe tbody tr th {\n",
       "        vertical-align: top;\n",
       "    }\n",
       "\n",
       "    .dataframe thead th {\n",
       "        text-align: right;\n",
       "    }\n",
       "</style>\n",
       "<table border=\"1\" class=\"dataframe\">\n",
       "  <thead>\n",
       "    <tr style=\"text-align: right;\">\n",
       "      <th></th>\n",
       "      <th>bodyType</th>\n",
       "      <th>brand</th>\n",
       "      <th>car_url</th>\n",
       "      <th>color</th>\n",
       "      <th>complectation_dict</th>\n",
       "      <th>description</th>\n",
       "      <th>engineDisplacement</th>\n",
       "      <th>enginePower</th>\n",
       "      <th>equipment_dict</th>\n",
       "      <th>fuelType</th>\n",
       "      <th>...</th>\n",
       "      <th>from_salon</th>\n",
       "      <th>alloy_wheels</th>\n",
       "      <th>parking_sensors</th>\n",
       "      <th>dents</th>\n",
       "      <th>roof_with_panoramic_view</th>\n",
       "      <th>bT_length</th>\n",
       "      <th>brand_length</th>\n",
       "      <th>Nalog_base</th>\n",
       "      <th>log_power</th>\n",
       "      <th>Nalog</th>\n",
       "    </tr>\n",
       "  </thead>\n",
       "  <tbody>\n",
       "    <tr>\n",
       "      <th>16944</th>\n",
       "      <td>кабриолет</td>\n",
       "      <td>MERCEDES</td>\n",
       "      <td>https://auto.ru/cars/used/sale/mercedes/simple...</td>\n",
       "      <td>белый</td>\n",
       "      <td>NaN</td>\n",
       "      <td>на ходу. 1904 год. стоит в гараже, пылится.Кат...</td>\n",
       "      <td>5.3</td>\n",
       "      <td>32.0</td>\n",
       "      <td>NaN</td>\n",
       "      <td>бензин</td>\n",
       "      <td>...</td>\n",
       "      <td>0</td>\n",
       "      <td>0</td>\n",
       "      <td>0</td>\n",
       "      <td>0</td>\n",
       "      <td>0</td>\n",
       "      <td>9</td>\n",
       "      <td>8</td>\n",
       "      <td>5000</td>\n",
       "      <td>3.465736</td>\n",
       "      <td>160000.0</td>\n",
       "    </tr>\n",
       "  </tbody>\n",
       "</table>\n",
       "<p>1 rows × 58 columns</p>\n",
       "</div>"
      ],
      "text/plain": [
       "        bodyType     brand                                            car_url  \\\n",
       "16944  кабриолет  MERCEDES  https://auto.ru/cars/used/sale/mercedes/simple...   \n",
       "\n",
       "       color complectation_dict  \\\n",
       "16944  белый                NaN   \n",
       "\n",
       "                                             description engineDisplacement  \\\n",
       "16944  на ходу. 1904 год. стоит в гараже, пылится.Кат...                5.3   \n",
       "\n",
       "       enginePower equipment_dict fuelType  ... from_salon  alloy_wheels  \\\n",
       "16944         32.0            NaN   бензин  ...          0             0   \n",
       "\n",
       "       parking_sensors dents roof_with_panoramic_view bT_length  brand_length  \\\n",
       "16944                0     0                        0         9             8   \n",
       "\n",
       "       Nalog_base  log_power     Nalog  \n",
       "16944        5000   3.465736  160000.0  \n",
       "\n",
       "[1 rows x 58 columns]"
      ]
     },
     "execution_count": 94,
     "metadata": {},
     "output_type": "execute_result"
    }
   ],
   "source": [
    "testcc[testcc.numberOfDoors == 0] "
   ]
  },
  {
   "cell_type": "code",
   "execution_count": 95,
   "metadata": {},
   "outputs": [
    {
     "data": {
      "text/html": [
       "<div>\n",
       "<style scoped>\n",
       "    .dataframe tbody tr th:only-of-type {\n",
       "        vertical-align: middle;\n",
       "    }\n",
       "\n",
       "    .dataframe tbody tr th {\n",
       "        vertical-align: top;\n",
       "    }\n",
       "\n",
       "    .dataframe thead th {\n",
       "        text-align: right;\n",
       "    }\n",
       "</style>\n",
       "<table border=\"1\" class=\"dataframe\">\n",
       "  <thead>\n",
       "    <tr style=\"text-align: right;\">\n",
       "      <th></th>\n",
       "      <th>bodyType</th>\n",
       "      <th>brand</th>\n",
       "      <th>description</th>\n",
       "      <th>engineDisplacement</th>\n",
       "      <th>enginePower</th>\n",
       "      <th>equipment_dict</th>\n",
       "      <th>fuelType</th>\n",
       "      <th>image</th>\n",
       "      <th>mileage</th>\n",
       "      <th>modelDate</th>\n",
       "      <th>...</th>\n",
       "      <th>parking_sensors</th>\n",
       "      <th>dents</th>\n",
       "      <th>roof_with_panoramic_view</th>\n",
       "      <th>mileageNAN</th>\n",
       "      <th>log_price</th>\n",
       "      <th>bT_length</th>\n",
       "      <th>brand_length</th>\n",
       "      <th>log_power</th>\n",
       "      <th>Nalog_base</th>\n",
       "      <th>Nalog</th>\n",
       "    </tr>\n",
       "  </thead>\n",
       "  <tbody>\n",
       "  </tbody>\n",
       "</table>\n",
       "<p>0 rows × 63 columns</p>\n",
       "</div>"
      ],
      "text/plain": [
       "Empty DataFrame\n",
       "Columns: [bodyType, brand, description, engineDisplacement, enginePower, equipment_dict, fuelType, image, mileage, modelDate, model_info, model_name, name, numberOfDoors, parsing_unixtime, productionDate, sell_id, section, url_saleid, super_gen, vehicleConfiguration, vehicleTransmission, vendor, Владельцы, ПТС, Привод, Руль, price, auto_class, price_segment, seller_type, color, description_word, leather, carter, ABS, airbags, immob, central_locking, on_board_computer, cruise_control, climat_control, multi_rudder, power_steering, light_and_rain_sensors, сarbon_body_kits, rear_diffuser_rkp, door_closers, rear_view_camera, amg, bi_xenon_headlights, from_salon, alloy_wheels, parking_sensors, dents, roof_with_panoramic_view, mileageNAN, log_price, bT_length, brand_length, log_power, Nalog_base, Nalog]\n",
       "Index: []\n",
       "\n",
       "[0 rows x 63 columns]"
      ]
     },
     "execution_count": 95,
     "metadata": {},
     "output_type": "execute_result"
    }
   ],
   "source": [
    "traincc[traincc.numberOfDoors == 0]"
   ]
  },
  {
   "cell_type": "code",
   "execution_count": 96,
   "metadata": {},
   "outputs": [
    {
     "data": {
      "image/png": "[encoded data removed]",
      "text/plain": [
       "<Figure size 576x360 with 1 Axes>"
      ]
     },
     "metadata": {
      "needs_background": "light"
     },
     "output_type": "display_data"
    }
   ],
   "source": [
    "plt.figure(figsize=(8, 5))\n",
    "g1 = sns.boxplot(y='log_price', x='numberOfDoors', \n",
    "                  data=traincc, color='crimson')\n",
    "g1.set_title(\"price of numberOfDoors\", fontsize=20)\n",
    "\n",
    "g1.set_ylabel(\"log_price\", fontsize=15)\n",
    "g1.set_xticklabels(g1.get_xticklabels(),rotation=45)\n",
    "plt.show()"
   ]
  },
  {
   "cell_type": "code",
   "execution_count": 97,
   "metadata": {},
   "outputs": [
    {
     "data": {
      "text/html": [
       "<div>\n",
       "<style scoped>\n",
       "    .dataframe tbody tr th:only-of-type {\n",
       "        vertical-align: middle;\n",
       "    }\n",
       "\n",
       "    .dataframe tbody tr th {\n",
       "        vertical-align: top;\n",
       "    }\n",
       "\n",
       "    .dataframe thead th {\n",
       "        text-align: right;\n",
       "    }\n",
       "</style>\n",
       "<table border=\"1\" class=\"dataframe\">\n",
       "  <thead>\n",
       "    <tr style=\"text-align: right;\">\n",
       "      <th></th>\n",
       "      <th>color</th>\n",
       "    </tr>\n",
       "  </thead>\n",
       "  <tbody>\n",
       "    <tr>\n",
       "      <th>черный</th>\n",
       "      <td>18328</td>\n",
       "    </tr>\n",
       "    <tr>\n",
       "      <th>белый</th>\n",
       "      <td>11599</td>\n",
       "    </tr>\n",
       "    <tr>\n",
       "      <th>серый</th>\n",
       "      <td>7807</td>\n",
       "    </tr>\n",
       "    <tr>\n",
       "      <th>синий</th>\n",
       "      <td>7118</td>\n",
       "    </tr>\n",
       "    <tr>\n",
       "      <th>серебристый</th>\n",
       "      <td>5034</td>\n",
       "    </tr>\n",
       "    <tr>\n",
       "      <th>красный</th>\n",
       "      <td>2975</td>\n",
       "    </tr>\n",
       "    <tr>\n",
       "      <th>коричневый</th>\n",
       "      <td>2245</td>\n",
       "    </tr>\n",
       "    <tr>\n",
       "      <th>зелёный</th>\n",
       "      <td>1550</td>\n",
       "    </tr>\n",
       "    <tr>\n",
       "      <th>бежевый.</th>\n",
       "      <td>1172</td>\n",
       "    </tr>\n",
       "    <tr>\n",
       "      <th>голубой</th>\n",
       "      <td>808</td>\n",
       "    </tr>\n",
       "    <tr>\n",
       "      <th>оранжевый</th>\n",
       "      <td>307</td>\n",
       "    </tr>\n",
       "    <tr>\n",
       "      <th>золотистый</th>\n",
       "      <td>306</td>\n",
       "    </tr>\n",
       "    <tr>\n",
       "      <th>жёлтый</th>\n",
       "      <td>296</td>\n",
       "    </tr>\n",
       "    <tr>\n",
       "      <th>фиолетовый</th>\n",
       "      <td>294</td>\n",
       "    </tr>\n",
       "    <tr>\n",
       "      <th>пурпурный</th>\n",
       "      <td>291</td>\n",
       "    </tr>\n",
       "    <tr>\n",
       "      <th>розовый</th>\n",
       "      <td>11</td>\n",
       "    </tr>\n",
       "  </tbody>\n",
       "</table>\n",
       "</div>"
      ],
      "text/plain": [
       "             color\n",
       "черный       18328\n",
       "белый        11599\n",
       "серый         7807\n",
       "синий         7118\n",
       "серебристый   5034\n",
       "красный       2975\n",
       "коричневый    2245\n",
       "зелёный       1550\n",
       "бежевый.      1172\n",
       "голубой        808\n",
       "оранжевый      307\n",
       "золотистый     306\n",
       "жёлтый         296\n",
       "фиолетовый     294\n",
       "пурпурный      291\n",
       "розовый         11"
      ]
     },
     "metadata": {},
     "output_type": "display_data"
    }
   ],
   "source": [
    "display(pd.DataFrame(traincc.color.value_counts()))"
   ]
  },
  {
   "cell_type": "code",
   "execution_count": 98,
   "metadata": {},
   "outputs": [
    {
     "data": {
      "image/png": "[encoded data removed]",
      "text/plain": [
       "<Figure size 576x360 with 1 Axes>"
      ]
     },
     "metadata": {
      "needs_background": "light"
     },
     "output_type": "display_data"
    }
   ],
   "source": [
    "plt.figure(figsize=(8, 5))\n",
    "g1 = sns.boxplot(y='log_price', x='color', \n",
    "                  data=traincc, color='brown')\n",
    "g1.set_title(\"price of colors\", fontsize=20)\n",
    "\n",
    "g1.set_ylabel(\"log_price\", fontsize=15)\n",
    "g1.set_xticklabels(g1.get_xticklabels(),rotation=45)\n",
    "plt.show()"
   ]
  },
  {
   "cell_type": "markdown",
   "metadata": {},
   "source": [
    "Узнаем сколько год машину"
   ]
  },
  {
   "cell_type": "code",
   "execution_count": 99,
   "metadata": {},
   "outputs": [],
   "source": [
    "traincc['years_old'] = 2021 - traincc['productionDate']\n",
    "testcc['years_old'] = 2021 - testcc['productionDate']"
   ]
  },
  {
   "cell_type": "code",
   "execution_count": 100,
   "metadata": {},
   "outputs": [
    {
     "data": {
      "text/plain": [
       "<AxesSubplot:>"
      ]
     },
     "execution_count": 100,
     "metadata": {},
     "output_type": "execute_result"
    },
    {
     "data": {
      "image/png": "[encoded data removed]",
      "text/plain": [
       "<Figure size 432x288 with 1 Axes>"
      ]
     },
     "metadata": {
      "needs_background": "light"
     },
     "output_type": "display_data"
    }
   ],
   "source": [
    "traincc.boxplot(column=['productionDate'])\n"
   ]
  },
  {
   "cell_type": "code",
   "execution_count": 101,
   "metadata": {},
   "outputs": [
    {
     "data": {
      "text/plain": [
       "1     15844\n",
       "0      6668\n",
       "9      3014\n",
       "13     2972\n",
       "10     2919\n",
       "8      2777\n",
       "7      2616\n",
       "14     2100\n",
       "2      1990\n",
       "6      1966\n",
       "Name: years_old, dtype: int64"
      ]
     },
     "execution_count": 101,
     "metadata": {},
     "output_type": "execute_result"
    }
   ],
   "source": [
    "traincc.years_old.value_counts().head(10)"
   ]
  },
  {
   "cell_type": "code",
   "execution_count": 102,
   "metadata": {},
   "outputs": [
    {
     "data": {
      "text/plain": [
       "(count    60141.000000\n",
       " mean         7.209275\n",
       " std          7.380562\n",
       " min          0.000000\n",
       " 25%          1.000000\n",
       " 50%          5.000000\n",
       " 75%         11.000000\n",
       " max         83.000000\n",
       " Name: years_old, dtype: float64,\n",
       " count    34686.000000\n",
       " mean        11.735398\n",
       " std          7.047661\n",
       " min          1.000000\n",
       " 25%          7.000000\n",
       " 50%         10.000000\n",
       " 75%         15.000000\n",
       " max        117.000000\n",
       " Name: years_old, dtype: float64)"
      ]
     },
     "execution_count": 102,
     "metadata": {},
     "output_type": "execute_result"
    }
   ],
   "source": [
    "traincc.years_old.describe(),testcc.years_old.describe()"
   ]
  },
  {
   "cell_type": "markdown",
   "metadata": {},
   "source": [
    "*Разобьем возраст на интервалы*"
   ]
  },
  {
   "cell_type": "code",
   "execution_count": 103,
   "metadata": {},
   "outputs": [],
   "source": [
    "bins = [-1, 3, 7, 14, 20, 35, 117]\n",
    "numbers = ['3', '7','14','20','35', '117']\n",
    "\n",
    "traincc['age_intervals']=pd.cut(traincc['years_old'],bins,labels=numbers)\n",
    "testcc['age_intervals']=pd.cut(testcc['years_old'],bins,labels=numbers)"
   ]
  },
  {
   "cell_type": "code",
   "execution_count": 104,
   "metadata": {},
   "outputs": [
    {
     "data": {
      "image/png": "[encoded data removed]",
      "text/plain": [
       "<Figure size 576x360 with 1 Axes>"
      ]
     },
     "metadata": {
      "needs_background": "light"
     },
     "output_type": "display_data"
    }
   ],
   "source": [
    "plt.figure(figsize=(8, 5))\n",
    "g1 = sns.boxplot(y='log_price', x='age_intervals', \n",
    "                  data=traincc, color='teal')\n",
    "g1.set_title(\"price of age_intervals\", fontsize=20)\n",
    "\n",
    "g1.set_ylabel(\"log_price\", fontsize=15)\n",
    "g1.set_xticklabels(g1.get_xticklabels(),rotation=45)\n",
    "plt.show()"
   ]
  },
  {
   "cell_type": "markdown",
   "metadata": {},
   "source": [
    "modelDate"
   ]
  },
  {
   "cell_type": "code",
   "execution_count": 105,
   "metadata": {},
   "outputs": [
    {
     "data": {
      "text/plain": [
       "(count    60141.000000\n",
       " mean      2011.661429\n",
       " std          7.655939\n",
       " min       1936.000000\n",
       " 25%       2007.000000\n",
       " 50%       2013.000000\n",
       " 75%       2018.000000\n",
       " max       2020.000000\n",
       " Name: modelDate, dtype: float64,\n",
       " count    34686.000000\n",
       " mean      2007.074728\n",
       " std          7.415894\n",
       " min       1904.000000\n",
       " 25%       2004.000000\n",
       " 50%       2008.000000\n",
       " 75%       2012.000000\n",
       " max       2020.000000\n",
       " Name: modelDate, dtype: float64)"
      ]
     },
     "execution_count": 105,
     "metadata": {},
     "output_type": "execute_result"
    }
   ],
   "source": [
    "traincc.modelDate.describe(),testcc.modelDate.describe()"
   ]
  },
  {
   "cell_type": "code",
   "execution_count": 106,
   "metadata": {},
   "outputs": [
    {
     "data": {
      "text/plain": [
       "2019    7261\n",
       "2018    6737\n",
       "2017    5183\n",
       "2020    3646\n",
       "2006    3008\n",
       "Name: modelDate, dtype: int64"
      ]
     },
     "execution_count": 106,
     "metadata": {},
     "output_type": "execute_result"
    }
   ],
   "source": [
    "traincc.modelDate.value_counts().head()"
   ]
  },
  {
   "cell_type": "markdown",
   "metadata": {},
   "source": [
    "Владельцы"
   ]
  },
  {
   "cell_type": "code",
   "execution_count": 107,
   "metadata": {},
   "outputs": [
    {
     "data": {
      "text/plain": [
       "(22486, 0)"
      ]
     },
     "execution_count": 107,
     "metadata": {},
     "output_type": "execute_result"
    }
   ],
   "source": [
    "traincc['Владельцы'].isna().sum(),testcc['Владельцы'].isna().sum(),"
   ]
  },
  {
   "cell_type": "code",
   "execution_count": 108,
   "metadata": {},
   "outputs": [
    {
     "data": {
      "text/plain": [
       "(3.0    15041\n",
       " 1.0    11186\n",
       " 2.0     9853\n",
       " 4.0     1575\n",
       " Name: Владельцы, dtype: int64,\n",
       " 3 или более    15957\n",
       " 1 владелец      9459\n",
       " 2 владельца     9270\n",
       " Name: Владельцы, dtype: int64)"
      ]
     },
     "execution_count": 108,
     "metadata": {},
     "output_type": "execute_result"
    }
   ],
   "source": [
    "traincc.Владельцы.value_counts() ,testcc.Владельцы.value_counts()"
   ]
  },
  {
   "cell_type": "code",
   "execution_count": 109,
   "metadata": {},
   "outputs": [],
   "source": [
    "testcc['Владельцы']= testcc['Владельцы'].astype('category')\n",
    "traincc['Владельцы']= traincc['Владельцы'].astype('category')\n",
    "\n",
    "traincc['Владельцы']= traincc['Владельцы'].apply(lambda x: int(re.findall('\\d', str(x))[0]))\n",
    "testcc['Владельцы']= testcc['Владельцы'].apply(lambda x: int(re.findall('\\d', str(x))[0]))"
   ]
  },
  {
   "cell_type": "code",
   "execution_count": 110,
   "metadata": {},
   "outputs": [
    {
     "data": {
      "text/plain": [
       "<AxesSubplot:xlabel='Владельцы', ylabel='count'>"
      ]
     },
     "execution_count": 110,
     "metadata": {},
     "output_type": "execute_result"
    },
    {
     "data": {
      "image/png": "[encoded data removed]",
      "text/plain": [
       "<Figure size 432x288 with 1 Axes>"
      ]
     },
     "metadata": {
      "needs_background": "light"
     },
     "output_type": "display_data"
    }
   ],
   "source": [
    "sns.countplot(x = \"Владельцы\", data = testcc, palette = \"Blues\")"
   ]
  },
  {
   "cell_type": "code",
   "execution_count": 111,
   "metadata": {},
   "outputs": [
    {
     "data": {
      "text/plain": [
       "<AxesSubplot:xlabel='Владельцы', ylabel='count'>"
      ]
     },
     "execution_count": 111,
     "metadata": {},
     "output_type": "execute_result"
    },
    {
     "data": {
      "image/png": "[encoded data removed]",
      "text/plain": [
       "<Figure size 432x288 with 1 Axes>"
      ]
     },
     "metadata": {
      "needs_background": "light"
     },
     "output_type": "display_data"
    }
   ],
   "source": [
    "sns.countplot(x = \"Владельцы\", data = traincc, palette = \"Blues\")"
   ]
  },
  {
   "cell_type": "code",
   "execution_count": 112,
   "metadata": {},
   "outputs": [],
   "source": [
    "traincc['Владельцы'] = traincc['Владельцы'].astype(\"category\")"
   ]
  },
  {
   "cell_type": "code",
   "execution_count": 113,
   "metadata": {},
   "outputs": [
    {
     "data": {
      "image/png": "[encoded data removed]",
      "text/plain": [
       "<Figure size 576x360 with 1 Axes>"
      ]
     },
     "metadata": {
      "needs_background": "light"
     },
     "output_type": "display_data"
    }
   ],
   "source": [
    "plt.figure(figsize=(8, 5))\n",
    "g1 = sns.boxplot(y='log_price', x='Владельцы', \n",
    "                  data=traincc, color='plum')\n",
    "g1.set_title(\"price of Владельцы\", fontsize=20)\n",
    "\n",
    "g1.set_ylabel(\"log_price\", fontsize=15)\n",
    "g1.set_xticklabels(g1.get_xticklabels(),rotation=45)\n",
    "plt.show()"
   ]
  },
  {
   "cell_type": "markdown",
   "metadata": {},
   "source": [
    " Число владельца напрямую влияет на цену.Как мы видим если в машине  1 Владелец,то этот машина дороже чем остальные"
   ]
  },
  {
   "cell_type": "markdown",
   "metadata": {},
   "source": [
    "Владение"
   ]
  },
  {
   "cell_type": "code",
   "execution_count": 114,
   "metadata": {},
   "outputs": [
    {
     "data": {
      "text/plain": [
       "(22486, 22691)"
      ]
     },
     "execution_count": 114,
     "metadata": {},
     "output_type": "execute_result"
    }
   ],
   "source": [
    "traincc.Владельцы.isna().sum(),testcc.Владение.isna().sum()"
   ]
  },
  {
   "cell_type": "code",
   "execution_count": 115,
   "metadata": {},
   "outputs": [
    {
     "data": {
      "text/html": [
       "<div>\n",
       "<style scoped>\n",
       "    .dataframe tbody tr th:only-of-type {\n",
       "        vertical-align: middle;\n",
       "    }\n",
       "\n",
       "    .dataframe tbody tr th {\n",
       "        vertical-align: top;\n",
       "    }\n",
       "\n",
       "    .dataframe thead tr th {\n",
       "        text-align: left;\n",
       "    }\n",
       "\n",
       "    .dataframe thead tr:last-of-type th {\n",
       "        text-align: right;\n",
       "    }\n",
       "</style>\n",
       "<table border=\"1\" class=\"dataframe\">\n",
       "  <thead>\n",
       "    <tr>\n",
       "      <th></th>\n",
       "      <th colspan=\"8\" halign=\"left\">engineDisplacement</th>\n",
       "      <th colspan=\"2\" halign=\"left\">enginePower</th>\n",
       "      <th>...</th>\n",
       "      <th colspan=\"2\" halign=\"left\">Nalog</th>\n",
       "      <th colspan=\"8\" halign=\"left\">years_old</th>\n",
       "    </tr>\n",
       "    <tr>\n",
       "      <th></th>\n",
       "      <th>count</th>\n",
       "      <th>mean</th>\n",
       "      <th>std</th>\n",
       "      <th>min</th>\n",
       "      <th>25%</th>\n",
       "      <th>50%</th>\n",
       "      <th>75%</th>\n",
       "      <th>max</th>\n",
       "      <th>count</th>\n",
       "      <th>mean</th>\n",
       "      <th>...</th>\n",
       "      <th>75%</th>\n",
       "      <th>max</th>\n",
       "      <th>count</th>\n",
       "      <th>mean</th>\n",
       "      <th>std</th>\n",
       "      <th>min</th>\n",
       "      <th>25%</th>\n",
       "      <th>50%</th>\n",
       "      <th>75%</th>\n",
       "      <th>max</th>\n",
       "    </tr>\n",
       "    <tr>\n",
       "      <th>Владельцы</th>\n",
       "      <th></th>\n",
       "      <th></th>\n",
       "      <th></th>\n",
       "      <th></th>\n",
       "      <th></th>\n",
       "      <th></th>\n",
       "      <th></th>\n",
       "      <th></th>\n",
       "      <th></th>\n",
       "      <th></th>\n",
       "      <th></th>\n",
       "      <th></th>\n",
       "      <th></th>\n",
       "      <th></th>\n",
       "      <th></th>\n",
       "      <th></th>\n",
       "      <th></th>\n",
       "      <th></th>\n",
       "      <th></th>\n",
       "      <th></th>\n",
       "      <th></th>\n",
       "    </tr>\n",
       "  </thead>\n",
       "  <tbody>\n",
       "    <tr>\n",
       "      <th>1</th>\n",
       "      <td>11186.0</td>\n",
       "      <td>1638.603236</td>\n",
       "      <td>968.877129</td>\n",
       "      <td>1.8</td>\n",
       "      <td>1395.0</td>\n",
       "      <td>1781.0</td>\n",
       "      <td>1998.0</td>\n",
       "      <td>4395.0</td>\n",
       "      <td>11186.0</td>\n",
       "      <td>182.102718</td>\n",
       "      <td>...</td>\n",
       "      <td>13715.0</td>\n",
       "      <td>95850.0</td>\n",
       "      <td>11186.0</td>\n",
       "      <td>6.516002</td>\n",
       "      <td>4.724049</td>\n",
       "      <td>0.0</td>\n",
       "      <td>3.0</td>\n",
       "      <td>6.0</td>\n",
       "      <td>9.0</td>\n",
       "      <td>74.0</td>\n",
       "    </tr>\n",
       "    <tr>\n",
       "      <th>2</th>\n",
       "      <td>9853.0</td>\n",
       "      <td>1466.178281</td>\n",
       "      <td>1075.159402</td>\n",
       "      <td>1.8</td>\n",
       "      <td>1.8</td>\n",
       "      <td>1598.0</td>\n",
       "      <td>1997.0</td>\n",
       "      <td>4395.0</td>\n",
       "      <td>9853.0</td>\n",
       "      <td>182.650969</td>\n",
       "      <td>...</td>\n",
       "      <td>14625.0</td>\n",
       "      <td>93750.0</td>\n",
       "      <td>9853.0</td>\n",
       "      <td>9.891302</td>\n",
       "      <td>5.438940</td>\n",
       "      <td>1.0</td>\n",
       "      <td>7.0</td>\n",
       "      <td>9.0</td>\n",
       "      <td>13.0</td>\n",
       "      <td>83.0</td>\n",
       "    </tr>\n",
       "    <tr>\n",
       "      <th>3</th>\n",
       "      <td>15041.0</td>\n",
       "      <td>1203.641261</td>\n",
       "      <td>1103.913360</td>\n",
       "      <td>1.8</td>\n",
       "      <td>1.8</td>\n",
       "      <td>1595.0</td>\n",
       "      <td>1984.0</td>\n",
       "      <td>4395.0</td>\n",
       "      <td>15041.0</td>\n",
       "      <td>172.180906</td>\n",
       "      <td>...</td>\n",
       "      <td>13715.0</td>\n",
       "      <td>170000.0</td>\n",
       "      <td>15041.0</td>\n",
       "      <td>14.645968</td>\n",
       "      <td>6.615131</td>\n",
       "      <td>0.0</td>\n",
       "      <td>10.0</td>\n",
       "      <td>13.0</td>\n",
       "      <td>18.0</td>\n",
       "      <td>83.0</td>\n",
       "    </tr>\n",
       "    <tr>\n",
       "      <th>4</th>\n",
       "      <td>1575.0</td>\n",
       "      <td>1070.058286</td>\n",
       "      <td>1212.217745</td>\n",
       "      <td>1.8</td>\n",
       "      <td>1.8</td>\n",
       "      <td>1.8</td>\n",
       "      <td>1984.0</td>\n",
       "      <td>4395.0</td>\n",
       "      <td>1575.0</td>\n",
       "      <td>186.939048</td>\n",
       "      <td>...</td>\n",
       "      <td>14560.0</td>\n",
       "      <td>91800.0</td>\n",
       "      <td>1575.0</td>\n",
       "      <td>16.867302</td>\n",
       "      <td>6.746229</td>\n",
       "      <td>2.0</td>\n",
       "      <td>12.0</td>\n",
       "      <td>16.0</td>\n",
       "      <td>21.5</td>\n",
       "      <td>43.0</td>\n",
       "    </tr>\n",
       "  </tbody>\n",
       "</table>\n",
       "<p>4 rows × 320 columns</p>\n",
       "</div>"
      ],
      "text/plain": [
       "          engineDisplacement                                                 \\\n",
       "                       count         mean          std  min     25%     50%   \n",
       "Владельцы                                                                     \n",
       "1                    11186.0  1638.603236   968.877129  1.8  1395.0  1781.0   \n",
       "2                     9853.0  1466.178281  1075.159402  1.8     1.8  1598.0   \n",
       "3                    15041.0  1203.641261  1103.913360  1.8     1.8  1595.0   \n",
       "4                     1575.0  1070.058286  1212.217745  1.8     1.8     1.8   \n",
       "\n",
       "                          enginePower              ...    Nalog            \\\n",
       "              75%     max       count        mean  ...      75%       max   \n",
       "Владельцы                                          ...                      \n",
       "1          1998.0  4395.0     11186.0  182.102718  ...  13715.0   95850.0   \n",
       "2          1997.0  4395.0      9853.0  182.650969  ...  14625.0   93750.0   \n",
       "3          1984.0  4395.0     15041.0  172.180906  ...  13715.0  170000.0   \n",
       "4          1984.0  4395.0      1575.0  186.939048  ...  14560.0   91800.0   \n",
       "\n",
       "          years_old                                                    \n",
       "              count       mean       std  min   25%   50%   75%   max  \n",
       "Владельцы                                                              \n",
       "1           11186.0   6.516002  4.724049  0.0   3.0   6.0   9.0  74.0  \n",
       "2            9853.0   9.891302  5.438940  1.0   7.0   9.0  13.0  83.0  \n",
       "3           15041.0  14.645968  6.615131  0.0  10.0  13.0  18.0  83.0  \n",
       "4            1575.0  16.867302  6.746229  2.0  12.0  16.0  21.5  43.0  \n",
       "\n",
       "[4 rows x 320 columns]"
      ]
     },
     "execution_count": 115,
     "metadata": {},
     "output_type": "execute_result"
    }
   ],
   "source": [
    "traincc.groupby('Владельцы').describe()"
   ]
  },
  {
   "cell_type": "markdown",
   "metadata": {},
   "source": [
    "РУЛЬ"
   ]
  },
  {
   "cell_type": "code",
   "execution_count": 116,
   "metadata": {},
   "outputs": [
    {
     "data": {
      "text/plain": [
       "(Левый     33287\n",
       " Правый     1399\n",
       " Name: Руль, dtype: int64,\n",
       " левый     33296\n",
       " Левый     25792\n",
       " Правый      625\n",
       " правый      428\n",
       " Name: Руль, dtype: int64)"
      ]
     },
     "execution_count": 116,
     "metadata": {},
     "output_type": "execute_result"
    }
   ],
   "source": [
    "testcc.Руль.value_counts(), traincc.Руль.value_counts()"
   ]
  },
  {
   "cell_type": "code",
   "execution_count": 117,
   "metadata": {},
   "outputs": [
    {
     "data": {
      "text/plain": [
       "<AxesSubplot:>"
      ]
     },
     "execution_count": 117,
     "metadata": {},
     "output_type": "execute_result"
    },
    {
     "data": {
      "image/png": "[encoded data removed]",
      "text/plain": [
       "<Figure size 432x288 with 1 Axes>"
      ]
     },
     "metadata": {
      "needs_background": "light"
     },
     "output_type": "display_data"
    }
   ],
   "source": [
    "rule={'LEFT': 'Левый', 'RIGHT': 'Правый' }\n",
    "traincc['Руль'] = traincc['Руль'].replace(rule)\n",
    "traincc['Руль'].value_counts().plot.bar()"
   ]
  },
  {
   "cell_type": "markdown",
   "metadata": {},
   "source": [
    "    **Как правило ,видим что леворульки больше чем правый**"
   ]
  },
  {
   "cell_type": "markdown",
   "metadata": {},
   "source": [
    "**fuelType**"
   ]
  },
  {
   "cell_type": "code",
   "execution_count": 118,
   "metadata": {},
   "outputs": [
    {
     "data": {
      "text/plain": [
       "(бензин     46907\n",
       " дизель     12927\n",
       " гибрид       191\n",
       " электро      109\n",
       " газ            7\n",
       " Name: fuelType, dtype: int64,\n",
       " бензин     28601\n",
       " дизель      5800\n",
       " гибрид       223\n",
       " электро       55\n",
       " газ            7\n",
       " Name: fuelType, dtype: int64)"
      ]
     },
     "execution_count": 118,
     "metadata": {},
     "output_type": "execute_result"
    }
   ],
   "source": [
    "traincc.fuelType.value_counts(),testcc.fuelType.value_counts()"
   ]
  },
  {
   "cell_type": "code",
   "execution_count": 119,
   "metadata": {},
   "outputs": [
    {
     "data": {
      "image/png": "[encoded data removed]",
      "text/plain": [
       "<Figure size 576x360 with 1 Axes>"
      ]
     },
     "metadata": {
      "needs_background": "light"
     },
     "output_type": "display_data"
    }
   ],
   "source": [
    "plt.figure(figsize=(8, 5))\n",
    "g1 = sns.boxplot(y='log_price', x='fuelType', \n",
    "                  data=traincc, color='peru')\n",
    "g1.set_title(\"price of fuelType\", fontsize=20)\n",
    "\n",
    "g1.set_ylabel(\"log_price\", fontsize=15)\n",
    "g1.set_xticklabels(g1.get_xticklabels(),rotation=45)\n",
    "\n",
    "\n",
    "plt.show()"
   ]
  },
  {
   "cell_type": "code",
   "execution_count": 120,
   "metadata": {},
   "outputs": [
    {
     "data": {
      "text/plain": [
       "'{\"id\":\"20026323\",\"nameplate\":\"DSG\",\"displacement\":1798,\"engine_type\":\"GASOLINE\",\"gear_type\":\"FORWARD_CONTROL\",\"transmission\":\"ROBOT\",\"power\":152,\"power_kvt\":112,\"human_name\":\"DSG 1.8 AMT (152 л.с.)\",\"acceleration\":8.7,\"clearance_min\":139,\"fuel_rate\":7.1,\"clearance_max\":158}'"
      ]
     },
     "execution_count": 120,
     "metadata": {},
     "output_type": "execute_result"
    }
   ],
   "source": [
    "testcc.super_gen[2]"
   ]
  },
  {
   "cell_type": "markdown",
   "metadata": {},
   "source": [
    "**vendor**"
   ]
  },
  {
   "cell_type": "code",
   "execution_count": 121,
   "metadata": {},
   "outputs": [
    {
     "data": {
      "text/plain": [
       "(EUROPEAN    42370\n",
       " JAPANESE    17770\n",
       " RUSSIAN         1\n",
       " Name: vendor, dtype: int64,\n",
       " EUROPEAN    20682\n",
       " JAPANESE    14004\n",
       " Name: vendor, dtype: int64)"
      ]
     },
     "execution_count": 121,
     "metadata": {},
     "output_type": "execute_result"
    }
   ],
   "source": [
    "traincc.vendor.value_counts(),testcc.vendor.value_counts()"
   ]
  },
  {
   "cell_type": "code",
   "execution_count": 122,
   "metadata": {},
   "outputs": [
    {
     "data": {
      "image/png": "[encoded data removed]",
      "text/plain": [
       "<Figure size 576x360 with 1 Axes>"
      ]
     },
     "metadata": {
      "needs_background": "light"
     },
     "output_type": "display_data"
    }
   ],
   "source": [
    "plt.figure(figsize=(8, 5))\n",
    "g1 = sns.boxplot(y='log_price', x='vendor', \n",
    "                  data=traincc, color='lightgreen')\n",
    "g1.set_title(\"price of vendor\", fontsize=20)\n",
    "\n",
    "g1.set_ylabel(\"log_price\", fontsize=15)\n",
    "g1.set_xticklabels(g1.get_xticklabels(),rotation=45)\n",
    "\n",
    "\n",
    "plt.show()"
   ]
  },
  {
   "cell_type": "markdown",
   "metadata": {},
   "source": [
    "mileage"
   ]
  },
  {
   "cell_type": "code",
   "execution_count": 123,
   "metadata": {},
   "outputs": [
    {
     "data": {
      "text/plain": [
       "count      60141.000000\n",
       "mean       95348.218686\n",
       "std       106489.053980\n",
       "min            0.000000\n",
       "25%            0.000000\n",
       "50%        70070.000000\n",
       "75%       160883.000000\n",
       "max      1000000.000000\n",
       "Name: mileage, dtype: float64"
      ]
     },
     "execution_count": 123,
     "metadata": {},
     "output_type": "execute_result"
    }
   ],
   "source": [
    "traincc.mileage.describe()"
   ]
  },
  {
   "cell_type": "code",
   "execution_count": 124,
   "metadata": {},
   "outputs": [
    {
     "data": {
      "text/html": [
       "<div>\n",
       "<style scoped>\n",
       "    .dataframe tbody tr th:only-of-type {\n",
       "        vertical-align: middle;\n",
       "    }\n",
       "\n",
       "    .dataframe tbody tr th {\n",
       "        vertical-align: top;\n",
       "    }\n",
       "\n",
       "    .dataframe thead th {\n",
       "        text-align: right;\n",
       "    }\n",
       "</style>\n",
       "<table border=\"1\" class=\"dataframe\">\n",
       "  <thead>\n",
       "    <tr style=\"text-align: right;\">\n",
       "      <th></th>\n",
       "      <th>count</th>\n",
       "      <th>mean</th>\n",
       "      <th>std</th>\n",
       "      <th>min</th>\n",
       "      <th>25%</th>\n",
       "      <th>50%</th>\n",
       "      <th>75%</th>\n",
       "      <th>max</th>\n",
       "    </tr>\n",
       "    <tr>\n",
       "      <th>years_old</th>\n",
       "      <th></th>\n",
       "      <th></th>\n",
       "      <th></th>\n",
       "      <th></th>\n",
       "      <th></th>\n",
       "      <th></th>\n",
       "      <th></th>\n",
       "      <th></th>\n",
       "    </tr>\n",
       "  </thead>\n",
       "  <tbody>\n",
       "    <tr>\n",
       "      <th>0</th>\n",
       "      <td>6657.0</td>\n",
       "      <td>5.067661e+06</td>\n",
       "      <td>3.708994e+06</td>\n",
       "      <td>905000.0</td>\n",
       "      <td>2403500.0</td>\n",
       "      <td>4214000.0</td>\n",
       "      <td>6350024.0</td>\n",
       "      <td>24365400.0</td>\n",
       "    </tr>\n",
       "    <tr>\n",
       "      <th>1</th>\n",
       "      <td>15314.0</td>\n",
       "      <td>5.032906e+06</td>\n",
       "      <td>3.744219e+06</td>\n",
       "      <td>625000.0</td>\n",
       "      <td>2287037.5</td>\n",
       "      <td>3942600.0</td>\n",
       "      <td>7050000.0</td>\n",
       "      <td>32400000.0</td>\n",
       "    </tr>\n",
       "    <tr>\n",
       "      <th>2</th>\n",
       "      <td>489.0</td>\n",
       "      <td>7.431977e+06</td>\n",
       "      <td>4.721587e+06</td>\n",
       "      <td>1641000.0</td>\n",
       "      <td>3190000.0</td>\n",
       "      <td>6940980.0</td>\n",
       "      <td>11778335.0</td>\n",
       "      <td>19947600.0</td>\n",
       "    </tr>\n",
       "    <tr>\n",
       "      <th>3</th>\n",
       "      <td>26.0</td>\n",
       "      <td>3.108156e+07</td>\n",
       "      <td>2.593080e+07</td>\n",
       "      <td>2051000.0</td>\n",
       "      <td>6450863.0</td>\n",
       "      <td>26231045.5</td>\n",
       "      <td>58043592.0</td>\n",
       "      <td>58997576.0</td>\n",
       "    </tr>\n",
       "  </tbody>\n",
       "</table>\n",
       "</div>"
      ],
      "text/plain": [
       "             count          mean           std        min        25%  \\\n",
       "years_old                                                              \n",
       "0           6657.0  5.067661e+06  3.708994e+06   905000.0  2403500.0   \n",
       "1          15314.0  5.032906e+06  3.744219e+06   625000.0  2287037.5   \n",
       "2            489.0  7.431977e+06  4.721587e+06  1641000.0  3190000.0   \n",
       "3             26.0  3.108156e+07  2.593080e+07  2051000.0  6450863.0   \n",
       "\n",
       "                  50%         75%         max  \n",
       "years_old                                      \n",
       "0           4214000.0   6350024.0  24365400.0  \n",
       "1           3942600.0   7050000.0  32400000.0  \n",
       "2           6940980.0  11778335.0  19947600.0  \n",
       "3          26231045.5  58043592.0  58997576.0  "
      ]
     },
     "execution_count": 124,
     "metadata": {},
     "output_type": "execute_result"
    }
   ],
   "source": [
    "traincc[traincc.mileage == 0].groupby('years_old').price.describe()"
   ]
  },
  {
   "cell_type": "code",
   "execution_count": 125,
   "metadata": {},
   "outputs": [
    {
     "data": {
      "text/plain": [
       "years_old\n",
       "0         0.033443\n",
       "1       208.989334\n",
       "2     19318.637688\n",
       "3     49638.123018\n",
       "4     70301.965785\n",
       "5     85483.949340\n",
       "6    100295.986267\n",
       "7    112653.612768\n",
       "8    124071.958228\n",
       "9    137507.858660\n",
       "Name: mileage, dtype: float64"
      ]
     },
     "execution_count": 125,
     "metadata": {},
     "output_type": "execute_result"
    }
   ],
   "source": [
    "traincc.groupby('years_old').mileage.mean().head(10)\n"
   ]
  },
  {
   "cell_type": "markdown",
   "metadata": {},
   "source": [
    "Мы считали что в среднем за первый год машина проходит до 10 000 км, а после по  как минимум 20000 "
   ]
  },
  {
   "cell_type": "code",
   "execution_count": 126,
   "metadata": {},
   "outputs": [],
   "source": [
    "traincc['mileageNAN'] = traincc.mileageNAN * (traincc.years_old * 20000 + 10000)"
   ]
  },
  {
   "cell_type": "code",
   "execution_count": 127,
   "metadata": {},
   "outputs": [],
   "source": [
    "traincc.mileage = traincc.mileage + traincc.mileageNAN"
   ]
  },
  {
   "cell_type": "code",
   "execution_count": 128,
   "metadata": {},
   "outputs": [
    {
     "data": {
      "text/plain": [
       "count      60141.000000\n",
       "mean      104530.972548\n",
       "std        98828.827131\n",
       "min            1.000000\n",
       "25%        30000.000000\n",
       "50%        70070.000000\n",
       "75%       160883.000000\n",
       "max      1000000.000000\n",
       "Name: mileage, dtype: float64"
      ]
     },
     "execution_count": 128,
     "metadata": {},
     "output_type": "execute_result"
    }
   ],
   "source": [
    "traincc.mileage.describe()"
   ]
  },
  {
   "cell_type": "code",
   "execution_count": 129,
   "metadata": {},
   "outputs": [
    {
     "data": {
      "text/plain": [
       "years_old\n",
       "0      9983.536743\n",
       "1     29205.454873\n",
       "2     31605.069849\n",
       "3     50633.202296\n",
       "4     70301.965785\n",
       "5     85483.949340\n",
       "6    100295.986267\n",
       "7    112653.612768\n",
       "8    124071.958228\n",
       "9    137507.858660\n",
       "Name: mileage, dtype: float64"
      ]
     },
     "execution_count": 129,
     "metadata": {},
     "output_type": "execute_result"
    }
   ],
   "source": [
    "traincc.groupby('years_old').mileage.mean().head(10)\n"
   ]
  },
  {
   "cell_type": "code",
   "execution_count": 130,
   "metadata": {},
   "outputs": [
    {
     "data": {
      "text/plain": [
       "8047     2021\n",
       "11175    2020\n",
       "11176    2020\n",
       "11236    2020\n",
       "11237    2020\n",
       "11238    2020\n",
       "11239    2020\n",
       "32182    2020\n",
       "35326    2001\n",
       "41458    1967\n",
       "51645    1956\n",
       "Name: productionDate, dtype: int64"
      ]
     },
     "execution_count": 130,
     "metadata": {},
     "output_type": "execute_result"
    }
   ],
   "source": [
    "traincc[traincc.mileage == 1].productionDate"
   ]
  },
  {
   "cell_type": "markdown",
   "metadata": {},
   "source": [
    "Новый машина пробег = 1 это слишком мало .Поэтому тоже изменим"
   ]
  },
  {
   "cell_type": "code",
   "execution_count": 131,
   "metadata": {},
   "outputs": [],
   "source": [
    "traincc['mileage'] = traincc['mileage'].apply(lambda x: 1000 if x <100 else x)\n",
    "testcc['mileage'] = testcc['mileage'].apply(lambda x: 1000 if x < 100 else x)"
   ]
  },
  {
   "cell_type": "code",
   "execution_count": 132,
   "metadata": {},
   "outputs": [
    {
     "data": {
      "text/plain": [
       "(count      60141.000000\n",
       " mean      104533.468233\n",
       " std        98826.200282\n",
       " min          100.000000\n",
       " 25%        30000.000000\n",
       " 50%        70070.000000\n",
       " 75%       160883.000000\n",
       " max      1000000.000000\n",
       " Name: mileage, dtype: float64,\n",
       " count      34686.000000\n",
       " mean      162012.941360\n",
       " std       100671.468542\n",
       " min          100.000000\n",
       " 25%        91153.500000\n",
       " 50%       149779.500000\n",
       " 75%       215000.000000\n",
       " max      1000000.000000\n",
       " Name: mileage, dtype: float64)"
      ]
     },
     "execution_count": 132,
     "metadata": {},
     "output_type": "execute_result"
    }
   ],
   "source": [
    "traincc.mileage.describe(),testcc.mileage.describe()"
   ]
  },
  {
   "cell_type": "markdown",
   "metadata": {},
   "source": [
    "Привод"
   ]
  },
  {
   "cell_type": "code",
   "execution_count": 133,
   "metadata": {},
   "outputs": [
    {
     "data": {
      "text/plain": [
       "(передний    15565\n",
       " полный      15020\n",
       " задний       4101\n",
       " Name: Привод, dtype: int64,\n",
       " полный      31369\n",
       " передний    23759\n",
       " задний       5013\n",
       " Name: Привод, dtype: int64)"
      ]
     },
     "execution_count": 133,
     "metadata": {},
     "output_type": "execute_result"
    }
   ],
   "source": [
    "testcc.Привод.value_counts(),traincc.Привод.value_counts()"
   ]
  },
  {
   "cell_type": "code",
   "execution_count": 134,
   "metadata": {},
   "outputs": [
    {
     "data": {
      "text/plain": [
       "<AxesSubplot:xlabel='Привод', ylabel='count'>"
      ]
     },
     "execution_count": 134,
     "metadata": {},
     "output_type": "execute_result"
    },
    {
     "data": {
      "image/png": "[encoded data removed]",
      "text/plain": [
       "<Figure size 432x288 with 1 Axes>"
      ]
     },
     "metadata": {
      "needs_background": "light"
     },
     "output_type": "display_data"
    }
   ],
   "source": [
    "sns.countplot(x = \"Привод\", data = testcc, palette = \"Blues_r\")"
   ]
  },
  {
   "cell_type": "code",
   "execution_count": 135,
   "metadata": {},
   "outputs": [
    {
     "data": {
      "text/plain": [
       "<AxesSubplot:xlabel='Привод', ylabel='count'>"
      ]
     },
     "execution_count": 135,
     "metadata": {},
     "output_type": "execute_result"
    },
    {
     "data": {
      "image/png": "[encoded data removed]",
      "text/plain": [
       "<Figure size 432x288 with 1 Axes>"
      ]
     },
     "metadata": {
      "needs_background": "light"
     },
     "output_type": "display_data"
    }
   ],
   "source": [
    "sns.countplot(x = \"Привод\", data = train, palette = \"Blues_r\")"
   ]
  },
  {
   "cell_type": "markdown",
   "metadata": {},
   "source": [
    "**price**"
   ]
  },
  {
   "cell_type": "code",
   "execution_count": 136,
   "metadata": {},
   "outputs": [
    {
     "data": {
      "text/plain": [
       "<AxesSubplot:>"
      ]
     },
     "execution_count": 136,
     "metadata": {},
     "output_type": "execute_result"
    },
    {
     "data": {
      "image/png": "[encoded data removed]",
      "text/plain": [
       "<Figure size 432x288 with 1 Axes>"
      ]
     },
     "metadata": {
      "needs_background": "light"
     },
     "output_type": "display_data"
    }
   ],
   "source": [
    "traincc['price'].hist(bins=77)"
   ]
  },
  {
   "cell_type": "code",
   "execution_count": 137,
   "metadata": {},
   "outputs": [
    {
     "data": {
      "text/plain": [
       "<AxesSubplot:>"
      ]
     },
     "execution_count": 137,
     "metadata": {},
     "output_type": "execute_result"
    },
    {
     "data": {
      "image/png": "[encoded data removed]",
      "text/plain": [
       "<Figure size 432x288 with 1 Axes>"
      ]
     },
     "metadata": {
      "needs_background": "light"
     },
     "output_type": "display_data"
    }
   ],
   "source": [
    "traincc['log_price'].hist(bins=77)"
   ]
  },
  {
   "cell_type": "markdown",
   "metadata": {},
   "source": [
    "Drop columns"
   ]
  },
  {
   "cell_type": "code",
   "execution_count": 138,
   "metadata": {
    "scrolled": true
   },
   "outputs": [
    {
     "ename": "NameError",
     "evalue": "name 'asdasdas' is not defined",
     "output_type": "error",
     "traceback": [
      "\u001b[1;31m---------------------------------------------------------------------------\u001b[0m",
      "\u001b[1;31mNameError\u001b[0m                                 Traceback (most recent call last)",
      "\u001b[1;32m<ipython-input-138-61aacb46f36f>\u001b[0m in \u001b[0;36m<module>\u001b[1;34m\u001b[0m\n\u001b[1;32m----> 1\u001b[1;33m \u001b[0masdasdas\u001b[0m\u001b[1;33m\u001b[0m\u001b[1;33m\u001b[0m\u001b[0m\n\u001b[0m",
      "\u001b[1;31mNameError\u001b[0m: name 'asdasdas' is not defined"
     ]
    }
   ],
   "source": [
    "asdasdas"
   ]
  },
  {
   "cell_type": "code",
   "execution_count": 142,
   "metadata": {
    "scrolled": true
   },
   "outputs": [
    {
     "name": "stdout",
     "output_type": "stream",
     "text": [
      "<class 'pandas.core.frame.DataFrame'>\n",
      "RangeIndex: 34686 entries, 0 to 34685\n",
      "Data columns (total 61 columns):\n",
      " #   Column                    Non-Null Count  Dtype   \n",
      "---  ------                    --------------  -----   \n",
      " 0   bodyType                  34686 non-null  object  \n",
      " 1   brand                     34686 non-null  object  \n",
      " 2   car_url                   34686 non-null  object  \n",
      " 3   color                     34686 non-null  object  \n",
      " 4   complectation_dict        6418 non-null   object  \n",
      " 5   description               34686 non-null  object  \n",
      " 6   engineDisplacement        34686 non-null  object  \n",
      " 7   enginePower               34686 non-null  float64 \n",
      " 8   equipment_dict            24690 non-null  object  \n",
      " 9   fuelType                  34686 non-null  object  \n",
      " 10  image                     34686 non-null  object  \n",
      " 11  mileage                   34686 non-null  int64   \n",
      " 12  modelDate                 34686 non-null  int64   \n",
      " 13  model_info                34686 non-null  object  \n",
      " 14  model_name                34686 non-null  object  \n",
      " 15  name                      34686 non-null  object  \n",
      " 16  numberOfDoors             34686 non-null  int64   \n",
      " 17  parsing_unixtime          34686 non-null  int64   \n",
      " 18  productionDate            34686 non-null  int64   \n",
      " 19  sell_id                   34686 non-null  int64   \n",
      " 20  super_gen                 34686 non-null  object  \n",
      " 21  vehicleConfiguration      34686 non-null  object  \n",
      " 22  vehicleTransmission       34686 non-null  object  \n",
      " 23  vendor                    34686 non-null  object  \n",
      " 24  Владельцы                 34686 non-null  category\n",
      " 25  Владение                  11995 non-null  object  \n",
      " 26  ПТС                       34686 non-null  object  \n",
      " 27  Привод                    34686 non-null  object  \n",
      " 28  Руль                      34686 non-null  object  \n",
      " 29  description_word          34686 non-null  object  \n",
      " 30  leather                   34686 non-null  int64   \n",
      " 31  carter                    34686 non-null  int64   \n",
      " 32  ABS                       34686 non-null  int64   \n",
      " 33  airbags                   34686 non-null  int64   \n",
      " 34  immob                     34686 non-null  int64   \n",
      " 35  central_locking           34686 non-null  int64   \n",
      " 36  on_board_computer         34686 non-null  int64   \n",
      " 37  cruise_control            34686 non-null  int64   \n",
      " 38  climat_control            34686 non-null  int64   \n",
      " 39  multi_rudder              34686 non-null  int64   \n",
      " 40  power_steering            34686 non-null  int64   \n",
      " 41  light_and_rain_sensors    34686 non-null  int64   \n",
      " 42  сarbon_body_kits          34686 non-null  int64   \n",
      " 43  rear_diffuser_rkp         34686 non-null  int64   \n",
      " 44  door_closers              34686 non-null  int64   \n",
      " 45  rear_view_camera          34686 non-null  int64   \n",
      " 46  amg                       34686 non-null  int64   \n",
      " 47  bi_xenon_headlights       34686 non-null  int64   \n",
      " 48  from_salon                34686 non-null  int64   \n",
      " 49  alloy_wheels              34686 non-null  int64   \n",
      " 50  parking_sensors           34686 non-null  int64   \n",
      " 51  dents                     34686 non-null  int64   \n",
      " 52  roof_with_panoramic_view  34686 non-null  int64   \n",
      " 53  bT_length                 34686 non-null  int64   \n",
      " 54  brand_length              34686 non-null  int64   \n",
      " 55  Nalog_base                34686 non-null  int64   \n",
      " 56  log_power                 34686 non-null  float64 \n",
      " 57  Nalog                     34686 non-null  float64 \n",
      " 58  years_old                 34686 non-null  int64   \n",
      " 59  age_intervals             34686 non-null  category\n",
      " 60  name_AMT_CVT              34686 non-null  object  \n",
      "dtypes: category(2), float64(3), int64(33), object(23)\n",
      "memory usage: 15.7+ MB\n"
     ]
    }
   ],
   "source": [
    "testcc.info()"
   ]
  },
  {
   "cell_type": "code",
   "execution_count": 139,
   "metadata": {},
   "outputs": [],
   "source": [
    "# Новый признак выделяющий AT, AMT, MT, CVT из признака name\n",
    "traincc['name_AMT_CVT'] = \"-\"\n",
    "for i  in [' AT ', ' MT ', ' AMT ', ' CVT ']: \n",
    "    i_ = i.replace(\" \",\"\") \n",
    "    traincc['name_AMT_CVT'] = traincc.apply(lambda x: i_ if i in x['name'] else x['name_AMT_CVT'], axis = 1)"
   ]
  },
  {
   "cell_type": "code",
   "execution_count": 140,
   "metadata": {},
   "outputs": [],
   "source": [
    "# Новый признак выделяющий AT, AMT, MT, CVT из признака name\n",
    "testcc['name_AMT_CVT'] = \"-\"\n",
    "for i  in [' AT ', ' MT ', ' AMT ', ' CVT ']: \n",
    "    i_ = i.replace(\" \",\"\") \n",
    "    testcc['name_AMT_CVT'] = testcc.apply(lambda x: i_ if i in x['name'] else x['name_AMT_CVT'], axis = 1)"
   ]
  },
  {
   "cell_type": "code",
   "execution_count": 143,
   "metadata": {},
   "outputs": [],
   "source": [
    "# Новый признак выделяющий объем двигателя из признака name\n",
    "traincc['name_4WD'] = traincc['name'].str.contains('4WD').astype('float64')*2 - 1\n",
    "# Новый признак выделяющий объем двигателя из признака name\n",
    "testcc['name_4WD'] = testcc['name'].str.contains('4WD').astype('float64')*2 - 1"
   ]
  },
  {
   "cell_type": "code",
   "execution_count": 144,
   "metadata": {},
   "outputs": [],
   "source": [
    "# Новый признак выделяющий 4WD из признака name\n",
    "def AMT_CVT_find(x):\n",
    "    for i  in [' AT ', ' MT ', ' AMT ', ' CVT ']: \n",
    "        if i in x:\n",
    "            x = x.replace('hyb',\"\")\n",
    "            a = x.find(i)\n",
    "            if len(x[:a])<4:\n",
    "                b = x[:a]\n",
    "            else:\n",
    "                b = x[a-4:a]\n",
    "            if b.endswith('d'):\n",
    "                b = b[:-1]\n",
    "            b = b.replace(\" \",\"\")\n",
    "            if b == 'ctro':\n",
    "                b = '2.0'\n",
    "    return b\n",
    "\n",
    "traincc['vol_engine'] = traincc['name'].apply(AMT_CVT_find)\n",
    "traincc = traincc.replace({'vol_engine': r'peS'}, {'vol_engine': '0.0'}, regex=True)\n",
    "traincc['vol_engine'] = traincc['vol_engine'].astype('float64')\n",
    "\n",
    "testcc['vol_engine'] = testcc['name'].apply(AMT_CVT_find)\n",
    "testcc = testcc.replace({'vol_engine': r'peS'}, {'vol_engine': '0.0'}, regex=True)\n",
    "testcc['vol_engine'] = testcc['vol_engine'].astype('float64')"
   ]
  },
  {
   "cell_type": "code",
   "execution_count": 145,
   "metadata": {},
   "outputs": [],
   "source": [
    "# Новый признак выделяющий мощность из признака name \n",
    "coeff_power_to_hourse = 1.35962\n",
    "traincc['HPower'] = traincc['name'].apply(lambda x: x[x.find('(')+1: x.find('л.с.')-1] \n",
    "                                    if x.find('л.с.') != -1 else x[x.find('(')+1: x.find('кВт')-1])\n",
    "traincc['HPower'] = traincc['HPower'].astype('float64')\n",
    "traincc['HPower'] = traincc.apply(lambda x: int(coeff_power_to_hourse*x['HPower']) \n",
    "                            if 'кВт' in x['name'] else x['HPower'], axis = 1)\n",
    "traincc['HPower'] = traincc['HPower'].apply(lambda x: np.log(x+1))\n"
   ]
  },
  {
   "cell_type": "code",
   "execution_count": 146,
   "metadata": {},
   "outputs": [],
   "source": [
    "# Новый признак выделяющий мощность из признака name \n",
    "coeff_power_to_hourse = 1.35962\n",
    "testcc['HPower'] = testcc['name'].apply(lambda x: x[x.find('(')+1: x.find('л.с.')-1] \n",
    "                                    if x.find('л.с.') != -1 else x[x.find('(')+1: x.find('кВт')-1])\n",
    "testcc['HPower'] = testcc['HPower'].astype('float64')\n",
    "testcc['HPower'] = testcc.apply(lambda x: int(coeff_power_to_hourse*x['HPower']) \n",
    "                            if 'кВт' in x['name'] else x['HPower'], axis = 1)\n",
    "testcc['HPower'] = testcc['HPower'].apply(lambda x: np.log(x+1))"
   ]
  },
  {
   "cell_type": "code",
   "execution_count": 147,
   "metadata": {},
   "outputs": [],
   "source": [
    "traincc1 = traincc"
   ]
  },
  {
   "cell_type": "code",
   "execution_count": 148,
   "metadata": {},
   "outputs": [],
   "source": [
    "testcc1 = testcc"
   ]
  },
  {
   "cell_type": "code",
   "execution_count": null,
   "metadata": {},
   "outputs": [],
   "source": []
  },
  {
   "cell_type": "code",
   "execution_count": null,
   "metadata": {},
   "outputs": [],
   "source": []
  },
  {
   "cell_type": "code",
   "execution_count": null,
   "metadata": {},
   "outputs": [],
   "source": []
  },
  {
   "cell_type": "code",
   "execution_count": null,
   "metadata": {},
   "outputs": [],
   "source": []
  },
  {
   "cell_type": "code",
   "execution_count": 149,
   "metadata": {},
   "outputs": [],
   "source": [
    "traincc1['numberOfDoors'] = traincc1['numberOfDoors'].astype('float64')\n",
    "traincc1['numberOfDoors'] = traincc1['numberOfDoors'].apply(lambda x: 5 if x == 0 else x)"
   ]
  },
  {
   "cell_type": "code",
   "execution_count": 150,
   "metadata": {},
   "outputs": [
    {
     "data": {
      "text/plain": [
       "5    18703\n",
       "4    14126\n",
       "2     1206\n",
       "3      650\n",
       "0        1\n",
       "Name: numberOfDoors, dtype: int64"
      ]
     },
     "execution_count": 150,
     "metadata": {},
     "output_type": "execute_result"
    }
   ],
   "source": [
    "testcc.numberOfDoors.value_counts()"
   ]
  },
  {
   "cell_type": "code",
   "execution_count": 151,
   "metadata": {},
   "outputs": [],
   "source": [
    "testcc1['numberOfDoors'] = testcc1['numberOfDoors'].astype('float64')\n",
    "testcc1['numberOfDoors'] = testcc1['numberOfDoors'].apply(lambda x: 5 if x == 0 else x)"
   ]
  },
  {
   "cell_type": "code",
   "execution_count": 152,
   "metadata": {},
   "outputs": [],
   "source": [
    "# Формирование признака разницы дат\n",
    "traincc1['modelDate'] = traincc1['modelDate'].max() - traincc1['modelDate']\n",
    "traincc1['productionDate'] = traincc1['productionDate'].max() - traincc1['productionDate']\n",
    "traincc1['DeltaDate'] = traincc1['modelDate'] - traincc1['productionDate']   \n",
    "\n",
    "traincc1['modelDate'] = traincc1['modelDate'].apply(lambda x: np.log(x+1))\n",
    "traincc1['productionDate'] = traincc1['productionDate'].apply(lambda x: np.log(x+1))"
   ]
  },
  {
   "cell_type": "code",
   "execution_count": 153,
   "metadata": {},
   "outputs": [
    {
     "name": "stdout",
     "output_type": "stream",
     "text": [
      "<class 'pandas.core.frame.DataFrame'>\n",
      "Int64Index: 60141 entries, 0 to 60141\n",
      "Data columns (total 70 columns):\n",
      " #   Column                    Non-Null Count  Dtype   \n",
      "---  ------                    --------------  -----   \n",
      " 0   bodyType                  60141 non-null  object  \n",
      " 1   brand                     60141 non-null  object  \n",
      " 2   description               60141 non-null  object  \n",
      " 3   engineDisplacement        60141 non-null  float64 \n",
      " 4   enginePower               60141 non-null  float64 \n",
      " 5   equipment_dict            50683 non-null  object  \n",
      " 6   fuelType                  60141 non-null  object  \n",
      " 7   image                     60141 non-null  object  \n",
      " 8   mileage                   60141 non-null  int64   \n",
      " 9   modelDate                 60141 non-null  float64 \n",
      " 10  model_info                60141 non-null  object  \n",
      " 11  model_name                60141 non-null  object  \n",
      " 12  name                      60141 non-null  object  \n",
      " 13  numberOfDoors             60141 non-null  float64 \n",
      " 14  parsing_unixtime          60141 non-null  float64 \n",
      " 15  productionDate            60141 non-null  float64 \n",
      " 16  sell_id                   60141 non-null  int64   \n",
      " 17  section                   60141 non-null  object  \n",
      " 18  url_saleid                60141 non-null  object  \n",
      " 19  super_gen                 60141 non-null  object  \n",
      " 20  vehicleConfiguration      60141 non-null  object  \n",
      " 21  vehicleTransmission       60141 non-null  object  \n",
      " 22  vendor                    60141 non-null  object  \n",
      " 23  Владельцы                 37655 non-null  category\n",
      " 24  ПТС                       60141 non-null  object  \n",
      " 25  Привод                    60141 non-null  object  \n",
      " 26  Руль                      60141 non-null  object  \n",
      " 27  price                     60141 non-null  int64   \n",
      " 28  auto_class                59932 non-null  object  \n",
      " 29  price_segment             60141 non-null  object  \n",
      " 30  seller_type               60141 non-null  object  \n",
      " 31  color                     60141 non-null  object  \n",
      " 32  description_word          60141 non-null  object  \n",
      " 33  leather                   60141 non-null  int64   \n",
      " 34  carter                    60141 non-null  int64   \n",
      " 35  ABS                       60141 non-null  int64   \n",
      " 36  airbags                   60141 non-null  int64   \n",
      " 37  immob                     60141 non-null  int64   \n",
      " 38  central_locking           60141 non-null  int64   \n",
      " 39  on_board_computer         60141 non-null  int64   \n",
      " 40  cruise_control            60141 non-null  int64   \n",
      " 41  climat_control            60141 non-null  int64   \n",
      " 42  multi_rudder              60141 non-null  int64   \n",
      " 43  power_steering            60141 non-null  int64   \n",
      " 44  light_and_rain_sensors    60141 non-null  int64   \n",
      " 45  сarbon_body_kits          60141 non-null  int64   \n",
      " 46  rear_diffuser_rkp         60141 non-null  int64   \n",
      " 47  door_closers              60141 non-null  int64   \n",
      " 48  rear_view_camera          60141 non-null  int64   \n",
      " 49  amg                       60141 non-null  int64   \n",
      " 50  bi_xenon_headlights       60141 non-null  int64   \n",
      " 51  from_salon                60141 non-null  int64   \n",
      " 52  alloy_wheels              60141 non-null  int64   \n",
      " 53  parking_sensors           60141 non-null  int64   \n",
      " 54  dents                     60141 non-null  int64   \n",
      " 55  roof_with_panoramic_view  60141 non-null  int64   \n",
      " 56  mileageNAN                60141 non-null  int64   \n",
      " 57  log_price                 60141 non-null  float64 \n",
      " 58  bT_length                 60141 non-null  int64   \n",
      " 59  brand_length              60141 non-null  int64   \n",
      " 60  log_power                 60141 non-null  float64 \n",
      " 61  Nalog_base                60141 non-null  int64   \n",
      " 62  Nalog                     60141 non-null  float64 \n",
      " 63  years_old                 60141 non-null  int64   \n",
      " 64  age_intervals             60141 non-null  category\n",
      " 65  name_AMT_CVT              60141 non-null  object  \n",
      " 66  name_4WD                  60141 non-null  float64 \n",
      " 67  vol_engine                60141 non-null  float64 \n",
      " 68  HPower                    60141 non-null  float64 \n",
      " 69  DeltaDate                 60141 non-null  int64   \n",
      "dtypes: category(2), float64(12), int64(32), object(24)\n",
      "memory usage: 34.3+ MB\n"
     ]
    }
   ],
   "source": [
    "traincc1.info()"
   ]
  },
  {
   "cell_type": "code",
   "execution_count": 154,
   "metadata": {},
   "outputs": [
    {
     "data": {
      "text/plain": [
       "3    15957\n",
       "1     9459\n",
       "2     9270\n",
       "Name: Владельцы, dtype: int64"
      ]
     },
     "execution_count": 154,
     "metadata": {},
     "output_type": "execute_result"
    }
   ],
   "source": [
    "testcc1['Владельцы'].value_counts()"
   ]
  },
  {
   "cell_type": "code",
   "execution_count": 155,
   "metadata": {},
   "outputs": [],
   "source": [
    "# Формирование признакvа разницы дат\n",
    "testcc1['modelDate'] = testcc1['modelDate'].max() - testcc1['modelDate']\n",
    "testcc1['productionDate'] = testcc1['productionDate'].max() - testcc1['productionDate']\n",
    "testcc1['DeltaDate'] = testcc1['modelDate'] - testcc1['productionDate']   \n",
    "\n",
    "testcc1['modelDate'] = testcc1['modelDate'].apply(lambda x: np.log(x+1))\n",
    "testcc1['productionDate'] = testcc1['productionDate'].apply(lambda x: np.log(x+1))"
   ]
  },
  {
   "cell_type": "code",
   "execution_count": 156,
   "metadata": {},
   "outputs": [],
   "source": [
    "testn=testcc\n",
    "trainn=traincc"
   ]
  },
  {
   "cell_type": "code",
   "execution_count": 157,
   "metadata": {},
   "outputs": [],
   "source": [
    "traincc1=traincc\n",
    "testcc1=testcc"
   ]
  },
  {
   "cell_type": "code",
   "execution_count": 158,
   "metadata": {},
   "outputs": [],
   "source": [
    "columns_drop1 = ['model_info', 'name', 'car_url', 'sell_id', 'complectation_dict', 'equipment_dict',\n",
    "                'vehicleConfiguration','Владение', 'image', 'parsing_unixtime', 'super_gen',\n",
    "                'description',  'log_power']\n",
    "columns_drop2 = ['model_info', 'name', 'sell_id', 'complectation_dict', 'equipment_dict',\n",
    "                'vehicleConfiguration','Владение', 'image', 'super_gen','description',  'log_power',\n",
    "                 'mileageNAN','hidden', 'price_EUR', 'price_USD','Комплектация','model','start_date']"
   ]
  },
  {
   "cell_type": "code",
   "execution_count": 159,
   "metadata": {},
   "outputs": [
    {
     "data": {
      "text/html": [
       "<div>\n",
       "<style scoped>\n",
       "    .dataframe tbody tr th:only-of-type {\n",
       "        vertical-align: middle;\n",
       "    }\n",
       "\n",
       "    .dataframe tbody tr th {\n",
       "        vertical-align: top;\n",
       "    }\n",
       "\n",
       "    .dataframe thead th {\n",
       "        text-align: right;\n",
       "    }\n",
       "</style>\n",
       "<table border=\"1\" class=\"dataframe\">\n",
       "  <thead>\n",
       "    <tr style=\"text-align: right;\">\n",
       "      <th></th>\n",
       "      <th>bodyType</th>\n",
       "      <th>brand</th>\n",
       "      <th>description</th>\n",
       "      <th>engineDisplacement</th>\n",
       "      <th>enginePower</th>\n",
       "      <th>equipment_dict</th>\n",
       "      <th>fuelType</th>\n",
       "      <th>image</th>\n",
       "      <th>mileage</th>\n",
       "      <th>modelDate</th>\n",
       "      <th>...</th>\n",
       "      <th>log_power</th>\n",
       "      <th>Nalog_base</th>\n",
       "      <th>Nalog</th>\n",
       "      <th>years_old</th>\n",
       "      <th>age_intervals</th>\n",
       "      <th>name_AMT_CVT</th>\n",
       "      <th>name_4WD</th>\n",
       "      <th>vol_engine</th>\n",
       "      <th>HPower</th>\n",
       "      <th>DeltaDate</th>\n",
       "    </tr>\n",
       "  </thead>\n",
       "  <tbody>\n",
       "    <tr>\n",
       "      <th>0</th>\n",
       "      <td>хэтчбек 5 дв.</td>\n",
       "      <td>AUDI</td>\n",
       "      <td>- Ксенон\\r\\n- Датчики света, дождя\\r\\n- 1х зон...</td>\n",
       "      <td>1395.0</td>\n",
       "      <td>125.0</td>\n",
       "      <td>{'electro-window-back': True, 'alloy-wheel-dis...</td>\n",
       "      <td>бензин</td>\n",
       "      <td>//avatars.mds.yandex.net/get-autoru-vos/438758...</td>\n",
       "      <td>56627</td>\n",
       "      <td>1.945910</td>\n",
       "      <td>...</td>\n",
       "      <td>4.828314</td>\n",
       "      <td>25</td>\n",
       "      <td>3125.0</td>\n",
       "      <td>6</td>\n",
       "      <td>7</td>\n",
       "      <td>AMT</td>\n",
       "      <td>-1.0</td>\n",
       "      <td>1.4</td>\n",
       "      <td>4.836282</td>\n",
       "      <td>0</td>\n",
       "    </tr>\n",
       "    <tr>\n",
       "      <th>1</th>\n",
       "      <td>хэтчбек 5 дв.</td>\n",
       "      <td>AUDI</td>\n",
       "      <td>Автомобиль в отличном состоянии, ездила девушк...</td>\n",
       "      <td>1390.0</td>\n",
       "      <td>122.0</td>\n",
       "      <td>NaN</td>\n",
       "      <td>бензин</td>\n",
       "      <td>//avatars.mds.yandex.net/get-autoru-vos/158389...</td>\n",
       "      <td>39500</td>\n",
       "      <td>2.397895</td>\n",
       "      <td>...</td>\n",
       "      <td>4.804021</td>\n",
       "      <td>25</td>\n",
       "      <td>3050.0</td>\n",
       "      <td>7</td>\n",
       "      <td>7</td>\n",
       "      <td>AMT</td>\n",
       "      <td>-1.0</td>\n",
       "      <td>1.4</td>\n",
       "      <td>4.812184</td>\n",
       "      <td>3</td>\n",
       "    </tr>\n",
       "    <tr>\n",
       "      <th>2</th>\n",
       "      <td>хэтчбек 5 дв.</td>\n",
       "      <td>AUDI</td>\n",
       "      <td>Внимание! Только для клиентов AVILON Автомобил...</td>\n",
       "      <td>1390.0</td>\n",
       "      <td>122.0</td>\n",
       "      <td>{'asr': True, 'airbag-driver': True, 'aux': Tr...</td>\n",
       "      <td>бензин</td>\n",
       "      <td>//avatars.mds.yandex.net/get-autoru-vos/204964...</td>\n",
       "      <td>73528</td>\n",
       "      <td>2.397895</td>\n",
       "      <td>...</td>\n",
       "      <td>4.804021</td>\n",
       "      <td>25</td>\n",
       "      <td>3050.0</td>\n",
       "      <td>7</td>\n",
       "      <td>7</td>\n",
       "      <td>AMT</td>\n",
       "      <td>-1.0</td>\n",
       "      <td>1.4</td>\n",
       "      <td>4.812184</td>\n",
       "      <td>3</td>\n",
       "    </tr>\n",
       "    <tr>\n",
       "      <th>3</th>\n",
       "      <td>хэтчбек 5 дв.</td>\n",
       "      <td>AUDI</td>\n",
       "      <td>Комплект новых зимних шин на дисках в подарок....</td>\n",
       "      <td>1390.0</td>\n",
       "      <td>122.0</td>\n",
       "      <td>{'alloy-wheel-disks': True, 'abs': True, 'esp'...</td>\n",
       "      <td>бензин</td>\n",
       "      <td>//avatars.mds.yandex.net/get-autoru-vos/209532...</td>\n",
       "      <td>95400</td>\n",
       "      <td>2.397895</td>\n",
       "      <td>...</td>\n",
       "      <td>4.804021</td>\n",
       "      <td>25</td>\n",
       "      <td>3050.0</td>\n",
       "      <td>6</td>\n",
       "      <td>7</td>\n",
       "      <td>AMT</td>\n",
       "      <td>-1.0</td>\n",
       "      <td>1.4</td>\n",
       "      <td>4.812184</td>\n",
       "      <td>4</td>\n",
       "    </tr>\n",
       "    <tr>\n",
       "      <th>4</th>\n",
       "      <td>хэтчбек 3 дв.</td>\n",
       "      <td>AUDI</td>\n",
       "      <td>Все по регламенту много что делалось по машине...</td>\n",
       "      <td>1390.0</td>\n",
       "      <td>122.0</td>\n",
       "      <td>{'engine-proof': True, 'esp': True, 'airbag-dr...</td>\n",
       "      <td>бензин</td>\n",
       "      <td>//avatars.mds.yandex.net/get-autoru-vos/218118...</td>\n",
       "      <td>149000</td>\n",
       "      <td>2.397895</td>\n",
       "      <td>...</td>\n",
       "      <td>4.804021</td>\n",
       "      <td>25</td>\n",
       "      <td>3050.0</td>\n",
       "      <td>9</td>\n",
       "      <td>14</td>\n",
       "      <td>AMT</td>\n",
       "      <td>-1.0</td>\n",
       "      <td>1.4</td>\n",
       "      <td>4.812184</td>\n",
       "      <td>1</td>\n",
       "    </tr>\n",
       "    <tr>\n",
       "      <th>...</th>\n",
       "      <td>...</td>\n",
       "      <td>...</td>\n",
       "      <td>...</td>\n",
       "      <td>...</td>\n",
       "      <td>...</td>\n",
       "      <td>...</td>\n",
       "      <td>...</td>\n",
       "      <td>...</td>\n",
       "      <td>...</td>\n",
       "      <td>...</td>\n",
       "      <td>...</td>\n",
       "      <td>...</td>\n",
       "      <td>...</td>\n",
       "      <td>...</td>\n",
       "      <td>...</td>\n",
       "      <td>...</td>\n",
       "      <td>...</td>\n",
       "      <td>...</td>\n",
       "      <td>...</td>\n",
       "      <td>...</td>\n",
       "      <td>...</td>\n",
       "    </tr>\n",
       "    <tr>\n",
       "      <th>60137</th>\n",
       "      <td>седан</td>\n",
       "      <td>VOLKSWAGEN</td>\n",
       "      <td>Машина в хорошем состоянии для своих лет,при о...</td>\n",
       "      <td>1984.0</td>\n",
       "      <td>115.0</td>\n",
       "      <td>NaN</td>\n",
       "      <td>бензин</td>\n",
       "      <td>//avatars.mds.yandex.net/get-autoru-vos/219862...</td>\n",
       "      <td>260000</td>\n",
       "      <td>3.401197</td>\n",
       "      <td>...</td>\n",
       "      <td>4.744932</td>\n",
       "      <td>25</td>\n",
       "      <td>2875.0</td>\n",
       "      <td>29</td>\n",
       "      <td>35</td>\n",
       "      <td>MT</td>\n",
       "      <td>-1.0</td>\n",
       "      <td>2.0</td>\n",
       "      <td>4.753590</td>\n",
       "      <td>0</td>\n",
       "    </tr>\n",
       "    <tr>\n",
       "      <th>60138</th>\n",
       "      <td>седан</td>\n",
       "      <td>VOLKSWAGEN</td>\n",
       "      <td>Полностью обслужена,все дно переварили в июле,...</td>\n",
       "      <td>1984.0</td>\n",
       "      <td>115.0</td>\n",
       "      <td>{'passenger-seat-updown': True, 'airbag-passen...</td>\n",
       "      <td>бензин</td>\n",
       "      <td>//avatars.mds.yandex.net/get-autoru-vos/218118...</td>\n",
       "      <td>250000</td>\n",
       "      <td>3.401197</td>\n",
       "      <td>...</td>\n",
       "      <td>4.744932</td>\n",
       "      <td>25</td>\n",
       "      <td>2875.0</td>\n",
       "      <td>28</td>\n",
       "      <td>35</td>\n",
       "      <td>AT</td>\n",
       "      <td>-1.0</td>\n",
       "      <td>2.0</td>\n",
       "      <td>4.753590</td>\n",
       "      <td>1</td>\n",
       "    </tr>\n",
       "    <tr>\n",
       "      <th>60139</th>\n",
       "      <td>седан</td>\n",
       "      <td>VOLKSWAGEN</td>\n",
       "      <td>Покупалась временно до покупки нового Авто. Ст...</td>\n",
       "      <td>1781.0</td>\n",
       "      <td>90.0</td>\n",
       "      <td>NaN</td>\n",
       "      <td>бензин</td>\n",
       "      <td>//avatars.mds.yandex.net/get-autoru-vos/220317...</td>\n",
       "      <td>180580</td>\n",
       "      <td>3.401197</td>\n",
       "      <td>...</td>\n",
       "      <td>4.499810</td>\n",
       "      <td>12</td>\n",
       "      <td>1080.0</td>\n",
       "      <td>27</td>\n",
       "      <td>35</td>\n",
       "      <td>MT</td>\n",
       "      <td>-1.0</td>\n",
       "      <td>1.8</td>\n",
       "      <td>4.510860</td>\n",
       "      <td>2</td>\n",
       "    </tr>\n",
       "    <tr>\n",
       "      <th>60140</th>\n",
       "      <td>седан</td>\n",
       "      <td>VOLKSWAGEN</td>\n",
       "      <td>В хорошем состоянии, сел и поехал.  Масло мен...</td>\n",
       "      <td>1781.0</td>\n",
       "      <td>90.0</td>\n",
       "      <td>{'engine-proof': True, 'ptf': True, 'airbag-dr...</td>\n",
       "      <td>бензин</td>\n",
       "      <td>//avatars.mds.yandex.net/get-autoru-vos/215936...</td>\n",
       "      <td>177000</td>\n",
       "      <td>3.401197</td>\n",
       "      <td>...</td>\n",
       "      <td>4.499810</td>\n",
       "      <td>12</td>\n",
       "      <td>1080.0</td>\n",
       "      <td>27</td>\n",
       "      <td>35</td>\n",
       "      <td>AT</td>\n",
       "      <td>-1.0</td>\n",
       "      <td>1.8</td>\n",
       "      <td>4.510860</td>\n",
       "      <td>2</td>\n",
       "    </tr>\n",
       "    <tr>\n",
       "      <th>60141</th>\n",
       "      <td>седан</td>\n",
       "      <td>VOLKSWAGEN</td>\n",
       "      <td>[]</td>\n",
       "      <td>1595.0</td>\n",
       "      <td>75.0</td>\n",
       "      <td>{'alloy-wheel-disks': True, 'tinted-glass': Tr...</td>\n",
       "      <td>бензин</td>\n",
       "      <td>//avatars.mds.yandex.net/get-autoru-vos/217450...</td>\n",
       "      <td>320000</td>\n",
       "      <td>3.401197</td>\n",
       "      <td>...</td>\n",
       "      <td>4.317488</td>\n",
       "      <td>12</td>\n",
       "      <td>900.0</td>\n",
       "      <td>28</td>\n",
       "      <td>35</td>\n",
       "      <td>MT</td>\n",
       "      <td>-1.0</td>\n",
       "      <td>1.6</td>\n",
       "      <td>4.330733</td>\n",
       "      <td>1</td>\n",
       "    </tr>\n",
       "  </tbody>\n",
       "</table>\n",
       "<p>60141 rows × 70 columns</p>\n",
       "</div>"
      ],
      "text/plain": [
       "            bodyType       brand  \\\n",
       "0      хэтчбек 5 дв.        AUDI   \n",
       "1      хэтчбек 5 дв.        AUDI   \n",
       "2      хэтчбек 5 дв.        AUDI   \n",
       "3      хэтчбек 5 дв.        AUDI   \n",
       "4      хэтчбек 3 дв.        AUDI   \n",
       "...              ...         ...   \n",
       "60137          седан  VOLKSWAGEN   \n",
       "60138          седан  VOLKSWAGEN   \n",
       "60139          седан  VOLKSWAGEN   \n",
       "60140          седан  VOLKSWAGEN   \n",
       "60141          седан  VOLKSWAGEN   \n",
       "\n",
       "                                             description  engineDisplacement  \\\n",
       "0      - Ксенон\\r\\n- Датчики света, дождя\\r\\n- 1х зон...              1395.0   \n",
       "1      Автомобиль в отличном состоянии, ездила девушк...              1390.0   \n",
       "2      Внимание! Только для клиентов AVILON Автомобил...              1390.0   \n",
       "3      Комплект новых зимних шин на дисках в подарок....              1390.0   \n",
       "4      Все по регламенту много что делалось по машине...              1390.0   \n",
       "...                                                  ...                 ...   \n",
       "60137  Машина в хорошем состоянии для своих лет,при о...              1984.0   \n",
       "60138  Полностью обслужена,все дно переварили в июле,...              1984.0   \n",
       "60139  Покупалась временно до покупки нового Авто. Ст...              1781.0   \n",
       "60140   В хорошем состоянии, сел и поехал.  Масло мен...              1781.0   \n",
       "60141                                                 []              1595.0   \n",
       "\n",
       "       enginePower                                     equipment_dict  \\\n",
       "0            125.0  {'electro-window-back': True, 'alloy-wheel-dis...   \n",
       "1            122.0                                                NaN   \n",
       "2            122.0  {'asr': True, 'airbag-driver': True, 'aux': Tr...   \n",
       "3            122.0  {'alloy-wheel-disks': True, 'abs': True, 'esp'...   \n",
       "4            122.0  {'engine-proof': True, 'esp': True, 'airbag-dr...   \n",
       "...            ...                                                ...   \n",
       "60137        115.0                                                NaN   \n",
       "60138        115.0  {'passenger-seat-updown': True, 'airbag-passen...   \n",
       "60139         90.0                                                NaN   \n",
       "60140         90.0  {'engine-proof': True, 'ptf': True, 'airbag-dr...   \n",
       "60141         75.0  {'alloy-wheel-disks': True, 'tinted-glass': Tr...   \n",
       "\n",
       "      fuelType                                              image  mileage  \\\n",
       "0       бензин  //avatars.mds.yandex.net/get-autoru-vos/438758...    56627   \n",
       "1       бензин  //avatars.mds.yandex.net/get-autoru-vos/158389...    39500   \n",
       "2       бензин  //avatars.mds.yandex.net/get-autoru-vos/204964...    73528   \n",
       "3       бензин  //avatars.mds.yandex.net/get-autoru-vos/209532...    95400   \n",
       "4       бензин  //avatars.mds.yandex.net/get-autoru-vos/218118...   149000   \n",
       "...        ...                                                ...      ...   \n",
       "60137   бензин  //avatars.mds.yandex.net/get-autoru-vos/219862...   260000   \n",
       "60138   бензин  //avatars.mds.yandex.net/get-autoru-vos/218118...   250000   \n",
       "60139   бензин  //avatars.mds.yandex.net/get-autoru-vos/220317...   180580   \n",
       "60140   бензин  //avatars.mds.yandex.net/get-autoru-vos/215936...   177000   \n",
       "60141   бензин  //avatars.mds.yandex.net/get-autoru-vos/217450...   320000   \n",
       "\n",
       "       modelDate  ... log_power Nalog_base   Nalog  years_old  age_intervals  \\\n",
       "0       1.945910  ...  4.828314         25  3125.0          6              7   \n",
       "1       2.397895  ...  4.804021         25  3050.0          7              7   \n",
       "2       2.397895  ...  4.804021         25  3050.0          7              7   \n",
       "3       2.397895  ...  4.804021         25  3050.0          6              7   \n",
       "4       2.397895  ...  4.804021         25  3050.0          9             14   \n",
       "...          ...  ...       ...        ...     ...        ...            ...   \n",
       "60137   3.401197  ...  4.744932         25  2875.0         29             35   \n",
       "60138   3.401197  ...  4.744932         25  2875.0         28             35   \n",
       "60139   3.401197  ...  4.499810         12  1080.0         27             35   \n",
       "60140   3.401197  ...  4.499810         12  1080.0         27             35   \n",
       "60141   3.401197  ...  4.317488         12   900.0         28             35   \n",
       "\n",
       "       name_AMT_CVT  name_4WD vol_engine    HPower DeltaDate  \n",
       "0               AMT      -1.0        1.4  4.836282         0  \n",
       "1               AMT      -1.0        1.4  4.812184         3  \n",
       "2               AMT      -1.0        1.4  4.812184         3  \n",
       "3               AMT      -1.0        1.4  4.812184         4  \n",
       "4               AMT      -1.0        1.4  4.812184         1  \n",
       "...             ...       ...        ...       ...       ...  \n",
       "60137            MT      -1.0        2.0  4.753590         0  \n",
       "60138            AT      -1.0        2.0  4.753590         1  \n",
       "60139            MT      -1.0        1.8  4.510860         2  \n",
       "60140            AT      -1.0        1.8  4.510860         2  \n",
       "60141            MT      -1.0        1.6  4.330733         1  \n",
       "\n",
       "[60141 rows x 70 columns]"
      ]
     },
     "execution_count": 159,
     "metadata": {},
     "output_type": "execute_result"
    }
   ],
   "source": [
    "traincc"
   ]
  },
  {
   "cell_type": "code",
   "execution_count": 160,
   "metadata": {},
   "outputs": [],
   "source": [
    "testcc.drop(columns_drop1, axis=1, inplace=True,errors= 'ignore')\n",
    "traincc.drop(columns_drop2, axis=1, inplace=True,errors= 'ignore')"
   ]
  },
  {
   "cell_type": "code",
   "execution_count": 161,
   "metadata": {},
   "outputs": [],
   "source": [
    "traincc['model_name'] = traincc['model_name'].fillna(traincc['model_name'].describe().top)\n",
    "traincc['Владельцы'] = traincc['Владельцы'].fillna(traincc['Владельцы'].describe().top)"
   ]
  },
  {
   "cell_type": "code",
   "execution_count": 162,
   "metadata": {},
   "outputs": [
    {
     "name": "stdout",
     "output_type": "stream",
     "text": [
      "<class 'pandas.core.frame.DataFrame'>\n",
      "Int64Index: 60141 entries, 0 to 60141\n",
      "Data columns (total 60 columns):\n",
      " #   Column                    Non-Null Count  Dtype   \n",
      "---  ------                    --------------  -----   \n",
      " 0   bodyType                  60141 non-null  object  \n",
      " 1   brand                     60141 non-null  object  \n",
      " 2   engineDisplacement        60141 non-null  float64 \n",
      " 3   enginePower               60141 non-null  float64 \n",
      " 4   fuelType                  60141 non-null  object  \n",
      " 5   mileage                   60141 non-null  int64   \n",
      " 6   modelDate                 60141 non-null  float64 \n",
      " 7   model_name                60141 non-null  object  \n",
      " 8   numberOfDoors             60141 non-null  float64 \n",
      " 9   parsing_unixtime          60141 non-null  float64 \n",
      " 10  productionDate            60141 non-null  float64 \n",
      " 11  section                   60141 non-null  object  \n",
      " 12  url_saleid                60141 non-null  object  \n",
      " 13  vehicleTransmission       60141 non-null  object  \n",
      " 14  vendor                    60141 non-null  object  \n",
      " 15  Владельцы                 60141 non-null  category\n",
      " 16  ПТС                       60141 non-null  object  \n",
      " 17  Привод                    60141 non-null  object  \n",
      " 18  Руль                      60141 non-null  object  \n",
      " 19  price                     60141 non-null  int64   \n",
      " 20  auto_class                59932 non-null  object  \n",
      " 21  price_segment             60141 non-null  object  \n",
      " 22  seller_type               60141 non-null  object  \n",
      " 23  color                     60141 non-null  object  \n",
      " 24  description_word          60141 non-null  object  \n",
      " 25  leather                   60141 non-null  int64   \n",
      " 26  carter                    60141 non-null  int64   \n",
      " 27  ABS                       60141 non-null  int64   \n",
      " 28  airbags                   60141 non-null  int64   \n",
      " 29  immob                     60141 non-null  int64   \n",
      " 30  central_locking           60141 non-null  int64   \n",
      " 31  on_board_computer         60141 non-null  int64   \n",
      " 32  cruise_control            60141 non-null  int64   \n",
      " 33  climat_control            60141 non-null  int64   \n",
      " 34  multi_rudder              60141 non-null  int64   \n",
      " 35  power_steering            60141 non-null  int64   \n",
      " 36  light_and_rain_sensors    60141 non-null  int64   \n",
      " 37  сarbon_body_kits          60141 non-null  int64   \n",
      " 38  rear_diffuser_rkp         60141 non-null  int64   \n",
      " 39  door_closers              60141 non-null  int64   \n",
      " 40  rear_view_camera          60141 non-null  int64   \n",
      " 41  amg                       60141 non-null  int64   \n",
      " 42  bi_xenon_headlights       60141 non-null  int64   \n",
      " 43  from_salon                60141 non-null  int64   \n",
      " 44  alloy_wheels              60141 non-null  int64   \n",
      " 45  parking_sensors           60141 non-null  int64   \n",
      " 46  dents                     60141 non-null  int64   \n",
      " 47  roof_with_panoramic_view  60141 non-null  int64   \n",
      " 48  log_price                 60141 non-null  float64 \n",
      " 49  bT_length                 60141 non-null  int64   \n",
      " 50  brand_length              60141 non-null  int64   \n",
      " 51  Nalog_base                60141 non-null  int64   \n",
      " 52  Nalog                     60141 non-null  float64 \n",
      " 53  years_old                 60141 non-null  int64   \n",
      " 54  age_intervals             60141 non-null  category\n",
      " 55  name_AMT_CVT              60141 non-null  object  \n",
      " 56  name_4WD                  60141 non-null  float64 \n",
      " 57  vol_engine                60141 non-null  float64 \n",
      " 58  HPower                    60141 non-null  float64 \n",
      " 59  DeltaDate                 60141 non-null  int64   \n",
      "dtypes: category(2), float64(11), int64(30), object(17)\n",
      "memory usage: 29.7+ MB\n"
     ]
    }
   ],
   "source": [
    "traincc.info()\n"
   ]
  },
  {
   "cell_type": "code",
   "execution_count": 163,
   "metadata": {},
   "outputs": [
    {
     "name": "stdout",
     "output_type": "stream",
     "text": [
      "<class 'pandas.core.frame.DataFrame'>\n",
      "RangeIndex: 34686 entries, 0 to 34685\n",
      "Data columns (total 52 columns):\n",
      " #   Column                    Non-Null Count  Dtype   \n",
      "---  ------                    --------------  -----   \n",
      " 0   bodyType                  34686 non-null  object  \n",
      " 1   brand                     34686 non-null  object  \n",
      " 2   color                     34686 non-null  object  \n",
      " 3   engineDisplacement        34686 non-null  object  \n",
      " 4   enginePower               34686 non-null  float64 \n",
      " 5   fuelType                  34686 non-null  object  \n",
      " 6   mileage                   34686 non-null  int64   \n",
      " 7   modelDate                 34686 non-null  float64 \n",
      " 8   model_name                34686 non-null  object  \n",
      " 9   numberOfDoors             34686 non-null  float64 \n",
      " 10  productionDate            34686 non-null  float64 \n",
      " 11  vehicleTransmission       34686 non-null  object  \n",
      " 12  vendor                    34686 non-null  object  \n",
      " 13  Владельцы                 34686 non-null  category\n",
      " 14  ПТС                       34686 non-null  object  \n",
      " 15  Привод                    34686 non-null  object  \n",
      " 16  Руль                      34686 non-null  object  \n",
      " 17  description_word          34686 non-null  object  \n",
      " 18  leather                   34686 non-null  int64   \n",
      " 19  carter                    34686 non-null  int64   \n",
      " 20  ABS                       34686 non-null  int64   \n",
      " 21  airbags                   34686 non-null  int64   \n",
      " 22  immob                     34686 non-null  int64   \n",
      " 23  central_locking           34686 non-null  int64   \n",
      " 24  on_board_computer         34686 non-null  int64   \n",
      " 25  cruise_control            34686 non-null  int64   \n",
      " 26  climat_control            34686 non-null  int64   \n",
      " 27  multi_rudder              34686 non-null  int64   \n",
      " 28  power_steering            34686 non-null  int64   \n",
      " 29  light_and_rain_sensors    34686 non-null  int64   \n",
      " 30  сarbon_body_kits          34686 non-null  int64   \n",
      " 31  rear_diffuser_rkp         34686 non-null  int64   \n",
      " 32  door_closers              34686 non-null  int64   \n",
      " 33  rear_view_camera          34686 non-null  int64   \n",
      " 34  amg                       34686 non-null  int64   \n",
      " 35  bi_xenon_headlights       34686 non-null  int64   \n",
      " 36  from_salon                34686 non-null  int64   \n",
      " 37  alloy_wheels              34686 non-null  int64   \n",
      " 38  parking_sensors           34686 non-null  int64   \n",
      " 39  dents                     34686 non-null  int64   \n",
      " 40  roof_with_panoramic_view  34686 non-null  int64   \n",
      " 41  bT_length                 34686 non-null  int64   \n",
      " 42  brand_length              34686 non-null  int64   \n",
      " 43  Nalog_base                34686 non-null  int64   \n",
      " 44  Nalog                     34686 non-null  float64 \n",
      " 45  years_old                 34686 non-null  int64   \n",
      " 46  age_intervals             34686 non-null  category\n",
      " 47  name_AMT_CVT              34686 non-null  object  \n",
      " 48  name_4WD                  34686 non-null  float64 \n",
      " 49  vol_engine                34686 non-null  float64 \n",
      " 50  HPower                    34686 non-null  float64 \n",
      " 51  DeltaDate                 34686 non-null  int64   \n",
      "dtypes: category(2), float64(8), int64(29), object(13)\n",
      "memory usage: 13.3+ MB\n"
     ]
    }
   ],
   "source": [
    "testcc.info()"
   ]
  },
  {
   "cell_type": "code",
   "execution_count": 164,
   "metadata": {},
   "outputs": [],
   "source": [
    "num_cols = ['engineDisplacement', 'enginePower', 'mileage', 'bT_length', 'Nalog_base',\n",
    "       'brand_length', 'Nalog', 'years_old', 'log_price']"
   ]
  },
  {
   "cell_type": "code",
   "execution_count": null,
   "metadata": {},
   "outputs": [],
   "source": []
  },
  {
   "cell_type": "code",
   "execution_count": null,
   "metadata": {},
   "outputs": [],
   "source": [
    "correlation = traincc[num_cols].corr()\n",
    "correlation"
   ]
  },
  {
   "cell_type": "code",
   "execution_count": null,
   "metadata": {},
   "outputs": [],
   "source": [
    "plt.figure(figsize=(20, 12))\n",
    "sns.heatmap(correlation, annot=True, cmap='coolwarm')"
   ]
  },
  {
   "cell_type": "code",
   "execution_count": 165,
   "metadata": {},
   "outputs": [],
   "source": [
    "columns_d = ['brand_length','description_word']\n",
    "traincc.drop(columns_d, axis=1, inplace=True)\n",
    "testcc.drop(columns_d, axis=1, inplace=True)"
   ]
  },
  {
   "cell_type": "code",
   "execution_count": 166,
   "metadata": {},
   "outputs": [
    {
     "name": "stderr",
     "output_type": "stream",
     "text": [
      "C:\\ProgramData\\Anaconda3\\lib\\site-packages\\seaborn\\distributions.py:2551: FutureWarning: `distplot` is a deprecated function and will be removed in a future version. Please adapt your code to use either `displot` (a figure-level function with similar flexibility) or `histplot` (an axes-level function for histograms).\n",
      "  warnings.warn(msg, FutureWarning)\n"
     ]
    },
    {
     "data": {
      "text/plain": [
       "<AxesSubplot:xlabel='mileage', ylabel='Density'>"
      ]
     },
     "execution_count": 166,
     "metadata": {},
     "output_type": "execute_result"
    },
    {
     "data": {
      "image/png": "[encoded data removed]",
      "text/plain": [
       "<Figure size 432x288 with 1 Axes>"
      ]
     },
     "metadata": {
      "needs_background": "light"
     },
     "output_type": "display_data"
    }
   ],
   "source": [
    "sns.distplot(traincc['mileage'])"
   ]
  },
  {
   "cell_type": "code",
   "execution_count": 167,
   "metadata": {},
   "outputs": [
    {
     "name": "stderr",
     "output_type": "stream",
     "text": [
      "C:\\ProgramData\\Anaconda3\\lib\\site-packages\\seaborn\\distributions.py:2551: FutureWarning: `distplot` is a deprecated function and will be removed in a future version. Please adapt your code to use either `displot` (a figure-level function with similar flexibility) or `histplot` (an axes-level function for histograms).\n",
      "  warnings.warn(msg, FutureWarning)\n"
     ]
    },
    {
     "data": {
      "text/plain": [
       "<AxesSubplot:xlabel='log_price', ylabel='Density'>"
      ]
     },
     "execution_count": 167,
     "metadata": {},
     "output_type": "execute_result"
    },
    {
     "data": {
      "image/png": "[encoded data removed]",
      "text/plain": [
       "<Figure size 432x288 with 1 Axes>"
      ]
     },
     "metadata": {
      "needs_background": "light"
     },
     "output_type": "display_data"
    }
   ],
   "source": [
    "sns.distplot(traincc['log_price'])"
   ]
  },
  {
   "cell_type": "code",
   "execution_count": 168,
   "metadata": {},
   "outputs": [
    {
     "ename": "NameError",
     "evalue": "name 'asd' is not defined",
     "output_type": "error",
     "traceback": [
      "\u001b[1;31m---------------------------------------------------------------------------\u001b[0m",
      "\u001b[1;31mNameError\u001b[0m                                 Traceback (most recent call last)",
      "\u001b[1;32m<ipython-input-168-c85320d9ddb9>\u001b[0m in \u001b[0;36m<module>\u001b[1;34m\u001b[0m\n\u001b[1;32m----> 1\u001b[1;33m \u001b[0masd\u001b[0m\u001b[1;33m\u001b[0m\u001b[1;33m\u001b[0m\u001b[0m\n\u001b[0m",
      "\u001b[1;31mNameError\u001b[0m: name 'asd' is not defined"
     ]
    }
   ],
   "source": [
    "asd"
   ]
  },
  {
   "cell_type": "code",
   "execution_count": null,
   "metadata": {},
   "outputs": [],
   "source": []
  },
  {
   "cell_type": "code",
   "execution_count": null,
   "metadata": {},
   "outputs": [],
   "source": []
  },
  {
   "cell_type": "code",
   "execution_count": 169,
   "metadata": {},
   "outputs": [
    {
     "name": "stdout",
     "output_type": "stream",
     "text": [
      "<class 'pandas.core.frame.DataFrame'>\n",
      "Int64Index: 60141 entries, 0 to 60141\n",
      "Data columns (total 58 columns):\n",
      " #   Column                    Non-Null Count  Dtype   \n",
      "---  ------                    --------------  -----   \n",
      " 0   bodyType                  60141 non-null  object  \n",
      " 1   brand                     60141 non-null  object  \n",
      " 2   engineDisplacement        60141 non-null  float64 \n",
      " 3   enginePower               60141 non-null  float64 \n",
      " 4   fuelType                  60141 non-null  object  \n",
      " 5   mileage                   60141 non-null  int64   \n",
      " 6   modelDate                 60141 non-null  float64 \n",
      " 7   model_name                60141 non-null  object  \n",
      " 8   numberOfDoors             60141 non-null  float64 \n",
      " 9   parsing_unixtime          60141 non-null  float64 \n",
      " 10  productionDate            60141 non-null  float64 \n",
      " 11  section                   60141 non-null  object  \n",
      " 12  url_saleid                60141 non-null  object  \n",
      " 13  vehicleTransmission       60141 non-null  object  \n",
      " 14  vendor                    60141 non-null  object  \n",
      " 15  Владельцы                 60141 non-null  category\n",
      " 16  ПТС                       60141 non-null  object  \n",
      " 17  Привод                    60141 non-null  object  \n",
      " 18  Руль                      60141 non-null  object  \n",
      " 19  price                     60141 non-null  int64   \n",
      " 20  auto_class                59932 non-null  object  \n",
      " 21  price_segment             60141 non-null  object  \n",
      " 22  seller_type               60141 non-null  object  \n",
      " 23  color                     60141 non-null  object  \n",
      " 24  leather                   60141 non-null  int64   \n",
      " 25  carter                    60141 non-null  int64   \n",
      " 26  ABS                       60141 non-null  int64   \n",
      " 27  airbags                   60141 non-null  int64   \n",
      " 28  immob                     60141 non-null  int64   \n",
      " 29  central_locking           60141 non-null  int64   \n",
      " 30  on_board_computer         60141 non-null  int64   \n",
      " 31  cruise_control            60141 non-null  int64   \n",
      " 32  climat_control            60141 non-null  int64   \n",
      " 33  multi_rudder              60141 non-null  int64   \n",
      " 34  power_steering            60141 non-null  int64   \n",
      " 35  light_and_rain_sensors    60141 non-null  int64   \n",
      " 36  сarbon_body_kits          60141 non-null  int64   \n",
      " 37  rear_diffuser_rkp         60141 non-null  int64   \n",
      " 38  door_closers              60141 non-null  int64   \n",
      " 39  rear_view_camera          60141 non-null  int64   \n",
      " 40  amg                       60141 non-null  int64   \n",
      " 41  bi_xenon_headlights       60141 non-null  int64   \n",
      " 42  from_salon                60141 non-null  int64   \n",
      " 43  alloy_wheels              60141 non-null  int64   \n",
      " 44  parking_sensors           60141 non-null  int64   \n",
      " 45  dents                     60141 non-null  int64   \n",
      " 46  roof_with_panoramic_view  60141 non-null  int64   \n",
      " 47  log_price                 60141 non-null  float64 \n",
      " 48  bT_length                 60141 non-null  int64   \n",
      " 49  Nalog_base                60141 non-null  int64   \n",
      " 50  Nalog                     60141 non-null  float64 \n",
      " 51  years_old                 60141 non-null  int64   \n",
      " 52  age_intervals             60141 non-null  category\n",
      " 53  name_AMT_CVT              60141 non-null  object  \n",
      " 54  name_4WD                  60141 non-null  float64 \n",
      " 55  vol_engine                60141 non-null  float64 \n",
      " 56  HPower                    60141 non-null  float64 \n",
      " 57  DeltaDate                 60141 non-null  int64   \n",
      "dtypes: category(2), float64(11), int64(29), object(16)\n",
      "memory usage: 28.8+ MB\n"
     ]
    }
   ],
   "source": [
    "traincc.info()"
   ]
  },
  {
   "cell_type": "code",
   "execution_count": 170,
   "metadata": {},
   "outputs": [],
   "source": [
    "columns_drop = ['engineDisplacement']\n",
    "traincc = traincc.drop(columns_drop, axis=1)"
   ]
  },
  {
   "cell_type": "code",
   "execution_count": 171,
   "metadata": {},
   "outputs": [],
   "source": [
    "columns_drop = ['engineDisplacement']\n",
    "testcc = testcc.drop(columns_drop, axis=1)"
   ]
  },
  {
   "cell_type": "markdown",
   "metadata": {},
   "source": [
    "**Concatenation train and test **"
   ]
  },
  {
   "cell_type": "code",
   "execution_count": 172,
   "metadata": {},
   "outputs": [],
   "source": [
    "columns = list(testcc.columns) "
   ]
  },
  {
   "cell_type": "code",
   "execution_count": 173,
   "metadata": {},
   "outputs": [],
   "source": [
    "columns.remove('Nalog_base')"
   ]
  },
  {
   "cell_type": "code",
   "execution_count": 174,
   "metadata": {},
   "outputs": [
    {
     "data": {
      "text/plain": [
       "48"
      ]
     },
     "execution_count": 174,
     "metadata": {},
     "output_type": "execute_result"
    }
   ],
   "source": [
    "len(columns)"
   ]
  },
  {
   "cell_type": "code",
   "execution_count": 175,
   "metadata": {},
   "outputs": [],
   "source": [
    "df_train = traincc[columns]\n",
    "df_test = testcc[columns]"
   ]
  },
  {
   "cell_type": "code",
   "execution_count": 176,
   "metadata": {},
   "outputs": [
    {
     "name": "stdout",
     "output_type": "stream",
     "text": [
      "<class 'pandas.core.frame.DataFrame'>\n",
      "Int64Index: 60141 entries, 0 to 60141\n",
      "Data columns (total 48 columns):\n",
      " #   Column                    Non-Null Count  Dtype   \n",
      "---  ------                    --------------  -----   \n",
      " 0   bodyType                  60141 non-null  object  \n",
      " 1   brand                     60141 non-null  object  \n",
      " 2   color                     60141 non-null  object  \n",
      " 3   enginePower               60141 non-null  float64 \n",
      " 4   fuelType                  60141 non-null  object  \n",
      " 5   mileage                   60141 non-null  int64   \n",
      " 6   modelDate                 60141 non-null  float64 \n",
      " 7   model_name                60141 non-null  object  \n",
      " 8   numberOfDoors             60141 non-null  float64 \n",
      " 9   productionDate            60141 non-null  float64 \n",
      " 10  vehicleTransmission       60141 non-null  object  \n",
      " 11  vendor                    60141 non-null  object  \n",
      " 12  Владельцы                 60141 non-null  category\n",
      " 13  ПТС                       60141 non-null  object  \n",
      " 14  Привод                    60141 non-null  object  \n",
      " 15  Руль                      60141 non-null  object  \n",
      " 16  leather                   60141 non-null  int64   \n",
      " 17  carter                    60141 non-null  int64   \n",
      " 18  ABS                       60141 non-null  int64   \n",
      " 19  airbags                   60141 non-null  int64   \n",
      " 20  immob                     60141 non-null  int64   \n",
      " 21  central_locking           60141 non-null  int64   \n",
      " 22  on_board_computer         60141 non-null  int64   \n",
      " 23  cruise_control            60141 non-null  int64   \n",
      " 24  climat_control            60141 non-null  int64   \n",
      " 25  multi_rudder              60141 non-null  int64   \n",
      " 26  power_steering            60141 non-null  int64   \n",
      " 27  light_and_rain_sensors    60141 non-null  int64   \n",
      " 28  сarbon_body_kits          60141 non-null  int64   \n",
      " 29  rear_diffuser_rkp         60141 non-null  int64   \n",
      " 30  door_closers              60141 non-null  int64   \n",
      " 31  rear_view_camera          60141 non-null  int64   \n",
      " 32  amg                       60141 non-null  int64   \n",
      " 33  bi_xenon_headlights       60141 non-null  int64   \n",
      " 34  from_salon                60141 non-null  int64   \n",
      " 35  alloy_wheels              60141 non-null  int64   \n",
      " 36  parking_sensors           60141 non-null  int64   \n",
      " 37  dents                     60141 non-null  int64   \n",
      " 38  roof_with_panoramic_view  60141 non-null  int64   \n",
      " 39  bT_length                 60141 non-null  int64   \n",
      " 40  Nalog                     60141 non-null  float64 \n",
      " 41  years_old                 60141 non-null  int64   \n",
      " 42  age_intervals             60141 non-null  category\n",
      " 43  name_AMT_CVT              60141 non-null  object  \n",
      " 44  name_4WD                  60141 non-null  float64 \n",
      " 45  vol_engine                60141 non-null  float64 \n",
      " 46  HPower                    60141 non-null  float64 \n",
      " 47  DeltaDate                 60141 non-null  int64   \n",
      "dtypes: category(2), float64(8), int64(27), object(11)\n",
      "memory usage: 24.2+ MB\n"
     ]
    }
   ],
   "source": [
    "df_train.info()"
   ]
  },
  {
   "cell_type": "code",
   "execution_count": 177,
   "metadata": {},
   "outputs": [
    {
     "name": "stdout",
     "output_type": "stream",
     "text": [
      "<class 'pandas.core.frame.DataFrame'>\n",
      "RangeIndex: 34686 entries, 0 to 34685\n",
      "Data columns (total 48 columns):\n",
      " #   Column                    Non-Null Count  Dtype   \n",
      "---  ------                    --------------  -----   \n",
      " 0   bodyType                  34686 non-null  object  \n",
      " 1   brand                     34686 non-null  object  \n",
      " 2   color                     34686 non-null  object  \n",
      " 3   enginePower               34686 non-null  float64 \n",
      " 4   fuelType                  34686 non-null  object  \n",
      " 5   mileage                   34686 non-null  int64   \n",
      " 6   modelDate                 34686 non-null  float64 \n",
      " 7   model_name                34686 non-null  object  \n",
      " 8   numberOfDoors             34686 non-null  float64 \n",
      " 9   productionDate            34686 non-null  float64 \n",
      " 10  vehicleTransmission       34686 non-null  object  \n",
      " 11  vendor                    34686 non-null  object  \n",
      " 12  Владельцы                 34686 non-null  category\n",
      " 13  ПТС                       34686 non-null  object  \n",
      " 14  Привод                    34686 non-null  object  \n",
      " 15  Руль                      34686 non-null  object  \n",
      " 16  leather                   34686 non-null  int64   \n",
      " 17  carter                    34686 non-null  int64   \n",
      " 18  ABS                       34686 non-null  int64   \n",
      " 19  airbags                   34686 non-null  int64   \n",
      " 20  immob                     34686 non-null  int64   \n",
      " 21  central_locking           34686 non-null  int64   \n",
      " 22  on_board_computer         34686 non-null  int64   \n",
      " 23  cruise_control            34686 non-null  int64   \n",
      " 24  climat_control            34686 non-null  int64   \n",
      " 25  multi_rudder              34686 non-null  int64   \n",
      " 26  power_steering            34686 non-null  int64   \n",
      " 27  light_and_rain_sensors    34686 non-null  int64   \n",
      " 28  сarbon_body_kits          34686 non-null  int64   \n",
      " 29  rear_diffuser_rkp         34686 non-null  int64   \n",
      " 30  door_closers              34686 non-null  int64   \n",
      " 31  rear_view_camera          34686 non-null  int64   \n",
      " 32  amg                       34686 non-null  int64   \n",
      " 33  bi_xenon_headlights       34686 non-null  int64   \n",
      " 34  from_salon                34686 non-null  int64   \n",
      " 35  alloy_wheels              34686 non-null  int64   \n",
      " 36  parking_sensors           34686 non-null  int64   \n",
      " 37  dents                     34686 non-null  int64   \n",
      " 38  roof_with_panoramic_view  34686 non-null  int64   \n",
      " 39  bT_length                 34686 non-null  int64   \n",
      " 40  Nalog                     34686 non-null  float64 \n",
      " 41  years_old                 34686 non-null  int64   \n",
      " 42  age_intervals             34686 non-null  category\n",
      " 43  name_AMT_CVT              34686 non-null  object  \n",
      " 44  name_4WD                  34686 non-null  float64 \n",
      " 45  vol_engine                34686 non-null  float64 \n",
      " 46  HPower                    34686 non-null  float64 \n",
      " 47  DeltaDate                 34686 non-null  int64   \n",
      "dtypes: category(2), float64(8), int64(27), object(11)\n",
      "memory usage: 12.2+ MB\n"
     ]
    }
   ],
   "source": [
    "df_test.info()"
   ]
  },
  {
   "cell_type": "code",
   "execution_count": 178,
   "metadata": {},
   "outputs": [],
   "source": [
    "y = traincc['price']"
   ]
  },
  {
   "cell_type": "code",
   "execution_count": 179,
   "metadata": {},
   "outputs": [],
   "source": [
    "# y.to_csv('yy2201.csv', encoding = 'utf-8')"
   ]
  },
  {
   "cell_type": "code",
   "execution_count": 180,
   "metadata": {
    "scrolled": true
   },
   "outputs": [
    {
     "data": {
      "text/plain": [
       "0        956000\n",
       "1        745000\n",
       "2        825000\n",
       "3        880000\n",
       "4        550000\n",
       "          ...  \n",
       "60137     40000\n",
       "60138    100000\n",
       "60139     65000\n",
       "60140    110000\n",
       "60141    100000\n",
       "Name: price, Length: 60141, dtype: int64"
      ]
     },
     "execution_count": 180,
     "metadata": {},
     "output_type": "execute_result"
    }
   ],
   "source": [
    "y"
   ]
  },
  {
   "cell_type": "code",
   "execution_count": 181,
   "metadata": {},
   "outputs": [
    {
     "data": {
      "text/html": [
       "<div>\n",
       "<style scoped>\n",
       "    .dataframe tbody tr th:only-of-type {\n",
       "        vertical-align: middle;\n",
       "    }\n",
       "\n",
       "    .dataframe tbody tr th {\n",
       "        vertical-align: top;\n",
       "    }\n",
       "\n",
       "    .dataframe thead th {\n",
       "        text-align: right;\n",
       "    }\n",
       "</style>\n",
       "<table border=\"1\" class=\"dataframe\">\n",
       "  <thead>\n",
       "    <tr style=\"text-align: right;\">\n",
       "      <th></th>\n",
       "      <th>bodyType</th>\n",
       "      <th>brand</th>\n",
       "      <th>color</th>\n",
       "      <th>enginePower</th>\n",
       "      <th>fuelType</th>\n",
       "      <th>mileage</th>\n",
       "      <th>modelDate</th>\n",
       "      <th>model_name</th>\n",
       "      <th>numberOfDoors</th>\n",
       "      <th>productionDate</th>\n",
       "      <th>...</th>\n",
       "      <th>roof_with_panoramic_view</th>\n",
       "      <th>bT_length</th>\n",
       "      <th>Nalog</th>\n",
       "      <th>years_old</th>\n",
       "      <th>age_intervals</th>\n",
       "      <th>name_AMT_CVT</th>\n",
       "      <th>name_4WD</th>\n",
       "      <th>vol_engine</th>\n",
       "      <th>HPower</th>\n",
       "      <th>DeltaDate</th>\n",
       "    </tr>\n",
       "  </thead>\n",
       "  <tbody>\n",
       "    <tr>\n",
       "      <th>0</th>\n",
       "      <td>лифтбек</td>\n",
       "      <td>SKODA</td>\n",
       "      <td>синий</td>\n",
       "      <td>105.0</td>\n",
       "      <td>бензин</td>\n",
       "      <td>74000</td>\n",
       "      <td>2.079442</td>\n",
       "      <td>OCTAVIA</td>\n",
       "      <td>5.0</td>\n",
       "      <td>1.945910</td>\n",
       "      <td>...</td>\n",
       "      <td>0</td>\n",
       "      <td>7</td>\n",
       "      <td>2625.0</td>\n",
       "      <td>7</td>\n",
       "      <td>7</td>\n",
       "      <td>AMT</td>\n",
       "      <td>-1.0</td>\n",
       "      <td>1.2</td>\n",
       "      <td>4.663439</td>\n",
       "      <td>1</td>\n",
       "    </tr>\n",
       "    <tr>\n",
       "      <th>1</th>\n",
       "      <td>лифтбек</td>\n",
       "      <td>SKODA</td>\n",
       "      <td>чёрный</td>\n",
       "      <td>110.0</td>\n",
       "      <td>бензин</td>\n",
       "      <td>60563</td>\n",
       "      <td>1.386294</td>\n",
       "      <td>OCTAVIA</td>\n",
       "      <td>5.0</td>\n",
       "      <td>1.386294</td>\n",
       "      <td>...</td>\n",
       "      <td>0</td>\n",
       "      <td>7</td>\n",
       "      <td>2750.0</td>\n",
       "      <td>4</td>\n",
       "      <td>7</td>\n",
       "      <td>MT</td>\n",
       "      <td>-1.0</td>\n",
       "      <td>1.6</td>\n",
       "      <td>4.709530</td>\n",
       "      <td>0</td>\n",
       "    </tr>\n",
       "    <tr>\n",
       "      <th>2</th>\n",
       "      <td>лифтбек</td>\n",
       "      <td>SKODA</td>\n",
       "      <td>серый</td>\n",
       "      <td>152.0</td>\n",
       "      <td>бензин</td>\n",
       "      <td>88000</td>\n",
       "      <td>2.079442</td>\n",
       "      <td>SUPERB</td>\n",
       "      <td>5.0</td>\n",
       "      <td>1.945910</td>\n",
       "      <td>...</td>\n",
       "      <td>0</td>\n",
       "      <td>7</td>\n",
       "      <td>6840.0</td>\n",
       "      <td>7</td>\n",
       "      <td>7</td>\n",
       "      <td>AMT</td>\n",
       "      <td>-1.0</td>\n",
       "      <td>1.8</td>\n",
       "      <td>5.030438</td>\n",
       "      <td>1</td>\n",
       "    </tr>\n",
       "    <tr>\n",
       "      <th>3</th>\n",
       "      <td>лифтбек</td>\n",
       "      <td>SKODA</td>\n",
       "      <td>коричневый</td>\n",
       "      <td>110.0</td>\n",
       "      <td>бензин</td>\n",
       "      <td>95000</td>\n",
       "      <td>2.079442</td>\n",
       "      <td>OCTAVIA</td>\n",
       "      <td>5.0</td>\n",
       "      <td>1.945910</td>\n",
       "      <td>...</td>\n",
       "      <td>0</td>\n",
       "      <td>7</td>\n",
       "      <td>2750.0</td>\n",
       "      <td>7</td>\n",
       "      <td>7</td>\n",
       "      <td>AT</td>\n",
       "      <td>-1.0</td>\n",
       "      <td>1.6</td>\n",
       "      <td>4.709530</td>\n",
       "      <td>1</td>\n",
       "    </tr>\n",
       "    <tr>\n",
       "      <th>4</th>\n",
       "      <td>лифтбек</td>\n",
       "      <td>SKODA</td>\n",
       "      <td>белый</td>\n",
       "      <td>152.0</td>\n",
       "      <td>бензин</td>\n",
       "      <td>58536</td>\n",
       "      <td>2.564949</td>\n",
       "      <td>OCTAVIA</td>\n",
       "      <td>5.0</td>\n",
       "      <td>2.197225</td>\n",
       "      <td>...</td>\n",
       "      <td>0</td>\n",
       "      <td>7</td>\n",
       "      <td>6840.0</td>\n",
       "      <td>9</td>\n",
       "      <td>14</td>\n",
       "      <td>AT</td>\n",
       "      <td>-1.0</td>\n",
       "      <td>1.8</td>\n",
       "      <td>5.030438</td>\n",
       "      <td>4</td>\n",
       "    </tr>\n",
       "    <tr>\n",
       "      <th>...</th>\n",
       "      <td>...</td>\n",
       "      <td>...</td>\n",
       "      <td>...</td>\n",
       "      <td>...</td>\n",
       "      <td>...</td>\n",
       "      <td>...</td>\n",
       "      <td>...</td>\n",
       "      <td>...</td>\n",
       "      <td>...</td>\n",
       "      <td>...</td>\n",
       "      <td>...</td>\n",
       "      <td>...</td>\n",
       "      <td>...</td>\n",
       "      <td>...</td>\n",
       "      <td>...</td>\n",
       "      <td>...</td>\n",
       "      <td>...</td>\n",
       "      <td>...</td>\n",
       "      <td>...</td>\n",
       "      <td>...</td>\n",
       "      <td>...</td>\n",
       "    </tr>\n",
       "    <tr>\n",
       "      <th>34681</th>\n",
       "      <td>седан</td>\n",
       "      <td>BMW</td>\n",
       "      <td>коричневый</td>\n",
       "      <td>136.0</td>\n",
       "      <td>бензин</td>\n",
       "      <td>115000</td>\n",
       "      <td>2.302585</td>\n",
       "      <td>3ER</td>\n",
       "      <td>4.0</td>\n",
       "      <td>1.945910</td>\n",
       "      <td>...</td>\n",
       "      <td>0</td>\n",
       "      <td>5</td>\n",
       "      <td>4760.0</td>\n",
       "      <td>7</td>\n",
       "      <td>7</td>\n",
       "      <td>AT</td>\n",
       "      <td>-1.0</td>\n",
       "      <td>1.6</td>\n",
       "      <td>4.919981</td>\n",
       "      <td>3</td>\n",
       "    </tr>\n",
       "    <tr>\n",
       "      <th>34682</th>\n",
       "      <td>седан</td>\n",
       "      <td>BMW</td>\n",
       "      <td>чёрный</td>\n",
       "      <td>190.0</td>\n",
       "      <td>дизель</td>\n",
       "      <td>98000</td>\n",
       "      <td>1.609438</td>\n",
       "      <td>5ER</td>\n",
       "      <td>4.0</td>\n",
       "      <td>1.098612</td>\n",
       "      <td>...</td>\n",
       "      <td>0</td>\n",
       "      <td>5</td>\n",
       "      <td>9500.0</td>\n",
       "      <td>3</td>\n",
       "      <td>3</td>\n",
       "      <td>AT</td>\n",
       "      <td>1.0</td>\n",
       "      <td>2.0</td>\n",
       "      <td>5.252273</td>\n",
       "      <td>2</td>\n",
       "    </tr>\n",
       "    <tr>\n",
       "      <th>34683</th>\n",
       "      <td>седан</td>\n",
       "      <td>BMW</td>\n",
       "      <td>серый</td>\n",
       "      <td>170.0</td>\n",
       "      <td>бензин</td>\n",
       "      <td>360000</td>\n",
       "      <td>3.258097</td>\n",
       "      <td>5ER</td>\n",
       "      <td>4.0</td>\n",
       "      <td>3.178054</td>\n",
       "      <td>...</td>\n",
       "      <td>0</td>\n",
       "      <td>5</td>\n",
       "      <td>7650.0</td>\n",
       "      <td>24</td>\n",
       "      <td>35</td>\n",
       "      <td>AT</td>\n",
       "      <td>-1.0</td>\n",
       "      <td>2.5</td>\n",
       "      <td>5.141664</td>\n",
       "      <td>2</td>\n",
       "    </tr>\n",
       "    <tr>\n",
       "      <th>34684</th>\n",
       "      <td>внедорожник 5 дв.</td>\n",
       "      <td>BMW</td>\n",
       "      <td>коричневый</td>\n",
       "      <td>184.0</td>\n",
       "      <td>дизель</td>\n",
       "      <td>90500</td>\n",
       "      <td>2.197225</td>\n",
       "      <td>X1</td>\n",
       "      <td>5.0</td>\n",
       "      <td>2.079442</td>\n",
       "      <td>...</td>\n",
       "      <td>0</td>\n",
       "      <td>17</td>\n",
       "      <td>9200.0</td>\n",
       "      <td>8</td>\n",
       "      <td>14</td>\n",
       "      <td>AT</td>\n",
       "      <td>1.0</td>\n",
       "      <td>2.0</td>\n",
       "      <td>5.220356</td>\n",
       "      <td>1</td>\n",
       "    </tr>\n",
       "    <tr>\n",
       "      <th>34685</th>\n",
       "      <td>внедорожник 5 дв.</td>\n",
       "      <td>BMW</td>\n",
       "      <td>чёрный</td>\n",
       "      <td>235.0</td>\n",
       "      <td>дизель</td>\n",
       "      <td>240000</td>\n",
       "      <td>2.708050</td>\n",
       "      <td>X5</td>\n",
       "      <td>5.0</td>\n",
       "      <td>2.564949</td>\n",
       "      <td>...</td>\n",
       "      <td>0</td>\n",
       "      <td>17</td>\n",
       "      <td>17625.0</td>\n",
       "      <td>13</td>\n",
       "      <td>14</td>\n",
       "      <td>AT</td>\n",
       "      <td>1.0</td>\n",
       "      <td>3.0</td>\n",
       "      <td>5.463832</td>\n",
       "      <td>2</td>\n",
       "    </tr>\n",
       "  </tbody>\n",
       "</table>\n",
       "<p>34686 rows × 48 columns</p>\n",
       "</div>"
      ],
      "text/plain": [
       "                bodyType  brand       color  enginePower fuelType  mileage  \\\n",
       "0                лифтбек  SKODA       синий        105.0   бензин    74000   \n",
       "1                лифтбек  SKODA      чёрный        110.0   бензин    60563   \n",
       "2                лифтбек  SKODA       серый        152.0   бензин    88000   \n",
       "3                лифтбек  SKODA  коричневый        110.0   бензин    95000   \n",
       "4                лифтбек  SKODA       белый        152.0   бензин    58536   \n",
       "...                  ...    ...         ...          ...      ...      ...   \n",
       "34681              седан    BMW  коричневый        136.0   бензин   115000   \n",
       "34682              седан    BMW      чёрный        190.0   дизель    98000   \n",
       "34683              седан    BMW       серый        170.0   бензин   360000   \n",
       "34684  внедорожник 5 дв.    BMW  коричневый        184.0   дизель    90500   \n",
       "34685  внедорожник 5 дв.    BMW      чёрный        235.0   дизель   240000   \n",
       "\n",
       "       modelDate model_name  numberOfDoors  productionDate  ...  \\\n",
       "0       2.079442    OCTAVIA            5.0        1.945910  ...   \n",
       "1       1.386294    OCTAVIA            5.0        1.386294  ...   \n",
       "2       2.079442     SUPERB            5.0        1.945910  ...   \n",
       "3       2.079442    OCTAVIA            5.0        1.945910  ...   \n",
       "4       2.564949    OCTAVIA            5.0        2.197225  ...   \n",
       "...          ...        ...            ...             ...  ...   \n",
       "34681   2.302585        3ER            4.0        1.945910  ...   \n",
       "34682   1.609438        5ER            4.0        1.098612  ...   \n",
       "34683   3.258097        5ER            4.0        3.178054  ...   \n",
       "34684   2.197225         X1            5.0        2.079442  ...   \n",
       "34685   2.708050         X5            5.0        2.564949  ...   \n",
       "\n",
       "      roof_with_panoramic_view bT_length    Nalog years_old age_intervals  \\\n",
       "0                            0         7   2625.0         7             7   \n",
       "1                            0         7   2750.0         4             7   \n",
       "2                            0         7   6840.0         7             7   \n",
       "3                            0         7   2750.0         7             7   \n",
       "4                            0         7   6840.0         9            14   \n",
       "...                        ...       ...      ...       ...           ...   \n",
       "34681                        0         5   4760.0         7             7   \n",
       "34682                        0         5   9500.0         3             3   \n",
       "34683                        0         5   7650.0        24            35   \n",
       "34684                        0        17   9200.0         8            14   \n",
       "34685                        0        17  17625.0        13            14   \n",
       "\n",
       "      name_AMT_CVT  name_4WD  vol_engine    HPower  DeltaDate  \n",
       "0              AMT      -1.0         1.2  4.663439          1  \n",
       "1               MT      -1.0         1.6  4.709530          0  \n",
       "2              AMT      -1.0         1.8  5.030438          1  \n",
       "3               AT      -1.0         1.6  4.709530          1  \n",
       "4               AT      -1.0         1.8  5.030438          4  \n",
       "...            ...       ...         ...       ...        ...  \n",
       "34681           AT      -1.0         1.6  4.919981          3  \n",
       "34682           AT       1.0         2.0  5.252273          2  \n",
       "34683           AT      -1.0         2.5  5.141664          2  \n",
       "34684           AT       1.0         2.0  5.220356          1  \n",
       "34685           AT       1.0         3.0  5.463832          2  \n",
       "\n",
       "[34686 rows x 48 columns]"
      ]
     },
     "execution_count": 181,
     "metadata": {},
     "output_type": "execute_result"
    }
   ],
   "source": [
    "df_test"
   ]
  },
  {
   "cell_type": "markdown",
   "metadata": {},
   "source": [
    "# Label Encoding"
   ]
  },
  {
   "cell_type": "code",
   "execution_count": 182,
   "metadata": {},
   "outputs": [],
   "source": [
    "df_test['sample'] = 0 # тест"
   ]
  },
  {
   "cell_type": "code",
   "execution_count": 183,
   "metadata": {
    "scrolled": false
   },
   "outputs": [
    {
     "name": "stderr",
     "output_type": "stream",
     "text": [
      "<ipython-input-183-5915a13b6c66>:1: SettingWithCopyWarning: \n",
      "A value is trying to be set on a copy of a slice from a DataFrame.\n",
      "Try using .loc[row_indexer,col_indexer] = value instead\n",
      "\n",
      "See the caveats in the documentation: https://pandas.pydata.org/pandas-docs/stable/user_guide/indexing.html#returning-a-view-versus-a-copy\n",
      "  df_train['sample'] = 1 # трейн\n"
     ]
    }
   ],
   "source": [
    "df_train['sample'] = 1 # трейн\n"
   ]
  },
  {
   "cell_type": "code",
   "execution_count": 184,
   "metadata": {},
   "outputs": [],
   "source": [
    "# columns_drop = ['engineDisplacement']\n",
    "# data = train.drop(columns_drop, axis=1)"
   ]
  },
  {
   "cell_type": "code",
   "execution_count": 185,
   "metadata": {},
   "outputs": [],
   "source": [
    "data = df_test.append(df_train, sort=False).reset_index(drop=True) "
   ]
  },
  {
   "cell_type": "code",
   "execution_count": 186,
   "metadata": {},
   "outputs": [
    {
     "data": {
      "text/plain": [
       "bodyType                    0\n",
       "brand                       0\n",
       "color                       0\n",
       "enginePower                 0\n",
       "fuelType                    0\n",
       "mileage                     0\n",
       "modelDate                   0\n",
       "model_name                  0\n",
       "numberOfDoors               0\n",
       "productionDate              0\n",
       "vehicleTransmission         0\n",
       "vendor                      0\n",
       "Владельцы                   0\n",
       "ПТС                         0\n",
       "Привод                      0\n",
       "Руль                        0\n",
       "leather                     0\n",
       "carter                      0\n",
       "ABS                         0\n",
       "airbags                     0\n",
       "immob                       0\n",
       "central_locking             0\n",
       "on_board_computer           0\n",
       "cruise_control              0\n",
       "climat_control              0\n",
       "multi_rudder                0\n",
       "power_steering              0\n",
       "light_and_rain_sensors      0\n",
       "сarbon_body_kits            0\n",
       "rear_diffuser_rkp           0\n",
       "door_closers                0\n",
       "rear_view_camera            0\n",
       "amg                         0\n",
       "bi_xenon_headlights         0\n",
       "from_salon                  0\n",
       "alloy_wheels                0\n",
       "parking_sensors             0\n",
       "dents                       0\n",
       "roof_with_panoramic_view    0\n",
       "bT_length                   0\n",
       "Nalog                       0\n",
       "years_old                   0\n",
       "age_intervals               0\n",
       "name_AMT_CVT                0\n",
       "name_4WD                    0\n",
       "vol_engine                  0\n",
       "HPower                      0\n",
       "DeltaDate                   0\n",
       "sample                      0\n",
       "dtype: int64"
      ]
     },
     "execution_count": 186,
     "metadata": {},
     "output_type": "execute_result"
    }
   ],
   "source": [
    "data.isna().sum()"
   ]
  },
  {
   "cell_type": "code",
   "execution_count": 200,
   "metadata": {},
   "outputs": [],
   "source": [
    "for column in ['bodyType', 'brand', 'color', 'fuelType', 'model_name', 'vendor', 'Владельцы', 'vehicleTransmission', 'Привод', 'age_intervals','name_AMT_CVT']:\n",
    "    data[column] = data[column].astype('category').cat.codes"
   ]
  },
  {
   "cell_type": "code",
   "execution_count": 201,
   "metadata": {
    "scrolled": true
   },
   "outputs": [
    {
     "data": {
      "text/html": [
       "<div>\n",
       "<style scoped>\n",
       "    .dataframe tbody tr th:only-of-type {\n",
       "        vertical-align: middle;\n",
       "    }\n",
       "\n",
       "    .dataframe tbody tr th {\n",
       "        vertical-align: top;\n",
       "    }\n",
       "\n",
       "    .dataframe thead th {\n",
       "        text-align: right;\n",
       "    }\n",
       "</style>\n",
       "<table border=\"1\" class=\"dataframe\">\n",
       "  <thead>\n",
       "    <tr style=\"text-align: right;\">\n",
       "      <th></th>\n",
       "      <th>bodyType</th>\n",
       "      <th>brand</th>\n",
       "      <th>color</th>\n",
       "      <th>enginePower</th>\n",
       "      <th>fuelType</th>\n",
       "      <th>mileage</th>\n",
       "      <th>modelDate</th>\n",
       "      <th>model_name</th>\n",
       "      <th>numberOfDoors</th>\n",
       "      <th>productionDate</th>\n",
       "      <th>...</th>\n",
       "      <th>bT_length</th>\n",
       "      <th>Nalog</th>\n",
       "      <th>years_old</th>\n",
       "      <th>age_intervals</th>\n",
       "      <th>name_AMT_CVT</th>\n",
       "      <th>name_4WD</th>\n",
       "      <th>vol_engine</th>\n",
       "      <th>HPower</th>\n",
       "      <th>DeltaDate</th>\n",
       "      <th>sample</th>\n",
       "    </tr>\n",
       "  </thead>\n",
       "  <tbody>\n",
       "    <tr>\n",
       "      <th>0</th>\n",
       "      <td>8</td>\n",
       "      <td>8</td>\n",
       "      <td>14</td>\n",
       "      <td>105.0</td>\n",
       "      <td>0</td>\n",
       "      <td>74000</td>\n",
       "      <td>2.079442</td>\n",
       "      <td>505</td>\n",
       "      <td>5.0</td>\n",
       "      <td>1.945910</td>\n",
       "      <td>...</td>\n",
       "      <td>7</td>\n",
       "      <td>2625.0</td>\n",
       "      <td>7</td>\n",
       "      <td>1</td>\n",
       "      <td>0</td>\n",
       "      <td>-1.0</td>\n",
       "      <td>1.2</td>\n",
       "      <td>4.663439</td>\n",
       "      <td>1</td>\n",
       "      <td>0</td>\n",
       "    </tr>\n",
       "    <tr>\n",
       "      <th>1</th>\n",
       "      <td>8</td>\n",
       "      <td>8</td>\n",
       "      <td>17</td>\n",
       "      <td>110.0</td>\n",
       "      <td>0</td>\n",
       "      <td>60563</td>\n",
       "      <td>1.386294</td>\n",
       "      <td>505</td>\n",
       "      <td>5.0</td>\n",
       "      <td>1.386294</td>\n",
       "      <td>...</td>\n",
       "      <td>7</td>\n",
       "      <td>2750.0</td>\n",
       "      <td>4</td>\n",
       "      <td>1</td>\n",
       "      <td>3</td>\n",
       "      <td>-1.0</td>\n",
       "      <td>1.6</td>\n",
       "      <td>4.709530</td>\n",
       "      <td>0</td>\n",
       "      <td>0</td>\n",
       "    </tr>\n",
       "    <tr>\n",
       "      <th>2</th>\n",
       "      <td>8</td>\n",
       "      <td>8</td>\n",
       "      <td>13</td>\n",
       "      <td>152.0</td>\n",
       "      <td>0</td>\n",
       "      <td>88000</td>\n",
       "      <td>2.079442</td>\n",
       "      <td>684</td>\n",
       "      <td>5.0</td>\n",
       "      <td>1.945910</td>\n",
       "      <td>...</td>\n",
       "      <td>7</td>\n",
       "      <td>6840.0</td>\n",
       "      <td>7</td>\n",
       "      <td>1</td>\n",
       "      <td>0</td>\n",
       "      <td>-1.0</td>\n",
       "      <td>1.8</td>\n",
       "      <td>5.030438</td>\n",
       "      <td>1</td>\n",
       "      <td>0</td>\n",
       "    </tr>\n",
       "    <tr>\n",
       "      <th>3</th>\n",
       "      <td>8</td>\n",
       "      <td>8</td>\n",
       "      <td>7</td>\n",
       "      <td>110.0</td>\n",
       "      <td>0</td>\n",
       "      <td>95000</td>\n",
       "      <td>2.079442</td>\n",
       "      <td>505</td>\n",
       "      <td>5.0</td>\n",
       "      <td>1.945910</td>\n",
       "      <td>...</td>\n",
       "      <td>7</td>\n",
       "      <td>2750.0</td>\n",
       "      <td>7</td>\n",
       "      <td>1</td>\n",
       "      <td>1</td>\n",
       "      <td>-1.0</td>\n",
       "      <td>1.6</td>\n",
       "      <td>4.709530</td>\n",
       "      <td>1</td>\n",
       "      <td>0</td>\n",
       "    </tr>\n",
       "    <tr>\n",
       "      <th>4</th>\n",
       "      <td>8</td>\n",
       "      <td>8</td>\n",
       "      <td>2</td>\n",
       "      <td>152.0</td>\n",
       "      <td>0</td>\n",
       "      <td>58536</td>\n",
       "      <td>2.564949</td>\n",
       "      <td>505</td>\n",
       "      <td>5.0</td>\n",
       "      <td>2.197225</td>\n",
       "      <td>...</td>\n",
       "      <td>7</td>\n",
       "      <td>6840.0</td>\n",
       "      <td>9</td>\n",
       "      <td>2</td>\n",
       "      <td>1</td>\n",
       "      <td>-1.0</td>\n",
       "      <td>1.8</td>\n",
       "      <td>5.030438</td>\n",
       "      <td>4</td>\n",
       "      <td>0</td>\n",
       "    </tr>\n",
       "  </tbody>\n",
       "</table>\n",
       "<p>5 rows × 49 columns</p>\n",
       "</div>"
      ],
      "text/plain": [
       "   bodyType  brand  color  enginePower  fuelType  mileage  modelDate  \\\n",
       "0         8      8     14        105.0         0    74000   2.079442   \n",
       "1         8      8     17        110.0         0    60563   1.386294   \n",
       "2         8      8     13        152.0         0    88000   2.079442   \n",
       "3         8      8      7        110.0         0    95000   2.079442   \n",
       "4         8      8      2        152.0         0    58536   2.564949   \n",
       "\n",
       "   model_name  numberOfDoors  productionDate  ...  bT_length   Nalog  \\\n",
       "0         505            5.0        1.945910  ...          7  2625.0   \n",
       "1         505            5.0        1.386294  ...          7  2750.0   \n",
       "2         684            5.0        1.945910  ...          7  6840.0   \n",
       "3         505            5.0        1.945910  ...          7  2750.0   \n",
       "4         505            5.0        2.197225  ...          7  6840.0   \n",
       "\n",
       "   years_old  age_intervals  name_AMT_CVT  name_4WD  vol_engine    HPower  \\\n",
       "0          7              1             0      -1.0         1.2  4.663439   \n",
       "1          4              1             3      -1.0         1.6  4.709530   \n",
       "2          7              1             0      -1.0         1.8  5.030438   \n",
       "3          7              1             1      -1.0         1.6  4.709530   \n",
       "4          9              2             1      -1.0         1.8  5.030438   \n",
       "\n",
       "   DeltaDate  sample  \n",
       "0          1       0  \n",
       "1          0       0  \n",
       "2          1       0  \n",
       "3          1       0  \n",
       "4          4       0  \n",
       "\n",
       "[5 rows x 49 columns]"
      ]
     },
     "execution_count": 201,
     "metadata": {},
     "output_type": "execute_result"
    }
   ],
   "source": [
    "bin_cols = ['ПТС', 'Руль']\n",
    "label_encoder = LabelEncoder()\n",
    "for column in bin_cols:\n",
    "    data[column] = label_encoder.fit_transform(data[column])\n",
    "data.head()"
   ]
  },
  {
   "cell_type": "code",
   "execution_count": 202,
   "metadata": {},
   "outputs": [
    {
     "name": "stdout",
     "output_type": "stream",
     "text": [
      "<class 'pandas.core.frame.DataFrame'>\n",
      "RangeIndex: 94827 entries, 0 to 94826\n",
      "Data columns (total 49 columns):\n",
      " #   Column                    Non-Null Count  Dtype  \n",
      "---  ------                    --------------  -----  \n",
      " 0   bodyType                  94827 non-null  int8   \n",
      " 1   brand                     94827 non-null  int8   \n",
      " 2   color                     94827 non-null  int8   \n",
      " 3   enginePower               94827 non-null  float64\n",
      " 4   fuelType                  94827 non-null  int8   \n",
      " 5   mileage                   94827 non-null  int64  \n",
      " 6   modelDate                 94827 non-null  float64\n",
      " 7   model_name                94827 non-null  int16  \n",
      " 8   numberOfDoors             94827 non-null  float64\n",
      " 9   productionDate            94827 non-null  float64\n",
      " 10  vehicleTransmission       94827 non-null  int8   \n",
      " 11  vendor                    94827 non-null  int8   \n",
      " 12  Владельцы                 94827 non-null  int8   \n",
      " 13  ПТС                       94827 non-null  int64  \n",
      " 14  Привод                    94827 non-null  int8   \n",
      " 15  Руль                      94827 non-null  int64  \n",
      " 16  leather                   94827 non-null  int64  \n",
      " 17  carter                    94827 non-null  int64  \n",
      " 18  ABS                       94827 non-null  int64  \n",
      " 19  airbags                   94827 non-null  int64  \n",
      " 20  immob                     94827 non-null  int64  \n",
      " 21  central_locking           94827 non-null  int64  \n",
      " 22  on_board_computer         94827 non-null  int64  \n",
      " 23  cruise_control            94827 non-null  int64  \n",
      " 24  climat_control            94827 non-null  int64  \n",
      " 25  multi_rudder              94827 non-null  int64  \n",
      " 26  power_steering            94827 non-null  int64  \n",
      " 27  light_and_rain_sensors    94827 non-null  int64  \n",
      " 28  сarbon_body_kits          94827 non-null  int64  \n",
      " 29  rear_diffuser_rkp         94827 non-null  int64  \n",
      " 30  door_closers              94827 non-null  int64  \n",
      " 31  rear_view_camera          94827 non-null  int64  \n",
      " 32  amg                       94827 non-null  int64  \n",
      " 33  bi_xenon_headlights       94827 non-null  int64  \n",
      " 34  from_salon                94827 non-null  int64  \n",
      " 35  alloy_wheels              94827 non-null  int64  \n",
      " 36  parking_sensors           94827 non-null  int64  \n",
      " 37  dents                     94827 non-null  int64  \n",
      " 38  roof_with_panoramic_view  94827 non-null  int64  \n",
      " 39  bT_length                 94827 non-null  int64  \n",
      " 40  Nalog                     94827 non-null  float64\n",
      " 41  years_old                 94827 non-null  int64  \n",
      " 42  age_intervals             94827 non-null  int8   \n",
      " 43  name_AMT_CVT              94827 non-null  int8   \n",
      " 44  name_4WD                  94827 non-null  float64\n",
      " 45  vol_engine                94827 non-null  float64\n",
      " 46  HPower                    94827 non-null  float64\n",
      " 47  DeltaDate                 94827 non-null  int64  \n",
      " 48  sample                    94827 non-null  int64  \n",
      "dtypes: float64(8), int16(1), int64(30), int8(10)\n",
      "memory usage: 28.6 MB\n"
     ]
    }
   ],
   "source": [
    "data.info()"
   ]
  },
  {
   "cell_type": "code",
   "execution_count": null,
   "metadata": {},
   "outputs": [],
   "source": [
    "# columns_drop = ['engineDisplacement']\n",
    "# data = train.drop(columns_drop, axis=1)"
   ]
  },
  {
   "cell_type": "code",
   "execution_count": null,
   "metadata": {},
   "outputs": [],
   "source": [
    "# data['engineDisplacement'] = data['engineDisplacement'].astype('float')"
   ]
  },
  {
   "cell_type": "code",
   "execution_count": 190,
   "metadata": {},
   "outputs": [],
   "source": [
    "data.to_csv('data2201.csv')"
   ]
  },
  {
   "cell_type": "code",
   "execution_count": 203,
   "metadata": {},
   "outputs": [],
   "source": [
    "X = data.query('sample == 1').drop(['sample'], axis=1)\n",
    "X_sub = data.query('sample == 0').drop(['sample'], axis=1)"
   ]
  },
  {
   "cell_type": "code",
   "execution_count": 204,
   "metadata": {},
   "outputs": [
    {
     "name": "stdout",
     "output_type": "stream",
     "text": [
      "<class 'pandas.core.frame.DataFrame'>\n",
      "Int64Index: 60141 entries, 34686 to 94826\n",
      "Data columns (total 48 columns):\n",
      " #   Column                    Non-Null Count  Dtype  \n",
      "---  ------                    --------------  -----  \n",
      " 0   bodyType                  60141 non-null  int8   \n",
      " 1   brand                     60141 non-null  int8   \n",
      " 2   color                     60141 non-null  int8   \n",
      " 3   enginePower               60141 non-null  float64\n",
      " 4   fuelType                  60141 non-null  int8   \n",
      " 5   mileage                   60141 non-null  int64  \n",
      " 6   modelDate                 60141 non-null  float64\n",
      " 7   model_name                60141 non-null  int16  \n",
      " 8   numberOfDoors             60141 non-null  float64\n",
      " 9   productionDate            60141 non-null  float64\n",
      " 10  vehicleTransmission       60141 non-null  int8   \n",
      " 11  vendor                    60141 non-null  int8   \n",
      " 12  Владельцы                 60141 non-null  int8   \n",
      " 13  ПТС                       60141 non-null  int64  \n",
      " 14  Привод                    60141 non-null  int8   \n",
      " 15  Руль                      60141 non-null  int64  \n",
      " 16  leather                   60141 non-null  int64  \n",
      " 17  carter                    60141 non-null  int64  \n",
      " 18  ABS                       60141 non-null  int64  \n",
      " 19  airbags                   60141 non-null  int64  \n",
      " 20  immob                     60141 non-null  int64  \n",
      " 21  central_locking           60141 non-null  int64  \n",
      " 22  on_board_computer         60141 non-null  int64  \n",
      " 23  cruise_control            60141 non-null  int64  \n",
      " 24  climat_control            60141 non-null  int64  \n",
      " 25  multi_rudder              60141 non-null  int64  \n",
      " 26  power_steering            60141 non-null  int64  \n",
      " 27  light_and_rain_sensors    60141 non-null  int64  \n",
      " 28  сarbon_body_kits          60141 non-null  int64  \n",
      " 29  rear_diffuser_rkp         60141 non-null  int64  \n",
      " 30  door_closers              60141 non-null  int64  \n",
      " 31  rear_view_camera          60141 non-null  int64  \n",
      " 32  amg                       60141 non-null  int64  \n",
      " 33  bi_xenon_headlights       60141 non-null  int64  \n",
      " 34  from_salon                60141 non-null  int64  \n",
      " 35  alloy_wheels              60141 non-null  int64  \n",
      " 36  parking_sensors           60141 non-null  int64  \n",
      " 37  dents                     60141 non-null  int64  \n",
      " 38  roof_with_panoramic_view  60141 non-null  int64  \n",
      " 39  bT_length                 60141 non-null  int64  \n",
      " 40  Nalog                     60141 non-null  float64\n",
      " 41  years_old                 60141 non-null  int64  \n",
      " 42  age_intervals             60141 non-null  int8   \n",
      " 43  name_AMT_CVT              60141 non-null  int8   \n",
      " 44  name_4WD                  60141 non-null  float64\n",
      " 45  vol_engine                60141 non-null  float64\n",
      " 46  HPower                    60141 non-null  float64\n",
      " 47  DeltaDate                 60141 non-null  int64  \n",
      "dtypes: float64(8), int16(1), int64(29), int8(10)\n",
      "memory usage: 18.1 MB\n"
     ]
    }
   ],
   "source": [
    "X.info()"
   ]
  },
  {
   "cell_type": "code",
   "execution_count": 205,
   "metadata": {},
   "outputs": [
    {
     "name": "stdout",
     "output_type": "stream",
     "text": [
      "<class 'pandas.core.frame.DataFrame'>\n",
      "Int64Index: 34686 entries, 0 to 34685\n",
      "Data columns (total 48 columns):\n",
      " #   Column                    Non-Null Count  Dtype  \n",
      "---  ------                    --------------  -----  \n",
      " 0   bodyType                  34686 non-null  int8   \n",
      " 1   brand                     34686 non-null  int8   \n",
      " 2   color                     34686 non-null  int8   \n",
      " 3   enginePower               34686 non-null  float64\n",
      " 4   fuelType                  34686 non-null  int8   \n",
      " 5   mileage                   34686 non-null  int64  \n",
      " 6   modelDate                 34686 non-null  float64\n",
      " 7   model_name                34686 non-null  int16  \n",
      " 8   numberOfDoors             34686 non-null  float64\n",
      " 9   productionDate            34686 non-null  float64\n",
      " 10  vehicleTransmission       34686 non-null  int8   \n",
      " 11  vendor                    34686 non-null  int8   \n",
      " 12  Владельцы                 34686 non-null  int8   \n",
      " 13  ПТС                       34686 non-null  int64  \n",
      " 14  Привод                    34686 non-null  int8   \n",
      " 15  Руль                      34686 non-null  int64  \n",
      " 16  leather                   34686 non-null  int64  \n",
      " 17  carter                    34686 non-null  int64  \n",
      " 18  ABS                       34686 non-null  int64  \n",
      " 19  airbags                   34686 non-null  int64  \n",
      " 20  immob                     34686 non-null  int64  \n",
      " 21  central_locking           34686 non-null  int64  \n",
      " 22  on_board_computer         34686 non-null  int64  \n",
      " 23  cruise_control            34686 non-null  int64  \n",
      " 24  climat_control            34686 non-null  int64  \n",
      " 25  multi_rudder              34686 non-null  int64  \n",
      " 26  power_steering            34686 non-null  int64  \n",
      " 27  light_and_rain_sensors    34686 non-null  int64  \n",
      " 28  сarbon_body_kits          34686 non-null  int64  \n",
      " 29  rear_diffuser_rkp         34686 non-null  int64  \n",
      " 30  door_closers              34686 non-null  int64  \n",
      " 31  rear_view_camera          34686 non-null  int64  \n",
      " 32  amg                       34686 non-null  int64  \n",
      " 33  bi_xenon_headlights       34686 non-null  int64  \n",
      " 34  from_salon                34686 non-null  int64  \n",
      " 35  alloy_wheels              34686 non-null  int64  \n",
      " 36  parking_sensors           34686 non-null  int64  \n",
      " 37  dents                     34686 non-null  int64  \n",
      " 38  roof_with_panoramic_view  34686 non-null  int64  \n",
      " 39  bT_length                 34686 non-null  int64  \n",
      " 40  Nalog                     34686 non-null  float64\n",
      " 41  years_old                 34686 non-null  int64  \n",
      " 42  age_intervals             34686 non-null  int8   \n",
      " 43  name_AMT_CVT              34686 non-null  int8   \n",
      " 44  name_4WD                  34686 non-null  float64\n",
      " 45  vol_engine                34686 non-null  float64\n",
      " 46  HPower                    34686 non-null  float64\n",
      " 47  DeltaDate                 34686 non-null  int64  \n",
      "dtypes: float64(8), int16(1), int64(29), int8(10)\n",
      "memory usage: 10.5 MB\n"
     ]
    }
   ],
   "source": [
    "X_sub.info()"
   ]
  },
  {
   "cell_type": "markdown",
   "metadata": {},
   "source": [
    "**Function to determine value of mape**"
   ]
  },
  {
   "cell_type": "code",
   "execution_count": 206,
   "metadata": {},
   "outputs": [],
   "source": [
    "def mape(y_true, y_pred):\n",
    "    return np.mean(np.abs((y_pred-y_true)/y_true))"
   ]
  },
  {
   "cell_type": "markdown",
   "metadata": {},
   "source": [
    "# Train test split"
   ]
  },
  {
   "cell_type": "code",
   "execution_count": 207,
   "metadata": {},
   "outputs": [],
   "source": [
    "X_train, X_test, y_train, y_test = train_test_split(X, y, test_size=VAL_SIZE, shuffle=True, random_state=RANDOM_SEED)"
   ]
  },
  {
   "cell_type": "code",
   "execution_count": 208,
   "metadata": {},
   "outputs": [
    {
     "data": {
      "text/plain": [
       "17306    12.100712\n",
       "57040    12.923912\n",
       "44103    13.457406\n",
       "56771    12.921470\n",
       "32103    16.837729\n",
       "           ...    \n",
       "54344    13.905351\n",
       "38159    14.428532\n",
       "860      14.547878\n",
       "15795    14.206877\n",
       "56423    14.677556\n",
       "Name: price, Length: 48112, dtype: float64"
      ]
     },
     "execution_count": 208,
     "metadata": {},
     "output_type": "execute_result"
    }
   ],
   "source": [
    "np.log(y_train)"
   ]
  },
  {
   "cell_type": "code",
   "execution_count": null,
   "metadata": {},
   "outputs": [],
   "source": []
  },
  {
   "cell_type": "markdown",
   "metadata": {},
   "source": [
    "# XGBOOST"
   ]
  },
  {
   "cell_type": "code",
   "execution_count": 209,
   "metadata": {},
   "outputs": [],
   "source": [
    "import xgboost as xgb"
   ]
  },
  {
   "cell_type": "code",
   "execution_count": 210,
   "metadata": {},
   "outputs": [],
   "source": [
    "xg_reg = xgb.XGBRegressor(objective='reg:squarederror', colsample_bytree=0.5,\n",
    "                          learning_rate= 0.01 ,max_depth=24, alpha=1,\n",
    "                          n_estimators=5000,tree_method='auto')\n"
   ]
  },
  {
   "cell_type": "code",
   "execution_count": 211,
   "metadata": {},
   "outputs": [
    {
     "data": {
      "text/plain": [
       "XGBRegressor(alpha=1, base_score=0.5, booster='gbtree', colsample_bylevel=1,\n",
       "             colsample_bynode=1, colsample_bytree=0.5, gamma=0, gpu_id=-1,\n",
       "             importance_type='gain', interaction_constraints='',\n",
       "             learning_rate=0.01, max_delta_step=0, max_depth=24,\n",
       "             min_child_weight=1, missing=nan, monotone_constraints='()',\n",
       "             n_estimators=5000, n_jobs=24, num_parallel_tree=1, random_state=0,\n",
       "             reg_alpha=1, reg_lambda=1, scale_pos_weight=1, subsample=1,\n",
       "             tree_method='auto', validate_parameters=1, verbosity=None)"
      ]
     },
     "execution_count": 211,
     "metadata": {},
     "output_type": "execute_result"
    }
   ],
   "source": [
    "xg_reg.fit(X_train, np.log(y_train))"
   ]
  },
  {
   "cell_type": "code",
   "execution_count": 212,
   "metadata": {},
   "outputs": [],
   "source": [
    "predict_test = np.exp(xg_reg.predict(X_test)) \n",
    "predict_submission = np.exp(xg_reg.predict(X_sub))\n"
   ]
  },
  {
   "cell_type": "code",
   "execution_count": 213,
   "metadata": {
    "scrolled": false
   },
   "outputs": [
    {
     "name": "stdout",
     "output_type": "stream",
     "text": [
      "Точность модели по метрике MAPE: 10.63%\n"
     ]
    }
   ],
   "source": [
    "print(f\"Точность модели по метрике MAPE: {(mape(y_test, predict_test))*100:0.2f}%\")\n",
    "sample_submission['price'] = predict_submission\n",
    "sample_submission.to_csv('submission_xg22.csv', index=False)\n"
   ]
  },
  {
   "cell_type": "code",
   "execution_count": null,
   "metadata": {},
   "outputs": [],
   "source": [
    "test.info()"
   ]
  },
  {
   "cell_type": "markdown",
   "metadata": {},
   "source": [
    "Результат XGBoost = 8.04237"
   ]
  },
  {
   "cell_type": "markdown",
   "metadata": {},
   "source": [
    "# GradientBoosting"
   ]
  },
  {
   "cell_type": "code",
   "execution_count": null,
   "metadata": {},
   "outputs": [],
   "source": [
    "gb = GradientBoostingRegressor(min_samples_split=2, learning_rate=0.01, max_depth=24, n_estimators=5000)\n",
    "gb.fit(X_train, np.log(y_train))"
   ]
  },
  {
   "cell_type": "code",
   "execution_count": null,
   "metadata": {},
   "outputs": [],
   "source": [
    "predict_test = np.exp(gb.predict(X_test))\n",
    "predict_submission = np.exp(gb.predict(X_sub))"
   ]
  },
  {
   "cell_type": "code",
   "execution_count": null,
   "metadata": {},
   "outputs": [],
   "source": [
    "print(f\"Точность модели по метрике MAPE: {(mape(y_test, predict_test))*100:0.2f}%\")"
   ]
  },
  {
   "cell_type": "code",
   "execution_count": null,
   "metadata": {},
   "outputs": [],
   "source": [
    "sample_submission['price'] = predict_submission\n",
    "sample_submission.to_csv('submission_2201gb.csv', index=False)\n"
   ]
  },
  {
   "cell_type": "code",
   "execution_count": null,
   "metadata": {},
   "outputs": [],
   "source": [
    "etr = ExtraTreesRegressor(n_estimators=500, random_state=42)\n",
    "etr.fit(X_train, np.log(y_train))\n",
    "predict_test = np.exp(etr.predict(X_test))\n",
    "predict_submission = np.exp(etr.predict(X_sub))\n",
    "print(f\"Точность модели по метрике MAPE: {(mape(y_test, predict_test))*100:0.2f}%\")"
   ]
  },
  {
   "cell_type": "code",
   "execution_count": null,
   "metadata": {},
   "outputs": [],
   "source": [
    "def prepare_stop_words():\n",
    "    stop_slovo_sep = \", . ' : ; ! ? № % * ( ) [ ] { | } # $ ^ & - + < = > ` ~ 1 2 3 4 5 6 7 8 9 0 | @ · \\' - `\"\n",
    "    stop_slovo_sep += \"· • — ❗️ ✪ \\\\ / 😁 😊 😉 ∙ ✔ ► ₽ ″ « » … ✅ ☑️ 🤦 ● 🔰 ° 📌 📢 ☎ ▼ ➥ ☛ 。 🔝 ⬇️ ▶\"\n",
    "    stop_slovo_sep = stop_slovo_sep.split(\" \")\n",
    " \n",
    "    stop_slovo = \"и в во не что он на я с со как а то все она так его но да ты к у же вы за бы по только ее мне было вот от\"\n",
    "    stop_slovo += \"меня еще нет о из ему теперь когда даже ну вдруг ли если уже или ни быть был него до вас нибудь опять уж\"\n",
    "    stop_slovo += \"вам ведь там потом себя ничего ей может они тут где есть надо ней для мы тебя их чем была сам чтоб без\"\n",
    "    stop_slovo += \"будто чего раз тоже себе под будет ж тогда кто этот того потому этого какой совсем ним здесь этом один\"\n",
    "    stop_slovo += \"почти мой тем чтобы нее сейчас были куда зачем всех никогда можно при наконец два об другой хоть после\"\n",
    "    stop_slovo += \"над больше тот через эти нас про всего них какая много разве три эту моя впрочем хорошо свою этой перед\"\n",
    "    stop_slovo += \"иногда лучше чуть том нельзя такой им более всегда конечно всю между\"\n",
    "    stop_slovo += \"в из за с к а так же как до руб для по что ваш вас вы из-за то тоже же тд км г год года у б бы что а a a а\"\n",
    "    stop_slovo += \"л м со number url я мы р рублей тр но т д р r й стр тыс p s с v ам i бы t https www ru а cme ти uy m  b гг\"\n",
    "    stop_slovo = list(set(stop_slovo.split(\" \")))\n",
    "    if \"\" in stop_slovo:\n",
    "        stop_slovo.remove(\"\") \n",
    "        \n",
    "    return stop_slovo, stop_slovo_sep\n",
    "    \n",
    "    \n",
    "def text_check(x, stop_slovo, stop_slovo_sep):\n",
    "    x = x.lower().replace(\"_\",\" \").replace(\" - \",\" \").replace('\"', ' ').replace(\" – \",\" \").replace(\"“\",\" \").replace(\"”\",\" \")\n",
    "    x = x.replace(\" не \",\" не_\").replace(\" без \",\" без_\").expandtabs(1).replace(\"\\n\",\" \")\n",
    "    \n",
    "    for i in stop_slovo_sep:\n",
    "        x = x.replace(i, \" \") \n",
    "        \n",
    "    for i in stop_slovo:\n",
    "        x = x.replace(\" \" + i + \" \",\" \") \n",
    "    \n",
    "    x = x.replace(\"trade in\",\"trade_in\")\n",
    "    x = ' '.join(x.split())\n",
    "    return x\n",
    "\n",
    "def text_prepare(data, col_name = 'description'):\n",
    "    data[col_name].fillna(\"\", inplace = True)\n",
    "    data[col_name]= data[col_name].astype(str)\n",
    "    stop_slovo, stop_slovo_sep = prepare_stop_words()\n",
    "    data[col_name] = data[col_name].apply(lambda x: text_check(x, stop_slovo, stop_slovo_sep))\n",
    "    \n",
    "\n"
   ]
  },
  {
   "cell_type": "code",
   "execution_count": null,
   "metadata": {},
   "outputs": [],
   "source": [
    "text_prepare(train, col_name = 'description')"
   ]
  },
  {
   "cell_type": "code",
   "execution_count": null,
   "metadata": {},
   "outputs": [],
   "source": [
    "len(texts)"
   ]
  },
  {
   "cell_type": "code",
   "execution_count": null,
   "metadata": {},
   "outputs": [],
   "source": [
    "batch_size = 1000\n",
    "texts = train['description']\n",
    "text_batch = [texts[i: i + batch_size] for i in range(0, len(texts), batch_size)]"
   ]
  },
  {
   "cell_type": "code",
   "execution_count": null,
   "metadata": {},
   "outputs": [],
   "source": [
    "def lemmatize(text):\n",
    "    m = Mystem()\n",
    "    merged_text = \"|\".join(text)\n",
    "\n",
    "    doc = []\n",
    "    res = []\n",
    "\n",
    "    for t in m.lemmatize(merged_text):\n",
    "        if t != '|':\n",
    "            doc.append(t)\n",
    "        else:\n",
    "            res.append(doc)\n",
    "            doc = []\n",
    "\n",
    "    return res"
   ]
  },
  {
   "cell_type": "code",
   "execution_count": null,
   "metadata": {},
   "outputs": [],
   "source": [
    "def text_lemmatize(data, col_name = 'description'):\n",
    "    mystem = Mystem()\n",
    "    data[col_name] = data[col_name].apply(lambda x: \"\".join(mystem.lemmatize(x)))\n",
    "    \n"
   ]
  },
  {
   "cell_type": "code",
   "execution_count": null,
   "metadata": {},
   "outputs": [],
   "source": [
    "processed_texts text_lemmatize(data, col_name = 'description')"
   ]
  },
  {
   "cell_type": "code",
   "execution_count": null,
   "metadata": {},
   "outputs": [],
   "source": [
    "processed_texts = Parallel(n_jobs=-1)(delayed(text_lemmatize)(train, col_name = 'description'))"
   ]
  },
  {
   "cell_type": "code",
   "execution_count": null,
   "metadata": {},
   "outputs": [],
   "source": [
    "from pymystem3 import Mystem\n",
    "from tqdm import tqdm\n",
    "\n",
    "from joblib import Parallel, delayed\n",
    "batch_size = 1000\n",
    "texts = train['description']\n",
    "text_batch = [texts[i: i + batch_size] for i in range(0, len(texts), batch_size)]\n"
   ]
  },
  {
   "cell_type": "code",
   "execution_count": null,
   "metadata": {},
   "outputs": [],
   "source": [
    "def lemmatize(text):\n",
    "    m = Mystem()\n",
    "    merged_text = \"|\".join(text)\n",
    "\n",
    "    doc = []\n",
    "    res = []\n",
    "\n",
    "    for t in m.lemmatize(merged_text):\n",
    "        if t != '|':\n",
    "            doc.append(t)\n",
    "        else:\n",
    "            res.append(doc)\n",
    "            doc = []\n",
    "\n",
    "    return res"
   ]
  },
  {
   "cell_type": "code",
   "execution_count": null,
   "metadata": {},
   "outputs": [],
   "source": [
    "processed_texts = Parallel(n_jobs=-1)(delayed(lemmatize)(t) for t in tqdm(text_batch))"
   ]
  },
  {
   "cell_type": "code",
   "execution_count": null,
   "metadata": {},
   "outputs": [],
   "source": [
    "\n",
    "def text_lemmatize(data, col_name = 'description'):\n",
    "    mystem = Mystem()\n",
    "    data[col_name] = data[col_name].apply(lambda x: \"\".join(mystem.lemmatize(x)))\n",
    "text_lemmatize(data, col_name = 'description')    "
   ]
  },
  {
   "cell_type": "code",
   "execution_count": null,
   "metadata": {},
   "outputs": [],
   "source": []
  },
  {
   "cell_type": "code",
   "execution_count": null,
   "metadata": {},
   "outputs": [],
   "source": []
  },
  {
   "cell_type": "code",
   "execution_count": null,
   "metadata": {},
   "outputs": [],
   "source": [
    "from pymystem3 import Mystem\n",
    "from tqdm import tqdm\n",
    "\n",
    "from joblib import Parallel, delayed\n",
    "\n",
    "batch_size = 100\n",
    "texts = [\"Мама мыла раму {}\".format(i) for i in range(100)]\n",
    "\n",
    "text_batch = [texts[i: i + batch_size] for i in range(0, len(texts), batch_size)]\n",
    "\n",
    "def lemmatize(text):\n",
    "    m = Mystem()\n",
    "    merged_text = \"|\".join(text)\n",
    "\n",
    "    doc = []\n",
    "    res = []\n",
    "\n",
    "    for t in m.lemmatize(merged_text):\n",
    "        if t != '|':\n",
    "            doc.append(t)\n",
    "        else:\n",
    "            res.append(doc)\n",
    "            doc = []\n",
    "\n",
    "    return res\n",
    "\n",
    "# Вот здесь тоже немного магии :)\n",
    "processed_texts = Parallel(n_jobs=-1)(delayed(lemmatize)(t) for t in tqdm(text_batch))"
   ]
  },
  {
   "cell_type": "markdown",
   "metadata": {},
   "source": [
    "Result GradientBoostingRegressor = 10.13381"
   ]
  },
  {
   "cell_type": "markdown",
   "metadata": {},
   "source": [
    "# StackingRegressor"
   ]
  },
  {
   "cell_type": "code",
   "execution_count": 214,
   "metadata": {},
   "outputs": [],
   "source": [
    "from sklearn.ensemble import RandomForestRegressor\n",
    "from sklearn.ensemble import StackingRegressor\n",
    "import xgboost as xgb"
   ]
  },
  {
   "cell_type": "code",
   "execution_count": 215,
   "metadata": {},
   "outputs": [],
   "source": [
    "estimators = [\n",
    "    ('xg_reg', xgb.XGBRegressor(objective='reg:squarederror', colsample_bytree=0.5,\n",
    "                          learning_rate= 0.01 ,max_depth=22, alpha=1,\n",
    "                          n_estimators=5000,tree_method='auto')),\n",
    "    ('gb', GradientBoostingRegressor(min_samples_split=2, learning_rate=0.01, max_depth=15,\n",
    "                                     n_estimators=5000))\n",
    "]"
   ]
  },
  {
   "cell_type": "code",
   "execution_count": 216,
   "metadata": {},
   "outputs": [
    {
     "ename": "KeyboardInterrupt",
     "evalue": "",
     "output_type": "error",
     "traceback": [
      "\u001b[1;31m---------------------------------------------------------------------------\u001b[0m",
      "\u001b[1;31mKeyboardInterrupt\u001b[0m                         Traceback (most recent call last)",
      "\u001b[1;32m<ipython-input-216-8133a0b12403>\u001b[0m in \u001b[0;36m<module>\u001b[1;34m\u001b[0m\n\u001b[0;32m      1\u001b[0m \u001b[0mreg5\u001b[0m \u001b[1;33m=\u001b[0m \u001b[0mStackingRegressor\u001b[0m\u001b[1;33m(\u001b[0m\u001b[0mestimators\u001b[0m\u001b[1;33m=\u001b[0m\u001b[0mestimators\u001b[0m\u001b[1;33m)\u001b[0m\u001b[1;33m\u001b[0m\u001b[1;33m\u001b[0m\u001b[0m\n\u001b[1;32m----> 2\u001b[1;33m \u001b[0mreg5\u001b[0m\u001b[1;33m.\u001b[0m\u001b[0mfit\u001b[0m\u001b[1;33m(\u001b[0m\u001b[0mX_train\u001b[0m\u001b[1;33m,\u001b[0m \u001b[0mnp\u001b[0m\u001b[1;33m.\u001b[0m\u001b[0mlog\u001b[0m\u001b[1;33m(\u001b[0m\u001b[0my_train\u001b[0m\u001b[1;33m)\u001b[0m\u001b[1;33m)\u001b[0m\u001b[1;33m\u001b[0m\u001b[1;33m\u001b[0m\u001b[0m\n\u001b[0m",
      "\u001b[1;32mC:\\ProgramData\\Anaconda3\\lib\\site-packages\\sklearn\\ensemble\\_stacking.py\u001b[0m in \u001b[0;36mfit\u001b[1;34m(self, X, y, sample_weight)\u001b[0m\n\u001b[0;32m    678\u001b[0m         \"\"\"\n\u001b[0;32m    679\u001b[0m         \u001b[0my\u001b[0m \u001b[1;33m=\u001b[0m \u001b[0mcolumn_or_1d\u001b[0m\u001b[1;33m(\u001b[0m\u001b[0my\u001b[0m\u001b[1;33m,\u001b[0m \u001b[0mwarn\u001b[0m\u001b[1;33m=\u001b[0m\u001b[1;32mTrue\u001b[0m\u001b[1;33m)\u001b[0m\u001b[1;33m\u001b[0m\u001b[1;33m\u001b[0m\u001b[0m\n\u001b[1;32m--> 680\u001b[1;33m         \u001b[1;32mreturn\u001b[0m \u001b[0msuper\u001b[0m\u001b[1;33m(\u001b[0m\u001b[1;33m)\u001b[0m\u001b[1;33m.\u001b[0m\u001b[0mfit\u001b[0m\u001b[1;33m(\u001b[0m\u001b[0mX\u001b[0m\u001b[1;33m,\u001b[0m \u001b[0my\u001b[0m\u001b[1;33m,\u001b[0m \u001b[0msample_weight\u001b[0m\u001b[1;33m)\u001b[0m\u001b[1;33m\u001b[0m\u001b[1;33m\u001b[0m\u001b[0m\n\u001b[0m\u001b[0;32m    681\u001b[0m \u001b[1;33m\u001b[0m\u001b[0m\n\u001b[0;32m    682\u001b[0m     \u001b[1;32mdef\u001b[0m \u001b[0mtransform\u001b[0m\u001b[1;33m(\u001b[0m\u001b[0mself\u001b[0m\u001b[1;33m,\u001b[0m \u001b[0mX\u001b[0m\u001b[1;33m)\u001b[0m\u001b[1;33m:\u001b[0m\u001b[1;33m\u001b[0m\u001b[1;33m\u001b[0m\u001b[0m\n",
      "\u001b[1;32mC:\\ProgramData\\Anaconda3\\lib\\site-packages\\sklearn\\ensemble\\_stacking.py\u001b[0m in \u001b[0;36mfit\u001b[1;34m(self, X, y, sample_weight)\u001b[0m\n\u001b[0;32m    144\u001b[0m         \u001b[1;31m# base estimators will be used in transform, predict, and\u001b[0m\u001b[1;33m\u001b[0m\u001b[1;33m\u001b[0m\u001b[1;33m\u001b[0m\u001b[0m\n\u001b[0;32m    145\u001b[0m         \u001b[1;31m# predict_proba. They are exposed publicly.\u001b[0m\u001b[1;33m\u001b[0m\u001b[1;33m\u001b[0m\u001b[1;33m\u001b[0m\u001b[0m\n\u001b[1;32m--> 146\u001b[1;33m         self.estimators_ = Parallel(n_jobs=self.n_jobs)(\n\u001b[0m\u001b[0;32m    147\u001b[0m             \u001b[0mdelayed\u001b[0m\u001b[1;33m(\u001b[0m\u001b[0m_fit_single_estimator\u001b[0m\u001b[1;33m)\u001b[0m\u001b[1;33m(\u001b[0m\u001b[0mclone\u001b[0m\u001b[1;33m(\u001b[0m\u001b[0mest\u001b[0m\u001b[1;33m)\u001b[0m\u001b[1;33m,\u001b[0m \u001b[0mX\u001b[0m\u001b[1;33m,\u001b[0m \u001b[0my\u001b[0m\u001b[1;33m,\u001b[0m \u001b[0msample_weight\u001b[0m\u001b[1;33m)\u001b[0m\u001b[1;33m\u001b[0m\u001b[1;33m\u001b[0m\u001b[0m\n\u001b[0;32m    148\u001b[0m             \u001b[1;32mfor\u001b[0m \u001b[0mest\u001b[0m \u001b[1;32min\u001b[0m \u001b[0mall_estimators\u001b[0m \u001b[1;32mif\u001b[0m \u001b[0mest\u001b[0m \u001b[1;33m!=\u001b[0m \u001b[1;34m'drop'\u001b[0m\u001b[1;33m\u001b[0m\u001b[1;33m\u001b[0m\u001b[0m\n",
      "\u001b[1;32mC:\\ProgramData\\Anaconda3\\lib\\site-packages\\joblib\\parallel.py\u001b[0m in \u001b[0;36m__call__\u001b[1;34m(self, iterable)\u001b[0m\n\u001b[0;32m   1049\u001b[0m                 \u001b[0mself\u001b[0m\u001b[1;33m.\u001b[0m\u001b[0m_iterating\u001b[0m \u001b[1;33m=\u001b[0m \u001b[0mself\u001b[0m\u001b[1;33m.\u001b[0m\u001b[0m_original_iterator\u001b[0m \u001b[1;32mis\u001b[0m \u001b[1;32mnot\u001b[0m \u001b[1;32mNone\u001b[0m\u001b[1;33m\u001b[0m\u001b[1;33m\u001b[0m\u001b[0m\n\u001b[0;32m   1050\u001b[0m \u001b[1;33m\u001b[0m\u001b[0m\n\u001b[1;32m-> 1051\u001b[1;33m             \u001b[1;32mwhile\u001b[0m \u001b[0mself\u001b[0m\u001b[1;33m.\u001b[0m\u001b[0mdispatch_one_batch\u001b[0m\u001b[1;33m(\u001b[0m\u001b[0miterator\u001b[0m\u001b[1;33m)\u001b[0m\u001b[1;33m:\u001b[0m\u001b[1;33m\u001b[0m\u001b[1;33m\u001b[0m\u001b[0m\n\u001b[0m\u001b[0;32m   1052\u001b[0m                 \u001b[1;32mpass\u001b[0m\u001b[1;33m\u001b[0m\u001b[1;33m\u001b[0m\u001b[0m\n\u001b[0;32m   1053\u001b[0m \u001b[1;33m\u001b[0m\u001b[0m\n",
      "\u001b[1;32mC:\\ProgramData\\Anaconda3\\lib\\site-packages\\joblib\\parallel.py\u001b[0m in \u001b[0;36mdispatch_one_batch\u001b[1;34m(self, iterator)\u001b[0m\n\u001b[0;32m    864\u001b[0m                 \u001b[1;32mreturn\u001b[0m \u001b[1;32mFalse\u001b[0m\u001b[1;33m\u001b[0m\u001b[1;33m\u001b[0m\u001b[0m\n\u001b[0;32m    865\u001b[0m             \u001b[1;32melse\u001b[0m\u001b[1;33m:\u001b[0m\u001b[1;33m\u001b[0m\u001b[1;33m\u001b[0m\u001b[0m\n\u001b[1;32m--> 866\u001b[1;33m                 \u001b[0mself\u001b[0m\u001b[1;33m.\u001b[0m\u001b[0m_dispatch\u001b[0m\u001b[1;33m(\u001b[0m\u001b[0mtasks\u001b[0m\u001b[1;33m)\u001b[0m\u001b[1;33m\u001b[0m\u001b[1;33m\u001b[0m\u001b[0m\n\u001b[0m\u001b[0;32m    867\u001b[0m                 \u001b[1;32mreturn\u001b[0m \u001b[1;32mTrue\u001b[0m\u001b[1;33m\u001b[0m\u001b[1;33m\u001b[0m\u001b[0m\n\u001b[0;32m    868\u001b[0m \u001b[1;33m\u001b[0m\u001b[0m\n",
      "\u001b[1;32mC:\\ProgramData\\Anaconda3\\lib\\site-packages\\joblib\\parallel.py\u001b[0m in \u001b[0;36m_dispatch\u001b[1;34m(self, batch)\u001b[0m\n\u001b[0;32m    782\u001b[0m         \u001b[1;32mwith\u001b[0m \u001b[0mself\u001b[0m\u001b[1;33m.\u001b[0m\u001b[0m_lock\u001b[0m\u001b[1;33m:\u001b[0m\u001b[1;33m\u001b[0m\u001b[1;33m\u001b[0m\u001b[0m\n\u001b[0;32m    783\u001b[0m             \u001b[0mjob_idx\u001b[0m \u001b[1;33m=\u001b[0m \u001b[0mlen\u001b[0m\u001b[1;33m(\u001b[0m\u001b[0mself\u001b[0m\u001b[1;33m.\u001b[0m\u001b[0m_jobs\u001b[0m\u001b[1;33m)\u001b[0m\u001b[1;33m\u001b[0m\u001b[1;33m\u001b[0m\u001b[0m\n\u001b[1;32m--> 784\u001b[1;33m             \u001b[0mjob\u001b[0m \u001b[1;33m=\u001b[0m \u001b[0mself\u001b[0m\u001b[1;33m.\u001b[0m\u001b[0m_backend\u001b[0m\u001b[1;33m.\u001b[0m\u001b[0mapply_async\u001b[0m\u001b[1;33m(\u001b[0m\u001b[0mbatch\u001b[0m\u001b[1;33m,\u001b[0m \u001b[0mcallback\u001b[0m\u001b[1;33m=\u001b[0m\u001b[0mcb\u001b[0m\u001b[1;33m)\u001b[0m\u001b[1;33m\u001b[0m\u001b[1;33m\u001b[0m\u001b[0m\n\u001b[0m\u001b[0;32m    785\u001b[0m             \u001b[1;31m# A job can complete so quickly than its callback is\u001b[0m\u001b[1;33m\u001b[0m\u001b[1;33m\u001b[0m\u001b[1;33m\u001b[0m\u001b[0m\n\u001b[0;32m    786\u001b[0m             \u001b[1;31m# called before we get here, causing self._jobs to\u001b[0m\u001b[1;33m\u001b[0m\u001b[1;33m\u001b[0m\u001b[1;33m\u001b[0m\u001b[0m\n",
      "\u001b[1;32mC:\\ProgramData\\Anaconda3\\lib\\site-packages\\joblib\\_parallel_backends.py\u001b[0m in \u001b[0;36mapply_async\u001b[1;34m(self, func, callback)\u001b[0m\n\u001b[0;32m    206\u001b[0m     \u001b[1;32mdef\u001b[0m \u001b[0mapply_async\u001b[0m\u001b[1;33m(\u001b[0m\u001b[0mself\u001b[0m\u001b[1;33m,\u001b[0m \u001b[0mfunc\u001b[0m\u001b[1;33m,\u001b[0m \u001b[0mcallback\u001b[0m\u001b[1;33m=\u001b[0m\u001b[1;32mNone\u001b[0m\u001b[1;33m)\u001b[0m\u001b[1;33m:\u001b[0m\u001b[1;33m\u001b[0m\u001b[1;33m\u001b[0m\u001b[0m\n\u001b[0;32m    207\u001b[0m         \u001b[1;34m\"\"\"Schedule a func to be run\"\"\"\u001b[0m\u001b[1;33m\u001b[0m\u001b[1;33m\u001b[0m\u001b[0m\n\u001b[1;32m--> 208\u001b[1;33m         \u001b[0mresult\u001b[0m \u001b[1;33m=\u001b[0m \u001b[0mImmediateResult\u001b[0m\u001b[1;33m(\u001b[0m\u001b[0mfunc\u001b[0m\u001b[1;33m)\u001b[0m\u001b[1;33m\u001b[0m\u001b[1;33m\u001b[0m\u001b[0m\n\u001b[0m\u001b[0;32m    209\u001b[0m         \u001b[1;32mif\u001b[0m \u001b[0mcallback\u001b[0m\u001b[1;33m:\u001b[0m\u001b[1;33m\u001b[0m\u001b[1;33m\u001b[0m\u001b[0m\n\u001b[0;32m    210\u001b[0m             \u001b[0mcallback\u001b[0m\u001b[1;33m(\u001b[0m\u001b[0mresult\u001b[0m\u001b[1;33m)\u001b[0m\u001b[1;33m\u001b[0m\u001b[1;33m\u001b[0m\u001b[0m\n",
      "\u001b[1;32mC:\\ProgramData\\Anaconda3\\lib\\site-packages\\joblib\\_parallel_backends.py\u001b[0m in \u001b[0;36m__init__\u001b[1;34m(self, batch)\u001b[0m\n\u001b[0;32m    570\u001b[0m         \u001b[1;31m# Don't delay the application, to avoid keeping the input\u001b[0m\u001b[1;33m\u001b[0m\u001b[1;33m\u001b[0m\u001b[1;33m\u001b[0m\u001b[0m\n\u001b[0;32m    571\u001b[0m         \u001b[1;31m# arguments in memory\u001b[0m\u001b[1;33m\u001b[0m\u001b[1;33m\u001b[0m\u001b[1;33m\u001b[0m\u001b[0m\n\u001b[1;32m--> 572\u001b[1;33m         \u001b[0mself\u001b[0m\u001b[1;33m.\u001b[0m\u001b[0mresults\u001b[0m \u001b[1;33m=\u001b[0m \u001b[0mbatch\u001b[0m\u001b[1;33m(\u001b[0m\u001b[1;33m)\u001b[0m\u001b[1;33m\u001b[0m\u001b[1;33m\u001b[0m\u001b[0m\n\u001b[0m\u001b[0;32m    573\u001b[0m \u001b[1;33m\u001b[0m\u001b[0m\n\u001b[0;32m    574\u001b[0m     \u001b[1;32mdef\u001b[0m \u001b[0mget\u001b[0m\u001b[1;33m(\u001b[0m\u001b[0mself\u001b[0m\u001b[1;33m)\u001b[0m\u001b[1;33m:\u001b[0m\u001b[1;33m\u001b[0m\u001b[1;33m\u001b[0m\u001b[0m\n",
      "\u001b[1;32mC:\\ProgramData\\Anaconda3\\lib\\site-packages\\joblib\\parallel.py\u001b[0m in \u001b[0;36m__call__\u001b[1;34m(self)\u001b[0m\n\u001b[0;32m    260\u001b[0m         \u001b[1;31m# change the default number of processes to -1\u001b[0m\u001b[1;33m\u001b[0m\u001b[1;33m\u001b[0m\u001b[1;33m\u001b[0m\u001b[0m\n\u001b[0;32m    261\u001b[0m         \u001b[1;32mwith\u001b[0m \u001b[0mparallel_backend\u001b[0m\u001b[1;33m(\u001b[0m\u001b[0mself\u001b[0m\u001b[1;33m.\u001b[0m\u001b[0m_backend\u001b[0m\u001b[1;33m,\u001b[0m \u001b[0mn_jobs\u001b[0m\u001b[1;33m=\u001b[0m\u001b[0mself\u001b[0m\u001b[1;33m.\u001b[0m\u001b[0m_n_jobs\u001b[0m\u001b[1;33m)\u001b[0m\u001b[1;33m:\u001b[0m\u001b[1;33m\u001b[0m\u001b[1;33m\u001b[0m\u001b[0m\n\u001b[1;32m--> 262\u001b[1;33m             return [func(*args, **kwargs)\n\u001b[0m\u001b[0;32m    263\u001b[0m                     for func, args, kwargs in self.items]\n\u001b[0;32m    264\u001b[0m \u001b[1;33m\u001b[0m\u001b[0m\n",
      "\u001b[1;32mC:\\ProgramData\\Anaconda3\\lib\\site-packages\\joblib\\parallel.py\u001b[0m in \u001b[0;36m<listcomp>\u001b[1;34m(.0)\u001b[0m\n\u001b[0;32m    260\u001b[0m         \u001b[1;31m# change the default number of processes to -1\u001b[0m\u001b[1;33m\u001b[0m\u001b[1;33m\u001b[0m\u001b[1;33m\u001b[0m\u001b[0m\n\u001b[0;32m    261\u001b[0m         \u001b[1;32mwith\u001b[0m \u001b[0mparallel_backend\u001b[0m\u001b[1;33m(\u001b[0m\u001b[0mself\u001b[0m\u001b[1;33m.\u001b[0m\u001b[0m_backend\u001b[0m\u001b[1;33m,\u001b[0m \u001b[0mn_jobs\u001b[0m\u001b[1;33m=\u001b[0m\u001b[0mself\u001b[0m\u001b[1;33m.\u001b[0m\u001b[0m_n_jobs\u001b[0m\u001b[1;33m)\u001b[0m\u001b[1;33m:\u001b[0m\u001b[1;33m\u001b[0m\u001b[1;33m\u001b[0m\u001b[0m\n\u001b[1;32m--> 262\u001b[1;33m             return [func(*args, **kwargs)\n\u001b[0m\u001b[0;32m    263\u001b[0m                     for func, args, kwargs in self.items]\n\u001b[0;32m    264\u001b[0m \u001b[1;33m\u001b[0m\u001b[0m\n",
      "\u001b[1;32mC:\\ProgramData\\Anaconda3\\lib\\site-packages\\sklearn\\ensemble\\_base.py\u001b[0m in \u001b[0;36m_fit_single_estimator\u001b[1;34m(estimator, X, y, sample_weight, message_clsname, message)\u001b[0m\n\u001b[0;32m     38\u001b[0m     \u001b[1;32melse\u001b[0m\u001b[1;33m:\u001b[0m\u001b[1;33m\u001b[0m\u001b[1;33m\u001b[0m\u001b[0m\n\u001b[0;32m     39\u001b[0m         \u001b[1;32mwith\u001b[0m \u001b[0m_print_elapsed_time\u001b[0m\u001b[1;33m(\u001b[0m\u001b[0mmessage_clsname\u001b[0m\u001b[1;33m,\u001b[0m \u001b[0mmessage\u001b[0m\u001b[1;33m)\u001b[0m\u001b[1;33m:\u001b[0m\u001b[1;33m\u001b[0m\u001b[1;33m\u001b[0m\u001b[0m\n\u001b[1;32m---> 40\u001b[1;33m             \u001b[0mestimator\u001b[0m\u001b[1;33m.\u001b[0m\u001b[0mfit\u001b[0m\u001b[1;33m(\u001b[0m\u001b[0mX\u001b[0m\u001b[1;33m,\u001b[0m \u001b[0my\u001b[0m\u001b[1;33m)\u001b[0m\u001b[1;33m\u001b[0m\u001b[1;33m\u001b[0m\u001b[0m\n\u001b[0m\u001b[0;32m     41\u001b[0m     \u001b[1;32mreturn\u001b[0m \u001b[0mestimator\u001b[0m\u001b[1;33m\u001b[0m\u001b[1;33m\u001b[0m\u001b[0m\n\u001b[0;32m     42\u001b[0m \u001b[1;33m\u001b[0m\u001b[0m\n",
      "\u001b[1;32mC:\\ProgramData\\Anaconda3\\lib\\site-packages\\sklearn\\ensemble\\_gb.py\u001b[0m in \u001b[0;36mfit\u001b[1;34m(self, X, y, sample_weight, monitor)\u001b[0m\n\u001b[0;32m    496\u001b[0m \u001b[1;33m\u001b[0m\u001b[0m\n\u001b[0;32m    497\u001b[0m         \u001b[1;31m# fit the boosting stages\u001b[0m\u001b[1;33m\u001b[0m\u001b[1;33m\u001b[0m\u001b[1;33m\u001b[0m\u001b[0m\n\u001b[1;32m--> 498\u001b[1;33m         n_stages = self._fit_stages(\n\u001b[0m\u001b[0;32m    499\u001b[0m             \u001b[0mX\u001b[0m\u001b[1;33m,\u001b[0m \u001b[0my\u001b[0m\u001b[1;33m,\u001b[0m \u001b[0mraw_predictions\u001b[0m\u001b[1;33m,\u001b[0m \u001b[0msample_weight\u001b[0m\u001b[1;33m,\u001b[0m \u001b[0mself\u001b[0m\u001b[1;33m.\u001b[0m\u001b[0m_rng\u001b[0m\u001b[1;33m,\u001b[0m \u001b[0mX_val\u001b[0m\u001b[1;33m,\u001b[0m \u001b[0my_val\u001b[0m\u001b[1;33m,\u001b[0m\u001b[1;33m\u001b[0m\u001b[1;33m\u001b[0m\u001b[0m\n\u001b[0;32m    500\u001b[0m             sample_weight_val, begin_at_stage, monitor, X_idx_sorted)\n",
      "\u001b[1;32mC:\\ProgramData\\Anaconda3\\lib\\site-packages\\sklearn\\ensemble\\_gb.py\u001b[0m in \u001b[0;36m_fit_stages\u001b[1;34m(self, X, y, raw_predictions, sample_weight, random_state, X_val, y_val, sample_weight_val, begin_at_stage, monitor, X_idx_sorted)\u001b[0m\n\u001b[0;32m    553\u001b[0m \u001b[1;33m\u001b[0m\u001b[0m\n\u001b[0;32m    554\u001b[0m             \u001b[1;31m# fit next stage of trees\u001b[0m\u001b[1;33m\u001b[0m\u001b[1;33m\u001b[0m\u001b[1;33m\u001b[0m\u001b[0m\n\u001b[1;32m--> 555\u001b[1;33m             raw_predictions = self._fit_stage(\n\u001b[0m\u001b[0;32m    556\u001b[0m                 \u001b[0mi\u001b[0m\u001b[1;33m,\u001b[0m \u001b[0mX\u001b[0m\u001b[1;33m,\u001b[0m \u001b[0my\u001b[0m\u001b[1;33m,\u001b[0m \u001b[0mraw_predictions\u001b[0m\u001b[1;33m,\u001b[0m \u001b[0msample_weight\u001b[0m\u001b[1;33m,\u001b[0m \u001b[0msample_mask\u001b[0m\u001b[1;33m,\u001b[0m\u001b[1;33m\u001b[0m\u001b[1;33m\u001b[0m\u001b[0m\n\u001b[0;32m    557\u001b[0m                 random_state, X_idx_sorted, X_csc, X_csr)\n",
      "\u001b[1;32mC:\\ProgramData\\Anaconda3\\lib\\site-packages\\sklearn\\ensemble\\_gb.py\u001b[0m in \u001b[0;36m_fit_stage\u001b[1;34m(self, i, X, y, raw_predictions, sample_weight, sample_mask, random_state, X_idx_sorted, X_csc, X_csr)\u001b[0m\n\u001b[0;32m    209\u001b[0m \u001b[1;33m\u001b[0m\u001b[0m\n\u001b[0;32m    210\u001b[0m             \u001b[0mX\u001b[0m \u001b[1;33m=\u001b[0m \u001b[0mX_csr\u001b[0m \u001b[1;32mif\u001b[0m \u001b[0mX_csr\u001b[0m \u001b[1;32mis\u001b[0m \u001b[1;32mnot\u001b[0m \u001b[1;32mNone\u001b[0m \u001b[1;32melse\u001b[0m \u001b[0mX\u001b[0m\u001b[1;33m\u001b[0m\u001b[1;33m\u001b[0m\u001b[0m\n\u001b[1;32m--> 211\u001b[1;33m             tree.fit(X, residual, sample_weight=sample_weight,\n\u001b[0m\u001b[0;32m    212\u001b[0m                      check_input=False, X_idx_sorted=X_idx_sorted)\n\u001b[0;32m    213\u001b[0m \u001b[1;33m\u001b[0m\u001b[0m\n",
      "\u001b[1;32mC:\\ProgramData\\Anaconda3\\lib\\site-packages\\sklearn\\tree\\_classes.py\u001b[0m in \u001b[0;36mfit\u001b[1;34m(self, X, y, sample_weight, check_input, X_idx_sorted)\u001b[0m\n\u001b[0;32m   1240\u001b[0m         \"\"\"\n\u001b[0;32m   1241\u001b[0m \u001b[1;33m\u001b[0m\u001b[0m\n\u001b[1;32m-> 1242\u001b[1;33m         super().fit(\n\u001b[0m\u001b[0;32m   1243\u001b[0m             \u001b[0mX\u001b[0m\u001b[1;33m,\u001b[0m \u001b[0my\u001b[0m\u001b[1;33m,\u001b[0m\u001b[1;33m\u001b[0m\u001b[1;33m\u001b[0m\u001b[0m\n\u001b[0;32m   1244\u001b[0m             \u001b[0msample_weight\u001b[0m\u001b[1;33m=\u001b[0m\u001b[0msample_weight\u001b[0m\u001b[1;33m,\u001b[0m\u001b[1;33m\u001b[0m\u001b[1;33m\u001b[0m\u001b[0m\n",
      "\u001b[1;32mC:\\ProgramData\\Anaconda3\\lib\\site-packages\\sklearn\\tree\\_classes.py\u001b[0m in \u001b[0;36mfit\u001b[1;34m(self, X, y, sample_weight, check_input, X_idx_sorted)\u001b[0m\n\u001b[0;32m    373\u001b[0m                                            min_impurity_split)\n\u001b[0;32m    374\u001b[0m \u001b[1;33m\u001b[0m\u001b[0m\n\u001b[1;32m--> 375\u001b[1;33m         \u001b[0mbuilder\u001b[0m\u001b[1;33m.\u001b[0m\u001b[0mbuild\u001b[0m\u001b[1;33m(\u001b[0m\u001b[0mself\u001b[0m\u001b[1;33m.\u001b[0m\u001b[0mtree_\u001b[0m\u001b[1;33m,\u001b[0m \u001b[0mX\u001b[0m\u001b[1;33m,\u001b[0m \u001b[0my\u001b[0m\u001b[1;33m,\u001b[0m \u001b[0msample_weight\u001b[0m\u001b[1;33m,\u001b[0m \u001b[0mX_idx_sorted\u001b[0m\u001b[1;33m)\u001b[0m\u001b[1;33m\u001b[0m\u001b[1;33m\u001b[0m\u001b[0m\n\u001b[0m\u001b[0;32m    376\u001b[0m \u001b[1;33m\u001b[0m\u001b[0m\n\u001b[0;32m    377\u001b[0m         \u001b[1;32mif\u001b[0m \u001b[0mself\u001b[0m\u001b[1;33m.\u001b[0m\u001b[0mn_outputs_\u001b[0m \u001b[1;33m==\u001b[0m \u001b[1;36m1\u001b[0m \u001b[1;32mand\u001b[0m \u001b[0mis_classifier\u001b[0m\u001b[1;33m(\u001b[0m\u001b[0mself\u001b[0m\u001b[1;33m)\u001b[0m\u001b[1;33m:\u001b[0m\u001b[1;33m\u001b[0m\u001b[1;33m\u001b[0m\u001b[0m\n",
      "\u001b[1;31mKeyboardInterrupt\u001b[0m: "
     ]
    }
   ],
   "source": [
    "reg5 = StackingRegressor(estimators=estimators)\n",
    "reg5.fit(X_train, np.log(y_train))\n"
   ]
  },
  {
   "cell_type": "code",
   "execution_count": null,
   "metadata": {},
   "outputs": [],
   "source": [
    "predict_test = np.exp(reg5.predict(X_test))\n",
    "predict_submission = np.exp(reg5.predict(X_sub))\n"
   ]
  },
  {
   "cell_type": "code",
   "execution_count": null,
   "metadata": {},
   "outputs": [],
   "source": [
    "print(f\"Точность модели по метрике MAPE: {(mape(y_test, predict_test))*100:0.2f}%\")"
   ]
  },
  {
   "cell_type": "code",
   "execution_count": null,
   "metadata": {},
   "outputs": [],
   "source": [
    "sample_submission['price'] = predict_submission\n",
    "sample_submission.to_csv('submission_1029st.csv', index=False)\n",
    "            "
   ]
  },
  {
   "cell_type": "code",
   "execution_count": null,
   "metadata": {},
   "outputs": [],
   "source": []
  }
 ],
 "metadata": {
  "kernelspec": {
   "display_name": "Python 3",
   "language": "python",
   "name": "python3"
  },
  "language_info": {
   "codemirror_mode": {
    "name": "ipython",
    "version": 3
   },
   "file_extension": ".py",
   "mimetype": "text/x-python",
   "name": "python",
   "nbconvert_exporter": "python",
   "pygments_lexer": "ipython3",
   "version": "3.8.5"
  }
 },
 "nbformat": 4,
 "nbformat_minor": 4
}
